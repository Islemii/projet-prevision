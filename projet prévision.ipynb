{
 "cells": [
  {
   "cell_type": "markdown",
   "id": "c967127f-ecaf-431c-8504-ba68be07fd21",
   "metadata": {},
   "source": [
    "# <center>**Projet Prévision**: <font color=green>Développement des modéles et intérpretation des résultats (exercice1 et exercice2)"
   ]
  },
  {
   "cell_type": "markdown",
   "id": "d4135bfa-0d88-4b76-96d9-7b62116f161c",
   "metadata": {},
   "source": [
    "### <center>Elaborér par:<font color=blue> **Islem Ben Hassouna - 3BD2**"
   ]
  },
  {
   "cell_type": "markdown",
   "id": "3a9f5125-5ea6-45e3-afbe-fbb5980362f0",
   "metadata": {},
   "source": [
    "# **<font color=red>1)Exercice1**\n"
   ]
  },
  {
   "cell_type": "markdown",
   "id": "cb9c2c5a-4931-405e-888b-86077940fc3b",
   "metadata": {},
   "source": [
    "### <font color=blue>Exploration des données:"
   ]
  },
  {
   "cell_type": "code",
   "execution_count": 156,
   "id": "6ea18241-493d-464a-8910-447d08fa3454",
   "metadata": {
    "scrolled": true
   },
   "outputs": [],
   "source": [
    "library(readxl)\n",
    "data <- read_excel(\"exercice 1.xlsx\")"
   ]
  },
  {
   "cell_type": "code",
   "execution_count": 158,
   "id": "135e81e6-b298-485d-94bd-cabb82571e7b",
   "metadata": {
    "scrolled": true
   },
   "outputs": [
    {
     "data": {
      "text/html": [
       "<table class=\"dataframe\">\n",
       "<caption>A tibble: 91 × 24</caption>\n",
       "<thead>\n",
       "\t<tr><th scope=col>ID</th><th scope=col>sexe</th><th scope=col>Region</th><th scope=col>Age</th><th scope=col>etat_civil</th><th scope=col>N_educatif</th><th scope=col>Membre_famille</th><th scope=col>Revenu_famille</th><th scope=col>Revenu_Mensuelle</th><th scope=col>Redoublant</th><th scope=col>⋯</th><th scope=col>Niveau_educ_pere</th><th scope=col>Niveau_educ_mere</th><th scope=col>Sign_ecole</th><th scope=col>Endroit_freq</th><th scope=col>Ph_famille</th><th scope=col>Ricule_Prof</th><th scope=col>Ricule_collegue</th><th scope=col>Sensation_apres_ecole</th><th scope=col>Apres_repture_ecole</th><th scope=col>Violence</th></tr>\n",
       "\t<tr><th scope=col>&lt;dbl&gt;</th><th scope=col>&lt;dbl&gt;</th><th scope=col>&lt;dbl&gt;</th><th scope=col>&lt;dbl&gt;</th><th scope=col>&lt;dbl&gt;</th><th scope=col>&lt;dbl&gt;</th><th scope=col>&lt;dbl&gt;</th><th scope=col>&lt;dbl&gt;</th><th scope=col>&lt;dbl&gt;</th><th scope=col>&lt;dbl&gt;</th><th scope=col>⋯</th><th scope=col>&lt;dbl&gt;</th><th scope=col>&lt;dbl&gt;</th><th scope=col>&lt;dbl&gt;</th><th scope=col>&lt;dbl&gt;</th><th scope=col>&lt;dbl&gt;</th><th scope=col>&lt;dbl&gt;</th><th scope=col>&lt;dbl&gt;</th><th scope=col>&lt;dbl&gt;</th><th scope=col>&lt;dbl&gt;</th><th scope=col>&lt;dbl&gt;</th></tr>\n",
       "</thead>\n",
       "<tbody>\n",
       "\t<tr><td> 1</td><td>0</td><td>1</td><td>2</td><td>1</td><td>3</td><td> 5</td><td>0</td><td>  0</td><td>1</td><td>⋯</td><td>2</td><td>2</td><td>1</td><td>1</td><td>1</td><td>0</td><td>1</td><td>1</td><td>1</td><td>1</td></tr>\n",
       "\t<tr><td> 2</td><td>0</td><td>1</td><td>4</td><td>2</td><td>3</td><td> 5</td><td>0</td><td>  0</td><td>1</td><td>⋯</td><td>2</td><td>1</td><td>1</td><td>2</td><td>2</td><td>1</td><td>1</td><td>1</td><td>1</td><td>1</td></tr>\n",
       "\t<tr><td> 3</td><td>0</td><td>1</td><td>4</td><td>2</td><td>3</td><td>11</td><td>0</td><td>100</td><td>1</td><td>⋯</td><td>2</td><td>1</td><td>2</td><td>1</td><td>3</td><td>0</td><td>0</td><td>1</td><td>2</td><td>0</td></tr>\n",
       "\t<tr><td> 5</td><td>0</td><td>1</td><td>3</td><td>2</td><td>3</td><td> 4</td><td>0</td><td>  0</td><td>1</td><td>⋯</td><td>1</td><td>1</td><td>1</td><td>1</td><td>2</td><td>1</td><td>1</td><td>3</td><td>3</td><td>1</td></tr>\n",
       "\t<tr><td> 8</td><td>0</td><td>1</td><td>1</td><td>1</td><td>3</td><td> 5</td><td>1</td><td>  0</td><td>1</td><td>⋯</td><td>3</td><td>3</td><td>3</td><td>4</td><td>4</td><td>0</td><td>0</td><td>3</td><td>2</td><td>1</td></tr>\n",
       "\t<tr><td> 9</td><td>0</td><td>1</td><td>4</td><td>3</td><td>3</td><td> 4</td><td>1</td><td>100</td><td>0</td><td>⋯</td><td>2</td><td>3</td><td>4</td><td>1</td><td>4</td><td>1</td><td>1</td><td>1</td><td>2</td><td>0</td></tr>\n",
       "\t<tr><td>10</td><td>0</td><td>1</td><td>4</td><td>3</td><td>3</td><td> 7</td><td>0</td><td>100</td><td>1</td><td>⋯</td><td>2</td><td>1</td><td>2</td><td>3</td><td>2</td><td>1</td><td>0</td><td>1</td><td>4</td><td>0</td></tr>\n",
       "\t<tr><td>11</td><td>0</td><td>1</td><td>4</td><td>2</td><td>3</td><td> 8</td><td>0</td><td>  0</td><td>1</td><td>⋯</td><td>1</td><td>2</td><td>2</td><td>3</td><td>3</td><td>1</td><td>1</td><td>2</td><td>2</td><td>1</td></tr>\n",
       "\t<tr><td>12</td><td>0</td><td>1</td><td>4</td><td>2</td><td>3</td><td> 9</td><td>0</td><td>  0</td><td>1</td><td>⋯</td><td>2</td><td>1</td><td>2</td><td>2</td><td>3</td><td>0</td><td>0</td><td>1</td><td>3</td><td>0</td></tr>\n",
       "\t<tr><td>15</td><td>0</td><td>1</td><td>4</td><td>2</td><td>3</td><td>10</td><td>0</td><td>  0</td><td>1</td><td>⋯</td><td>2</td><td>2</td><td>2</td><td>3</td><td>3</td><td>1</td><td>0</td><td>2</td><td>2</td><td>0</td></tr>\n",
       "\t<tr><td>16</td><td>0</td><td>1</td><td>4</td><td>2</td><td>3</td><td> 8</td><td>0</td><td>  0</td><td>1</td><td>⋯</td><td>1</td><td>1</td><td>3</td><td>3</td><td>1</td><td>0</td><td>0</td><td>3</td><td>3</td><td>0</td></tr>\n",
       "\t<tr><td>17</td><td>0</td><td>1</td><td>4</td><td>2</td><td>3</td><td> 7</td><td>0</td><td>200</td><td>1</td><td>⋯</td><td>1</td><td>2</td><td>2</td><td>3</td><td>3</td><td>0</td><td>0</td><td>2</td><td>2</td><td>0</td></tr>\n",
       "\t<tr><td>19</td><td>0</td><td>1</td><td>3</td><td>2</td><td>3</td><td> 7</td><td>0</td><td>  0</td><td>1</td><td>⋯</td><td>2</td><td>2</td><td>1</td><td>2</td><td>3</td><td>1</td><td>0</td><td>3</td><td>2</td><td>0</td></tr>\n",
       "\t<tr><td>20</td><td>0</td><td>1</td><td>3</td><td>2</td><td>3</td><td> 6</td><td>0</td><td>300</td><td>1</td><td>⋯</td><td>2</td><td>1</td><td>2</td><td>5</td><td>1</td><td>0</td><td>0</td><td>1</td><td>2</td><td>0</td></tr>\n",
       "\t<tr><td>21</td><td>0</td><td>1</td><td>3</td><td>2</td><td>3</td><td> 4</td><td>0</td><td>150</td><td>0</td><td>⋯</td><td>2</td><td>2</td><td>2</td><td>2</td><td>1</td><td>0</td><td>0</td><td>2</td><td>3</td><td>0</td></tr>\n",
       "\t<tr><td>22</td><td>0</td><td>1</td><td>1</td><td>1</td><td>3</td><td> 3</td><td>0</td><td> 40</td><td>1</td><td>⋯</td><td>1</td><td>1</td><td>1</td><td>5</td><td>2</td><td>1</td><td>1</td><td>3</td><td>2</td><td>1</td></tr>\n",
       "\t<tr><td>23</td><td>0</td><td>1</td><td>2</td><td>2</td><td>3</td><td> 5</td><td>0</td><td>250</td><td>0</td><td>⋯</td><td>2</td><td>2</td><td>1</td><td>2</td><td>1</td><td>0</td><td>0</td><td>1</td><td>2</td><td>1</td></tr>\n",
       "\t<tr><td>24</td><td>0</td><td>1</td><td>1</td><td>1</td><td>2</td><td> 6</td><td>0</td><td>  0</td><td>1</td><td>⋯</td><td>1</td><td>1</td><td>2</td><td>1</td><td>3</td><td>0</td><td>0</td><td>2</td><td>1</td><td>0</td></tr>\n",
       "\t<tr><td>25</td><td>0</td><td>1</td><td>2</td><td>1</td><td>2</td><td> 6</td><td>0</td><td>  0</td><td>1</td><td>⋯</td><td>1</td><td>1</td><td>4</td><td>1</td><td>2</td><td>0</td><td>0</td><td>3</td><td>1</td><td>0</td></tr>\n",
       "\t<tr><td>26</td><td>0</td><td>1</td><td>1</td><td>1</td><td>2</td><td> 6</td><td>0</td><td>  0</td><td>1</td><td>⋯</td><td>1</td><td>1</td><td>2</td><td>1</td><td>3</td><td>0</td><td>1</td><td>1</td><td>1</td><td>0</td></tr>\n",
       "\t<tr><td>27</td><td>0</td><td>1</td><td>2</td><td>1</td><td>2</td><td> 5</td><td>1</td><td>  0</td><td>1</td><td>⋯</td><td>1</td><td>1</td><td>4</td><td>1</td><td>2</td><td>0</td><td>0</td><td>3</td><td>1</td><td>0</td></tr>\n",
       "\t<tr><td>28</td><td>0</td><td>1</td><td>4</td><td>1</td><td>1</td><td> 4</td><td>1</td><td>  0</td><td>1</td><td>⋯</td><td>1</td><td>1</td><td>4</td><td>1</td><td>2</td><td>0</td><td>0</td><td>3</td><td>4</td><td>0</td></tr>\n",
       "\t<tr><td>29</td><td>0</td><td>1</td><td>3</td><td>2</td><td>2</td><td> 6</td><td>1</td><td>450</td><td>1</td><td>⋯</td><td>2</td><td>2</td><td>4</td><td>2</td><td>2</td><td>1</td><td>1</td><td>1</td><td>2</td><td>1</td></tr>\n",
       "\t<tr><td>31</td><td>0</td><td>1</td><td>2</td><td>1</td><td>2</td><td> 7</td><td>1</td><td>350</td><td>1</td><td>⋯</td><td>2</td><td>1</td><td>2</td><td>2</td><td>1</td><td>0</td><td>0</td><td>1</td><td>2</td><td>0</td></tr>\n",
       "\t<tr><td>32</td><td>0</td><td>1</td><td>2</td><td>1</td><td>2</td><td> 7</td><td>1</td><td>350</td><td>1</td><td>⋯</td><td>2</td><td>1</td><td>2</td><td>1</td><td>1</td><td>0</td><td>0</td><td>1</td><td>2</td><td>0</td></tr>\n",
       "\t<tr><td>34</td><td>0</td><td>1</td><td>4</td><td>2</td><td>2</td><td> 9</td><td>0</td><td>  0</td><td>1</td><td>⋯</td><td>1</td><td>1</td><td>2</td><td>4</td><td>3</td><td>0</td><td>0</td><td>3</td><td>2</td><td>0</td></tr>\n",
       "\t<tr><td>35</td><td>0</td><td>1</td><td>3</td><td>1</td><td>2</td><td>10</td><td>0</td><td>140</td><td>1</td><td>⋯</td><td>1</td><td>1</td><td>1</td><td>1</td><td>4</td><td>0</td><td>0</td><td>2</td><td>4</td><td>0</td></tr>\n",
       "\t<tr><td>36</td><td>0</td><td>1</td><td>2</td><td>1</td><td>2</td><td> 4</td><td>0</td><td>200</td><td>1</td><td>⋯</td><td>1</td><td>1</td><td>4</td><td>1</td><td>3</td><td>0</td><td>0</td><td>3</td><td>1</td><td>0</td></tr>\n",
       "\t<tr><td>37</td><td>1</td><td>1</td><td>2</td><td>1</td><td>2</td><td> 6</td><td>0</td><td>600</td><td>1</td><td>⋯</td><td>1</td><td>1</td><td>1</td><td>2</td><td>3</td><td>1</td><td>1</td><td>3</td><td>2</td><td>0</td></tr>\n",
       "\t<tr><td>38</td><td>0</td><td>1</td><td>4</td><td>2</td><td>2</td><td> 6</td><td>0</td><td>300</td><td>1</td><td>⋯</td><td>1</td><td>1</td><td>3</td><td>1</td><td>3</td><td>0</td><td>0</td><td>2</td><td>3</td><td>0</td></tr>\n",
       "\t<tr><td>⋮</td><td>⋮</td><td>⋮</td><td>⋮</td><td>⋮</td><td>⋮</td><td>⋮</td><td>⋮</td><td>⋮</td><td>⋮</td><td>⋱</td><td>⋮</td><td>⋮</td><td>⋮</td><td>⋮</td><td>⋮</td><td>⋮</td><td>⋮</td><td>⋮</td><td>⋮</td><td>⋮</td></tr>\n",
       "\t<tr><td> 90</td><td>0</td><td>2</td><td>1</td><td>1</td><td>3</td><td> 5</td><td>0</td><td>600</td><td>1</td><td>⋯</td><td>1</td><td>1</td><td>2</td><td>1</td><td>2</td><td>0</td><td>0</td><td>1</td><td>1</td><td>1</td></tr>\n",
       "\t<tr><td> 91</td><td>0</td><td>2</td><td>1</td><td>1</td><td>2</td><td> 7</td><td>0</td><td>100</td><td>1</td><td>⋯</td><td>1</td><td>2</td><td>4</td><td>1</td><td>3</td><td>0</td><td>0</td><td>2</td><td>3</td><td>0</td></tr>\n",
       "\t<tr><td> 92</td><td>0</td><td>2</td><td>1</td><td>1</td><td>3</td><td> 4</td><td>1</td><td>380</td><td>1</td><td>⋯</td><td>2</td><td>1</td><td>3</td><td>4</td><td>1</td><td>0</td><td>0</td><td>1</td><td>1</td><td>1</td></tr>\n",
       "\t<tr><td> 95</td><td>0</td><td>2</td><td>1</td><td>1</td><td>3</td><td>10</td><td>0</td><td>  0</td><td>0</td><td>⋯</td><td>2</td><td>1</td><td>3</td><td>1</td><td>1</td><td>0</td><td>0</td><td>2</td><td>1</td><td>1</td></tr>\n",
       "\t<tr><td> 96</td><td>0</td><td>2</td><td>2</td><td>1</td><td>3</td><td> 5</td><td>0</td><td>  0</td><td>0</td><td>⋯</td><td>2</td><td>1</td><td>2</td><td>1</td><td>1</td><td>0</td><td>1</td><td>1</td><td>3</td><td>1</td></tr>\n",
       "\t<tr><td> 97</td><td>0</td><td>2</td><td>2</td><td>1</td><td>3</td><td>13</td><td>0</td><td>  0</td><td>1</td><td>⋯</td><td>3</td><td>1</td><td>1</td><td>5</td><td>3</td><td>0</td><td>1</td><td>2</td><td>2</td><td>0</td></tr>\n",
       "\t<tr><td>105</td><td>0</td><td>2</td><td>4</td><td>2</td><td>2</td><td> 6</td><td>0</td><td>500</td><td>1</td><td>⋯</td><td>1</td><td>1</td><td>4</td><td>6</td><td>3</td><td>0</td><td>0</td><td>2</td><td>4</td><td>0</td></tr>\n",
       "\t<tr><td>106</td><td>0</td><td>2</td><td>3</td><td>4</td><td>2</td><td> 5</td><td>1</td><td>700</td><td>1</td><td>⋯</td><td>3</td><td>2</td><td>4</td><td>6</td><td>2</td><td>0</td><td>0</td><td>3</td><td>3</td><td>0</td></tr>\n",
       "\t<tr><td>107</td><td>0</td><td>2</td><td>4</td><td>3</td><td>2</td><td> 4</td><td>1</td><td>300</td><td>1</td><td>⋯</td><td>2</td><td>2</td><td>3</td><td>1</td><td>4</td><td>0</td><td>0</td><td>2</td><td>2</td><td>0</td></tr>\n",
       "\t<tr><td>108</td><td>0</td><td>2</td><td>4</td><td>2</td><td>2</td><td> 5</td><td>0</td><td>300</td><td>1</td><td>⋯</td><td>2</td><td>1</td><td>4</td><td>6</td><td>3</td><td>0</td><td>0</td><td>2</td><td>2</td><td>0</td></tr>\n",
       "\t<tr><td>109</td><td>0</td><td>2</td><td>4</td><td>2</td><td>2</td><td> 8</td><td>0</td><td>300</td><td>0</td><td>⋯</td><td>2</td><td>1</td><td>3</td><td>6</td><td>3</td><td>0</td><td>0</td><td>2</td><td>2</td><td>0</td></tr>\n",
       "\t<tr><td>111</td><td>0</td><td>2</td><td>3</td><td>2</td><td>3</td><td> 8</td><td>1</td><td>400</td><td>1</td><td>⋯</td><td>3</td><td>1</td><td>2</td><td>4</td><td>3</td><td>0</td><td>0</td><td>2</td><td>3</td><td>0</td></tr>\n",
       "\t<tr><td>113</td><td>0</td><td>2</td><td>2</td><td>2</td><td>2</td><td> 5</td><td>0</td><td>  0</td><td>1</td><td>⋯</td><td>1</td><td>1</td><td>1</td><td>1</td><td>3</td><td>0</td><td>0</td><td>3</td><td>2</td><td>0</td></tr>\n",
       "\t<tr><td>114</td><td>0</td><td>2</td><td>2</td><td>2</td><td>2</td><td>10</td><td>0</td><td>  0</td><td>1</td><td>⋯</td><td>1</td><td>1</td><td>3</td><td>3</td><td>3</td><td>0</td><td>0</td><td>1</td><td>2</td><td>0</td></tr>\n",
       "\t<tr><td>115</td><td>0</td><td>2</td><td>2</td><td>1</td><td>3</td><td> 6</td><td>1</td><td>500</td><td>1</td><td>⋯</td><td>3</td><td>3</td><td>3</td><td>4</td><td>1</td><td>1</td><td>0</td><td>2</td><td>1</td><td>0</td></tr>\n",
       "\t<tr><td>117</td><td>0</td><td>2</td><td>2</td><td>1</td><td>3</td><td> 6</td><td>0</td><td>200</td><td>1</td><td>⋯</td><td>2</td><td>2</td><td>3</td><td>4</td><td>1</td><td>0</td><td>0</td><td>3</td><td>1</td><td>0</td></tr>\n",
       "\t<tr><td>122</td><td>0</td><td>2</td><td>2</td><td>1</td><td>3</td><td> 5</td><td>1</td><td>300</td><td>1</td><td>⋯</td><td>3</td><td>3</td><td>3</td><td>1</td><td>1</td><td>0</td><td>0</td><td>1</td><td>2</td><td>0</td></tr>\n",
       "\t<tr><td>124</td><td>0</td><td>2</td><td>2</td><td>1</td><td>2</td><td> 7</td><td>0</td><td>200</td><td>1</td><td>⋯</td><td>2</td><td>2</td><td>3</td><td>2</td><td>1</td><td>0</td><td>0</td><td>3</td><td>1</td><td>0</td></tr>\n",
       "\t<tr><td>135</td><td>0</td><td>2</td><td>2</td><td>1</td><td>2</td><td> 6</td><td>0</td><td>  0</td><td>1</td><td>⋯</td><td>2</td><td>2</td><td>3</td><td>4</td><td>1</td><td>1</td><td>1</td><td>2</td><td>1</td><td>1</td></tr>\n",
       "\t<tr><td>136</td><td>0</td><td>2</td><td>1</td><td>1</td><td>4</td><td> 6</td><td>0</td><td>  0</td><td>1</td><td>⋯</td><td>2</td><td>3</td><td>2</td><td>1</td><td>1</td><td>0</td><td>1</td><td>1</td><td>1</td><td>1</td></tr>\n",
       "\t<tr><td>137</td><td>0</td><td>2</td><td>2</td><td>1</td><td>2</td><td> 7</td><td>0</td><td>  0</td><td>1</td><td>⋯</td><td>3</td><td>1</td><td>2</td><td>2</td><td>3</td><td>1</td><td>1</td><td>2</td><td>1</td><td>1</td></tr>\n",
       "\t<tr><td>138</td><td>0</td><td>2</td><td>2</td><td>1</td><td>3</td><td> 7</td><td>0</td><td>  0</td><td>1</td><td>⋯</td><td>2</td><td>2</td><td>3</td><td>4</td><td>2</td><td>0</td><td>0</td><td>2</td><td>1</td><td>1</td></tr>\n",
       "\t<tr><td>139</td><td>0</td><td>2</td><td>2</td><td>1</td><td>3</td><td>10</td><td>0</td><td>500</td><td>0</td><td>⋯</td><td>3</td><td>2</td><td>3</td><td>2</td><td>1</td><td>0</td><td>0</td><td>2</td><td>1</td><td>0</td></tr>\n",
       "\t<tr><td>140</td><td>0</td><td>2</td><td>4</td><td>1</td><td>2</td><td> 5</td><td>1</td><td>150</td><td>0</td><td>⋯</td><td>2</td><td>2</td><td>2</td><td>1</td><td>3</td><td>0</td><td>0</td><td>2</td><td>3</td><td>0</td></tr>\n",
       "\t<tr><td>141</td><td>0</td><td>2</td><td>4</td><td>1</td><td>2</td><td> 5</td><td>1</td><td>150</td><td>0</td><td>⋯</td><td>2</td><td>2</td><td>2</td><td>1</td><td>3</td><td>0</td><td>0</td><td>2</td><td>4</td><td>0</td></tr>\n",
       "\t<tr><td>143</td><td>0</td><td>2</td><td>1</td><td>1</td><td>3</td><td> 4</td><td>0</td><td>  0</td><td>0</td><td>⋯</td><td>3</td><td>3</td><td>3</td><td>5</td><td>1</td><td>0</td><td>0</td><td>1</td><td>1</td><td>1</td></tr>\n",
       "\t<tr><td>144</td><td>0</td><td>2</td><td>1</td><td>1</td><td>3</td><td> 8</td><td>0</td><td>  0</td><td>0</td><td>⋯</td><td>3</td><td>2</td><td>2</td><td>1</td><td>1</td><td>1</td><td>1</td><td>1</td><td>1</td><td>1</td></tr>\n",
       "\t<tr><td>145</td><td>0</td><td>2</td><td>1</td><td>1</td><td>2</td><td> 4</td><td>0</td><td>  0</td><td>0</td><td>⋯</td><td>3</td><td>3</td><td>3</td><td>1</td><td>1</td><td>1</td><td>0</td><td>1</td><td>1</td><td>1</td></tr>\n",
       "\t<tr><td>147</td><td>0</td><td>2</td><td>1</td><td>1</td><td>4</td><td> 5</td><td>1</td><td>900</td><td>1</td><td>⋯</td><td>2</td><td>1</td><td>3</td><td>2</td><td>1</td><td>0</td><td>0</td><td>2</td><td>1</td><td>0</td></tr>\n",
       "\t<tr><td>148</td><td>0</td><td>2</td><td>1</td><td>1</td><td>4</td><td> 6</td><td>1</td><td> 80</td><td>1</td><td>⋯</td><td>2</td><td>2</td><td>2</td><td>4</td><td>4</td><td>0</td><td>0</td><td>1</td><td>1</td><td>0</td></tr>\n",
       "</tbody>\n",
       "</table>\n"
      ],
      "text/latex": [
       "A tibble: 91 × 24\n",
       "\\begin{tabular}{lllllllllllllllllllll}\n",
       " ID & sexe & Region & Age & etat\\_civil & N\\_educatif & Membre\\_famille & Revenu\\_famille & Revenu\\_Mensuelle & Redoublant & ⋯ & Niveau\\_educ\\_pere & Niveau\\_educ\\_mere & Sign\\_ecole & Endroit\\_freq & Ph\\_famille & Ricule\\_Prof & Ricule\\_collegue & Sensation\\_apres\\_ecole & Apres\\_repture\\_ecole & Violence\\\\\n",
       " <dbl> & <dbl> & <dbl> & <dbl> & <dbl> & <dbl> & <dbl> & <dbl> & <dbl> & <dbl> & ⋯ & <dbl> & <dbl> & <dbl> & <dbl> & <dbl> & <dbl> & <dbl> & <dbl> & <dbl> & <dbl>\\\\\n",
       "\\hline\n",
       "\t  1 & 0 & 1 & 2 & 1 & 3 &  5 & 0 &   0 & 1 & ⋯ & 2 & 2 & 1 & 1 & 1 & 0 & 1 & 1 & 1 & 1\\\\\n",
       "\t  2 & 0 & 1 & 4 & 2 & 3 &  5 & 0 &   0 & 1 & ⋯ & 2 & 1 & 1 & 2 & 2 & 1 & 1 & 1 & 1 & 1\\\\\n",
       "\t  3 & 0 & 1 & 4 & 2 & 3 & 11 & 0 & 100 & 1 & ⋯ & 2 & 1 & 2 & 1 & 3 & 0 & 0 & 1 & 2 & 0\\\\\n",
       "\t  5 & 0 & 1 & 3 & 2 & 3 &  4 & 0 &   0 & 1 & ⋯ & 1 & 1 & 1 & 1 & 2 & 1 & 1 & 3 & 3 & 1\\\\\n",
       "\t  8 & 0 & 1 & 1 & 1 & 3 &  5 & 1 &   0 & 1 & ⋯ & 3 & 3 & 3 & 4 & 4 & 0 & 0 & 3 & 2 & 1\\\\\n",
       "\t  9 & 0 & 1 & 4 & 3 & 3 &  4 & 1 & 100 & 0 & ⋯ & 2 & 3 & 4 & 1 & 4 & 1 & 1 & 1 & 2 & 0\\\\\n",
       "\t 10 & 0 & 1 & 4 & 3 & 3 &  7 & 0 & 100 & 1 & ⋯ & 2 & 1 & 2 & 3 & 2 & 1 & 0 & 1 & 4 & 0\\\\\n",
       "\t 11 & 0 & 1 & 4 & 2 & 3 &  8 & 0 &   0 & 1 & ⋯ & 1 & 2 & 2 & 3 & 3 & 1 & 1 & 2 & 2 & 1\\\\\n",
       "\t 12 & 0 & 1 & 4 & 2 & 3 &  9 & 0 &   0 & 1 & ⋯ & 2 & 1 & 2 & 2 & 3 & 0 & 0 & 1 & 3 & 0\\\\\n",
       "\t 15 & 0 & 1 & 4 & 2 & 3 & 10 & 0 &   0 & 1 & ⋯ & 2 & 2 & 2 & 3 & 3 & 1 & 0 & 2 & 2 & 0\\\\\n",
       "\t 16 & 0 & 1 & 4 & 2 & 3 &  8 & 0 &   0 & 1 & ⋯ & 1 & 1 & 3 & 3 & 1 & 0 & 0 & 3 & 3 & 0\\\\\n",
       "\t 17 & 0 & 1 & 4 & 2 & 3 &  7 & 0 & 200 & 1 & ⋯ & 1 & 2 & 2 & 3 & 3 & 0 & 0 & 2 & 2 & 0\\\\\n",
       "\t 19 & 0 & 1 & 3 & 2 & 3 &  7 & 0 &   0 & 1 & ⋯ & 2 & 2 & 1 & 2 & 3 & 1 & 0 & 3 & 2 & 0\\\\\n",
       "\t 20 & 0 & 1 & 3 & 2 & 3 &  6 & 0 & 300 & 1 & ⋯ & 2 & 1 & 2 & 5 & 1 & 0 & 0 & 1 & 2 & 0\\\\\n",
       "\t 21 & 0 & 1 & 3 & 2 & 3 &  4 & 0 & 150 & 0 & ⋯ & 2 & 2 & 2 & 2 & 1 & 0 & 0 & 2 & 3 & 0\\\\\n",
       "\t 22 & 0 & 1 & 1 & 1 & 3 &  3 & 0 &  40 & 1 & ⋯ & 1 & 1 & 1 & 5 & 2 & 1 & 1 & 3 & 2 & 1\\\\\n",
       "\t 23 & 0 & 1 & 2 & 2 & 3 &  5 & 0 & 250 & 0 & ⋯ & 2 & 2 & 1 & 2 & 1 & 0 & 0 & 1 & 2 & 1\\\\\n",
       "\t 24 & 0 & 1 & 1 & 1 & 2 &  6 & 0 &   0 & 1 & ⋯ & 1 & 1 & 2 & 1 & 3 & 0 & 0 & 2 & 1 & 0\\\\\n",
       "\t 25 & 0 & 1 & 2 & 1 & 2 &  6 & 0 &   0 & 1 & ⋯ & 1 & 1 & 4 & 1 & 2 & 0 & 0 & 3 & 1 & 0\\\\\n",
       "\t 26 & 0 & 1 & 1 & 1 & 2 &  6 & 0 &   0 & 1 & ⋯ & 1 & 1 & 2 & 1 & 3 & 0 & 1 & 1 & 1 & 0\\\\\n",
       "\t 27 & 0 & 1 & 2 & 1 & 2 &  5 & 1 &   0 & 1 & ⋯ & 1 & 1 & 4 & 1 & 2 & 0 & 0 & 3 & 1 & 0\\\\\n",
       "\t 28 & 0 & 1 & 4 & 1 & 1 &  4 & 1 &   0 & 1 & ⋯ & 1 & 1 & 4 & 1 & 2 & 0 & 0 & 3 & 4 & 0\\\\\n",
       "\t 29 & 0 & 1 & 3 & 2 & 2 &  6 & 1 & 450 & 1 & ⋯ & 2 & 2 & 4 & 2 & 2 & 1 & 1 & 1 & 2 & 1\\\\\n",
       "\t 31 & 0 & 1 & 2 & 1 & 2 &  7 & 1 & 350 & 1 & ⋯ & 2 & 1 & 2 & 2 & 1 & 0 & 0 & 1 & 2 & 0\\\\\n",
       "\t 32 & 0 & 1 & 2 & 1 & 2 &  7 & 1 & 350 & 1 & ⋯ & 2 & 1 & 2 & 1 & 1 & 0 & 0 & 1 & 2 & 0\\\\\n",
       "\t 34 & 0 & 1 & 4 & 2 & 2 &  9 & 0 &   0 & 1 & ⋯ & 1 & 1 & 2 & 4 & 3 & 0 & 0 & 3 & 2 & 0\\\\\n",
       "\t 35 & 0 & 1 & 3 & 1 & 2 & 10 & 0 & 140 & 1 & ⋯ & 1 & 1 & 1 & 1 & 4 & 0 & 0 & 2 & 4 & 0\\\\\n",
       "\t 36 & 0 & 1 & 2 & 1 & 2 &  4 & 0 & 200 & 1 & ⋯ & 1 & 1 & 4 & 1 & 3 & 0 & 0 & 3 & 1 & 0\\\\\n",
       "\t 37 & 1 & 1 & 2 & 1 & 2 &  6 & 0 & 600 & 1 & ⋯ & 1 & 1 & 1 & 2 & 3 & 1 & 1 & 3 & 2 & 0\\\\\n",
       "\t 38 & 0 & 1 & 4 & 2 & 2 &  6 & 0 & 300 & 1 & ⋯ & 1 & 1 & 3 & 1 & 3 & 0 & 0 & 2 & 3 & 0\\\\\n",
       "\t ⋮ & ⋮ & ⋮ & ⋮ & ⋮ & ⋮ & ⋮ & ⋮ & ⋮ & ⋮ & ⋱ & ⋮ & ⋮ & ⋮ & ⋮ & ⋮ & ⋮ & ⋮ & ⋮ & ⋮ & ⋮\\\\\n",
       "\t  90 & 0 & 2 & 1 & 1 & 3 &  5 & 0 & 600 & 1 & ⋯ & 1 & 1 & 2 & 1 & 2 & 0 & 0 & 1 & 1 & 1\\\\\n",
       "\t  91 & 0 & 2 & 1 & 1 & 2 &  7 & 0 & 100 & 1 & ⋯ & 1 & 2 & 4 & 1 & 3 & 0 & 0 & 2 & 3 & 0\\\\\n",
       "\t  92 & 0 & 2 & 1 & 1 & 3 &  4 & 1 & 380 & 1 & ⋯ & 2 & 1 & 3 & 4 & 1 & 0 & 0 & 1 & 1 & 1\\\\\n",
       "\t  95 & 0 & 2 & 1 & 1 & 3 & 10 & 0 &   0 & 0 & ⋯ & 2 & 1 & 3 & 1 & 1 & 0 & 0 & 2 & 1 & 1\\\\\n",
       "\t  96 & 0 & 2 & 2 & 1 & 3 &  5 & 0 &   0 & 0 & ⋯ & 2 & 1 & 2 & 1 & 1 & 0 & 1 & 1 & 3 & 1\\\\\n",
       "\t  97 & 0 & 2 & 2 & 1 & 3 & 13 & 0 &   0 & 1 & ⋯ & 3 & 1 & 1 & 5 & 3 & 0 & 1 & 2 & 2 & 0\\\\\n",
       "\t 105 & 0 & 2 & 4 & 2 & 2 &  6 & 0 & 500 & 1 & ⋯ & 1 & 1 & 4 & 6 & 3 & 0 & 0 & 2 & 4 & 0\\\\\n",
       "\t 106 & 0 & 2 & 3 & 4 & 2 &  5 & 1 & 700 & 1 & ⋯ & 3 & 2 & 4 & 6 & 2 & 0 & 0 & 3 & 3 & 0\\\\\n",
       "\t 107 & 0 & 2 & 4 & 3 & 2 &  4 & 1 & 300 & 1 & ⋯ & 2 & 2 & 3 & 1 & 4 & 0 & 0 & 2 & 2 & 0\\\\\n",
       "\t 108 & 0 & 2 & 4 & 2 & 2 &  5 & 0 & 300 & 1 & ⋯ & 2 & 1 & 4 & 6 & 3 & 0 & 0 & 2 & 2 & 0\\\\\n",
       "\t 109 & 0 & 2 & 4 & 2 & 2 &  8 & 0 & 300 & 0 & ⋯ & 2 & 1 & 3 & 6 & 3 & 0 & 0 & 2 & 2 & 0\\\\\n",
       "\t 111 & 0 & 2 & 3 & 2 & 3 &  8 & 1 & 400 & 1 & ⋯ & 3 & 1 & 2 & 4 & 3 & 0 & 0 & 2 & 3 & 0\\\\\n",
       "\t 113 & 0 & 2 & 2 & 2 & 2 &  5 & 0 &   0 & 1 & ⋯ & 1 & 1 & 1 & 1 & 3 & 0 & 0 & 3 & 2 & 0\\\\\n",
       "\t 114 & 0 & 2 & 2 & 2 & 2 & 10 & 0 &   0 & 1 & ⋯ & 1 & 1 & 3 & 3 & 3 & 0 & 0 & 1 & 2 & 0\\\\\n",
       "\t 115 & 0 & 2 & 2 & 1 & 3 &  6 & 1 & 500 & 1 & ⋯ & 3 & 3 & 3 & 4 & 1 & 1 & 0 & 2 & 1 & 0\\\\\n",
       "\t 117 & 0 & 2 & 2 & 1 & 3 &  6 & 0 & 200 & 1 & ⋯ & 2 & 2 & 3 & 4 & 1 & 0 & 0 & 3 & 1 & 0\\\\\n",
       "\t 122 & 0 & 2 & 2 & 1 & 3 &  5 & 1 & 300 & 1 & ⋯ & 3 & 3 & 3 & 1 & 1 & 0 & 0 & 1 & 2 & 0\\\\\n",
       "\t 124 & 0 & 2 & 2 & 1 & 2 &  7 & 0 & 200 & 1 & ⋯ & 2 & 2 & 3 & 2 & 1 & 0 & 0 & 3 & 1 & 0\\\\\n",
       "\t 135 & 0 & 2 & 2 & 1 & 2 &  6 & 0 &   0 & 1 & ⋯ & 2 & 2 & 3 & 4 & 1 & 1 & 1 & 2 & 1 & 1\\\\\n",
       "\t 136 & 0 & 2 & 1 & 1 & 4 &  6 & 0 &   0 & 1 & ⋯ & 2 & 3 & 2 & 1 & 1 & 0 & 1 & 1 & 1 & 1\\\\\n",
       "\t 137 & 0 & 2 & 2 & 1 & 2 &  7 & 0 &   0 & 1 & ⋯ & 3 & 1 & 2 & 2 & 3 & 1 & 1 & 2 & 1 & 1\\\\\n",
       "\t 138 & 0 & 2 & 2 & 1 & 3 &  7 & 0 &   0 & 1 & ⋯ & 2 & 2 & 3 & 4 & 2 & 0 & 0 & 2 & 1 & 1\\\\\n",
       "\t 139 & 0 & 2 & 2 & 1 & 3 & 10 & 0 & 500 & 0 & ⋯ & 3 & 2 & 3 & 2 & 1 & 0 & 0 & 2 & 1 & 0\\\\\n",
       "\t 140 & 0 & 2 & 4 & 1 & 2 &  5 & 1 & 150 & 0 & ⋯ & 2 & 2 & 2 & 1 & 3 & 0 & 0 & 2 & 3 & 0\\\\\n",
       "\t 141 & 0 & 2 & 4 & 1 & 2 &  5 & 1 & 150 & 0 & ⋯ & 2 & 2 & 2 & 1 & 3 & 0 & 0 & 2 & 4 & 0\\\\\n",
       "\t 143 & 0 & 2 & 1 & 1 & 3 &  4 & 0 &   0 & 0 & ⋯ & 3 & 3 & 3 & 5 & 1 & 0 & 0 & 1 & 1 & 1\\\\\n",
       "\t 144 & 0 & 2 & 1 & 1 & 3 &  8 & 0 &   0 & 0 & ⋯ & 3 & 2 & 2 & 1 & 1 & 1 & 1 & 1 & 1 & 1\\\\\n",
       "\t 145 & 0 & 2 & 1 & 1 & 2 &  4 & 0 &   0 & 0 & ⋯ & 3 & 3 & 3 & 1 & 1 & 1 & 0 & 1 & 1 & 1\\\\\n",
       "\t 147 & 0 & 2 & 1 & 1 & 4 &  5 & 1 & 900 & 1 & ⋯ & 2 & 1 & 3 & 2 & 1 & 0 & 0 & 2 & 1 & 0\\\\\n",
       "\t 148 & 0 & 2 & 1 & 1 & 4 &  6 & 1 &  80 & 1 & ⋯ & 2 & 2 & 2 & 4 & 4 & 0 & 0 & 1 & 1 & 0\\\\\n",
       "\\end{tabular}\n"
      ],
      "text/markdown": [
       "\n",
       "A tibble: 91 × 24\n",
       "\n",
       "| ID &lt;dbl&gt; | sexe &lt;dbl&gt; | Region &lt;dbl&gt; | Age &lt;dbl&gt; | etat_civil &lt;dbl&gt; | N_educatif &lt;dbl&gt; | Membre_famille &lt;dbl&gt; | Revenu_famille &lt;dbl&gt; | Revenu_Mensuelle &lt;dbl&gt; | Redoublant &lt;dbl&gt; | ⋯ ⋯ | Niveau_educ_pere &lt;dbl&gt; | Niveau_educ_mere &lt;dbl&gt; | Sign_ecole &lt;dbl&gt; | Endroit_freq &lt;dbl&gt; | Ph_famille &lt;dbl&gt; | Ricule_Prof &lt;dbl&gt; | Ricule_collegue &lt;dbl&gt; | Sensation_apres_ecole &lt;dbl&gt; | Apres_repture_ecole &lt;dbl&gt; | Violence &lt;dbl&gt; |\n",
       "|---|---|---|---|---|---|---|---|---|---|---|---|---|---|---|---|---|---|---|---|---|\n",
       "|  1 | 0 | 1 | 2 | 1 | 3 |  5 | 0 |   0 | 1 | ⋯ | 2 | 2 | 1 | 1 | 1 | 0 | 1 | 1 | 1 | 1 |\n",
       "|  2 | 0 | 1 | 4 | 2 | 3 |  5 | 0 |   0 | 1 | ⋯ | 2 | 1 | 1 | 2 | 2 | 1 | 1 | 1 | 1 | 1 |\n",
       "|  3 | 0 | 1 | 4 | 2 | 3 | 11 | 0 | 100 | 1 | ⋯ | 2 | 1 | 2 | 1 | 3 | 0 | 0 | 1 | 2 | 0 |\n",
       "|  5 | 0 | 1 | 3 | 2 | 3 |  4 | 0 |   0 | 1 | ⋯ | 1 | 1 | 1 | 1 | 2 | 1 | 1 | 3 | 3 | 1 |\n",
       "|  8 | 0 | 1 | 1 | 1 | 3 |  5 | 1 |   0 | 1 | ⋯ | 3 | 3 | 3 | 4 | 4 | 0 | 0 | 3 | 2 | 1 |\n",
       "|  9 | 0 | 1 | 4 | 3 | 3 |  4 | 1 | 100 | 0 | ⋯ | 2 | 3 | 4 | 1 | 4 | 1 | 1 | 1 | 2 | 0 |\n",
       "| 10 | 0 | 1 | 4 | 3 | 3 |  7 | 0 | 100 | 1 | ⋯ | 2 | 1 | 2 | 3 | 2 | 1 | 0 | 1 | 4 | 0 |\n",
       "| 11 | 0 | 1 | 4 | 2 | 3 |  8 | 0 |   0 | 1 | ⋯ | 1 | 2 | 2 | 3 | 3 | 1 | 1 | 2 | 2 | 1 |\n",
       "| 12 | 0 | 1 | 4 | 2 | 3 |  9 | 0 |   0 | 1 | ⋯ | 2 | 1 | 2 | 2 | 3 | 0 | 0 | 1 | 3 | 0 |\n",
       "| 15 | 0 | 1 | 4 | 2 | 3 | 10 | 0 |   0 | 1 | ⋯ | 2 | 2 | 2 | 3 | 3 | 1 | 0 | 2 | 2 | 0 |\n",
       "| 16 | 0 | 1 | 4 | 2 | 3 |  8 | 0 |   0 | 1 | ⋯ | 1 | 1 | 3 | 3 | 1 | 0 | 0 | 3 | 3 | 0 |\n",
       "| 17 | 0 | 1 | 4 | 2 | 3 |  7 | 0 | 200 | 1 | ⋯ | 1 | 2 | 2 | 3 | 3 | 0 | 0 | 2 | 2 | 0 |\n",
       "| 19 | 0 | 1 | 3 | 2 | 3 |  7 | 0 |   0 | 1 | ⋯ | 2 | 2 | 1 | 2 | 3 | 1 | 0 | 3 | 2 | 0 |\n",
       "| 20 | 0 | 1 | 3 | 2 | 3 |  6 | 0 | 300 | 1 | ⋯ | 2 | 1 | 2 | 5 | 1 | 0 | 0 | 1 | 2 | 0 |\n",
       "| 21 | 0 | 1 | 3 | 2 | 3 |  4 | 0 | 150 | 0 | ⋯ | 2 | 2 | 2 | 2 | 1 | 0 | 0 | 2 | 3 | 0 |\n",
       "| 22 | 0 | 1 | 1 | 1 | 3 |  3 | 0 |  40 | 1 | ⋯ | 1 | 1 | 1 | 5 | 2 | 1 | 1 | 3 | 2 | 1 |\n",
       "| 23 | 0 | 1 | 2 | 2 | 3 |  5 | 0 | 250 | 0 | ⋯ | 2 | 2 | 1 | 2 | 1 | 0 | 0 | 1 | 2 | 1 |\n",
       "| 24 | 0 | 1 | 1 | 1 | 2 |  6 | 0 |   0 | 1 | ⋯ | 1 | 1 | 2 | 1 | 3 | 0 | 0 | 2 | 1 | 0 |\n",
       "| 25 | 0 | 1 | 2 | 1 | 2 |  6 | 0 |   0 | 1 | ⋯ | 1 | 1 | 4 | 1 | 2 | 0 | 0 | 3 | 1 | 0 |\n",
       "| 26 | 0 | 1 | 1 | 1 | 2 |  6 | 0 |   0 | 1 | ⋯ | 1 | 1 | 2 | 1 | 3 | 0 | 1 | 1 | 1 | 0 |\n",
       "| 27 | 0 | 1 | 2 | 1 | 2 |  5 | 1 |   0 | 1 | ⋯ | 1 | 1 | 4 | 1 | 2 | 0 | 0 | 3 | 1 | 0 |\n",
       "| 28 | 0 | 1 | 4 | 1 | 1 |  4 | 1 |   0 | 1 | ⋯ | 1 | 1 | 4 | 1 | 2 | 0 | 0 | 3 | 4 | 0 |\n",
       "| 29 | 0 | 1 | 3 | 2 | 2 |  6 | 1 | 450 | 1 | ⋯ | 2 | 2 | 4 | 2 | 2 | 1 | 1 | 1 | 2 | 1 |\n",
       "| 31 | 0 | 1 | 2 | 1 | 2 |  7 | 1 | 350 | 1 | ⋯ | 2 | 1 | 2 | 2 | 1 | 0 | 0 | 1 | 2 | 0 |\n",
       "| 32 | 0 | 1 | 2 | 1 | 2 |  7 | 1 | 350 | 1 | ⋯ | 2 | 1 | 2 | 1 | 1 | 0 | 0 | 1 | 2 | 0 |\n",
       "| 34 | 0 | 1 | 4 | 2 | 2 |  9 | 0 |   0 | 1 | ⋯ | 1 | 1 | 2 | 4 | 3 | 0 | 0 | 3 | 2 | 0 |\n",
       "| 35 | 0 | 1 | 3 | 1 | 2 | 10 | 0 | 140 | 1 | ⋯ | 1 | 1 | 1 | 1 | 4 | 0 | 0 | 2 | 4 | 0 |\n",
       "| 36 | 0 | 1 | 2 | 1 | 2 |  4 | 0 | 200 | 1 | ⋯ | 1 | 1 | 4 | 1 | 3 | 0 | 0 | 3 | 1 | 0 |\n",
       "| 37 | 1 | 1 | 2 | 1 | 2 |  6 | 0 | 600 | 1 | ⋯ | 1 | 1 | 1 | 2 | 3 | 1 | 1 | 3 | 2 | 0 |\n",
       "| 38 | 0 | 1 | 4 | 2 | 2 |  6 | 0 | 300 | 1 | ⋯ | 1 | 1 | 3 | 1 | 3 | 0 | 0 | 2 | 3 | 0 |\n",
       "| ⋮ | ⋮ | ⋮ | ⋮ | ⋮ | ⋮ | ⋮ | ⋮ | ⋮ | ⋮ | ⋱ | ⋮ | ⋮ | ⋮ | ⋮ | ⋮ | ⋮ | ⋮ | ⋮ | ⋮ | ⋮ |\n",
       "|  90 | 0 | 2 | 1 | 1 | 3 |  5 | 0 | 600 | 1 | ⋯ | 1 | 1 | 2 | 1 | 2 | 0 | 0 | 1 | 1 | 1 |\n",
       "|  91 | 0 | 2 | 1 | 1 | 2 |  7 | 0 | 100 | 1 | ⋯ | 1 | 2 | 4 | 1 | 3 | 0 | 0 | 2 | 3 | 0 |\n",
       "|  92 | 0 | 2 | 1 | 1 | 3 |  4 | 1 | 380 | 1 | ⋯ | 2 | 1 | 3 | 4 | 1 | 0 | 0 | 1 | 1 | 1 |\n",
       "|  95 | 0 | 2 | 1 | 1 | 3 | 10 | 0 |   0 | 0 | ⋯ | 2 | 1 | 3 | 1 | 1 | 0 | 0 | 2 | 1 | 1 |\n",
       "|  96 | 0 | 2 | 2 | 1 | 3 |  5 | 0 |   0 | 0 | ⋯ | 2 | 1 | 2 | 1 | 1 | 0 | 1 | 1 | 3 | 1 |\n",
       "|  97 | 0 | 2 | 2 | 1 | 3 | 13 | 0 |   0 | 1 | ⋯ | 3 | 1 | 1 | 5 | 3 | 0 | 1 | 2 | 2 | 0 |\n",
       "| 105 | 0 | 2 | 4 | 2 | 2 |  6 | 0 | 500 | 1 | ⋯ | 1 | 1 | 4 | 6 | 3 | 0 | 0 | 2 | 4 | 0 |\n",
       "| 106 | 0 | 2 | 3 | 4 | 2 |  5 | 1 | 700 | 1 | ⋯ | 3 | 2 | 4 | 6 | 2 | 0 | 0 | 3 | 3 | 0 |\n",
       "| 107 | 0 | 2 | 4 | 3 | 2 |  4 | 1 | 300 | 1 | ⋯ | 2 | 2 | 3 | 1 | 4 | 0 | 0 | 2 | 2 | 0 |\n",
       "| 108 | 0 | 2 | 4 | 2 | 2 |  5 | 0 | 300 | 1 | ⋯ | 2 | 1 | 4 | 6 | 3 | 0 | 0 | 2 | 2 | 0 |\n",
       "| 109 | 0 | 2 | 4 | 2 | 2 |  8 | 0 | 300 | 0 | ⋯ | 2 | 1 | 3 | 6 | 3 | 0 | 0 | 2 | 2 | 0 |\n",
       "| 111 | 0 | 2 | 3 | 2 | 3 |  8 | 1 | 400 | 1 | ⋯ | 3 | 1 | 2 | 4 | 3 | 0 | 0 | 2 | 3 | 0 |\n",
       "| 113 | 0 | 2 | 2 | 2 | 2 |  5 | 0 |   0 | 1 | ⋯ | 1 | 1 | 1 | 1 | 3 | 0 | 0 | 3 | 2 | 0 |\n",
       "| 114 | 0 | 2 | 2 | 2 | 2 | 10 | 0 |   0 | 1 | ⋯ | 1 | 1 | 3 | 3 | 3 | 0 | 0 | 1 | 2 | 0 |\n",
       "| 115 | 0 | 2 | 2 | 1 | 3 |  6 | 1 | 500 | 1 | ⋯ | 3 | 3 | 3 | 4 | 1 | 1 | 0 | 2 | 1 | 0 |\n",
       "| 117 | 0 | 2 | 2 | 1 | 3 |  6 | 0 | 200 | 1 | ⋯ | 2 | 2 | 3 | 4 | 1 | 0 | 0 | 3 | 1 | 0 |\n",
       "| 122 | 0 | 2 | 2 | 1 | 3 |  5 | 1 | 300 | 1 | ⋯ | 3 | 3 | 3 | 1 | 1 | 0 | 0 | 1 | 2 | 0 |\n",
       "| 124 | 0 | 2 | 2 | 1 | 2 |  7 | 0 | 200 | 1 | ⋯ | 2 | 2 | 3 | 2 | 1 | 0 | 0 | 3 | 1 | 0 |\n",
       "| 135 | 0 | 2 | 2 | 1 | 2 |  6 | 0 |   0 | 1 | ⋯ | 2 | 2 | 3 | 4 | 1 | 1 | 1 | 2 | 1 | 1 |\n",
       "| 136 | 0 | 2 | 1 | 1 | 4 |  6 | 0 |   0 | 1 | ⋯ | 2 | 3 | 2 | 1 | 1 | 0 | 1 | 1 | 1 | 1 |\n",
       "| 137 | 0 | 2 | 2 | 1 | 2 |  7 | 0 |   0 | 1 | ⋯ | 3 | 1 | 2 | 2 | 3 | 1 | 1 | 2 | 1 | 1 |\n",
       "| 138 | 0 | 2 | 2 | 1 | 3 |  7 | 0 |   0 | 1 | ⋯ | 2 | 2 | 3 | 4 | 2 | 0 | 0 | 2 | 1 | 1 |\n",
       "| 139 | 0 | 2 | 2 | 1 | 3 | 10 | 0 | 500 | 0 | ⋯ | 3 | 2 | 3 | 2 | 1 | 0 | 0 | 2 | 1 | 0 |\n",
       "| 140 | 0 | 2 | 4 | 1 | 2 |  5 | 1 | 150 | 0 | ⋯ | 2 | 2 | 2 | 1 | 3 | 0 | 0 | 2 | 3 | 0 |\n",
       "| 141 | 0 | 2 | 4 | 1 | 2 |  5 | 1 | 150 | 0 | ⋯ | 2 | 2 | 2 | 1 | 3 | 0 | 0 | 2 | 4 | 0 |\n",
       "| 143 | 0 | 2 | 1 | 1 | 3 |  4 | 0 |   0 | 0 | ⋯ | 3 | 3 | 3 | 5 | 1 | 0 | 0 | 1 | 1 | 1 |\n",
       "| 144 | 0 | 2 | 1 | 1 | 3 |  8 | 0 |   0 | 0 | ⋯ | 3 | 2 | 2 | 1 | 1 | 1 | 1 | 1 | 1 | 1 |\n",
       "| 145 | 0 | 2 | 1 | 1 | 2 |  4 | 0 |   0 | 0 | ⋯ | 3 | 3 | 3 | 1 | 1 | 1 | 0 | 1 | 1 | 1 |\n",
       "| 147 | 0 | 2 | 1 | 1 | 4 |  5 | 1 | 900 | 1 | ⋯ | 2 | 1 | 3 | 2 | 1 | 0 | 0 | 2 | 1 | 0 |\n",
       "| 148 | 0 | 2 | 1 | 1 | 4 |  6 | 1 |  80 | 1 | ⋯ | 2 | 2 | 2 | 4 | 4 | 0 | 0 | 1 | 1 | 0 |\n",
       "\n"
      ],
      "text/plain": [
       "   ID  sexe Region Age etat_civil N_educatif Membre_famille Revenu_famille\n",
       "1   1  0    1      2   1          3           5             0             \n",
       "2   2  0    1      4   2          3           5             0             \n",
       "3   3  0    1      4   2          3          11             0             \n",
       "4   5  0    1      3   2          3           4             0             \n",
       "5   8  0    1      1   1          3           5             1             \n",
       "6   9  0    1      4   3          3           4             1             \n",
       "7  10  0    1      4   3          3           7             0             \n",
       "8  11  0    1      4   2          3           8             0             \n",
       "9  12  0    1      4   2          3           9             0             \n",
       "10 15  0    1      4   2          3          10             0             \n",
       "11 16  0    1      4   2          3           8             0             \n",
       "12 17  0    1      4   2          3           7             0             \n",
       "13 19  0    1      3   2          3           7             0             \n",
       "14 20  0    1      3   2          3           6             0             \n",
       "15 21  0    1      3   2          3           4             0             \n",
       "16 22  0    1      1   1          3           3             0             \n",
       "17 23  0    1      2   2          3           5             0             \n",
       "18 24  0    1      1   1          2           6             0             \n",
       "19 25  0    1      2   1          2           6             0             \n",
       "20 26  0    1      1   1          2           6             0             \n",
       "21 27  0    1      2   1          2           5             1             \n",
       "22 28  0    1      4   1          1           4             1             \n",
       "23 29  0    1      3   2          2           6             1             \n",
       "24 31  0    1      2   1          2           7             1             \n",
       "25 32  0    1      2   1          2           7             1             \n",
       "26 34  0    1      4   2          2           9             0             \n",
       "27 35  0    1      3   1          2          10             0             \n",
       "28 36  0    1      2   1          2           4             0             \n",
       "29 37  1    1      2   1          2           6             0             \n",
       "30 38  0    1      4   2          2           6             0             \n",
       "⋮  ⋮   ⋮    ⋮      ⋮   ⋮          ⋮          ⋮              ⋮             \n",
       "62  90 0    2      1   1          3           5             0             \n",
       "63  91 0    2      1   1          2           7             0             \n",
       "64  92 0    2      1   1          3           4             1             \n",
       "65  95 0    2      1   1          3          10             0             \n",
       "66  96 0    2      2   1          3           5             0             \n",
       "67  97 0    2      2   1          3          13             0             \n",
       "68 105 0    2      4   2          2           6             0             \n",
       "69 106 0    2      3   4          2           5             1             \n",
       "70 107 0    2      4   3          2           4             1             \n",
       "71 108 0    2      4   2          2           5             0             \n",
       "72 109 0    2      4   2          2           8             0             \n",
       "73 111 0    2      3   2          3           8             1             \n",
       "74 113 0    2      2   2          2           5             0             \n",
       "75 114 0    2      2   2          2          10             0             \n",
       "76 115 0    2      2   1          3           6             1             \n",
       "77 117 0    2      2   1          3           6             0             \n",
       "78 122 0    2      2   1          3           5             1             \n",
       "79 124 0    2      2   1          2           7             0             \n",
       "80 135 0    2      2   1          2           6             0             \n",
       "81 136 0    2      1   1          4           6             0             \n",
       "82 137 0    2      2   1          2           7             0             \n",
       "83 138 0    2      2   1          3           7             0             \n",
       "84 139 0    2      2   1          3          10             0             \n",
       "85 140 0    2      4   1          2           5             1             \n",
       "86 141 0    2      4   1          2           5             1             \n",
       "87 143 0    2      1   1          3           4             0             \n",
       "88 144 0    2      1   1          3           8             0             \n",
       "89 145 0    2      1   1          2           4             0             \n",
       "90 147 0    2      1   1          4           5             1             \n",
       "91 148 0    2      1   1          4           6             1             \n",
       "   Revenu_Mensuelle Redoublant ⋯ Niveau_educ_pere Niveau_educ_mere Sign_ecole\n",
       "1    0              1          ⋯ 2                2                1         \n",
       "2    0              1          ⋯ 2                1                1         \n",
       "3  100              1          ⋯ 2                1                2         \n",
       "4    0              1          ⋯ 1                1                1         \n",
       "5    0              1          ⋯ 3                3                3         \n",
       "6  100              0          ⋯ 2                3                4         \n",
       "7  100              1          ⋯ 2                1                2         \n",
       "8    0              1          ⋯ 1                2                2         \n",
       "9    0              1          ⋯ 2                1                2         \n",
       "10   0              1          ⋯ 2                2                2         \n",
       "11   0              1          ⋯ 1                1                3         \n",
       "12 200              1          ⋯ 1                2                2         \n",
       "13   0              1          ⋯ 2                2                1         \n",
       "14 300              1          ⋯ 2                1                2         \n",
       "15 150              0          ⋯ 2                2                2         \n",
       "16  40              1          ⋯ 1                1                1         \n",
       "17 250              0          ⋯ 2                2                1         \n",
       "18   0              1          ⋯ 1                1                2         \n",
       "19   0              1          ⋯ 1                1                4         \n",
       "20   0              1          ⋯ 1                1                2         \n",
       "21   0              1          ⋯ 1                1                4         \n",
       "22   0              1          ⋯ 1                1                4         \n",
       "23 450              1          ⋯ 2                2                4         \n",
       "24 350              1          ⋯ 2                1                2         \n",
       "25 350              1          ⋯ 2                1                2         \n",
       "26   0              1          ⋯ 1                1                2         \n",
       "27 140              1          ⋯ 1                1                1         \n",
       "28 200              1          ⋯ 1                1                4         \n",
       "29 600              1          ⋯ 1                1                1         \n",
       "30 300              1          ⋯ 1                1                3         \n",
       "⋮  ⋮                ⋮          ⋱ ⋮                ⋮                ⋮         \n",
       "62 600              1          ⋯ 1                1                2         \n",
       "63 100              1          ⋯ 1                2                4         \n",
       "64 380              1          ⋯ 2                1                3         \n",
       "65   0              0          ⋯ 2                1                3         \n",
       "66   0              0          ⋯ 2                1                2         \n",
       "67   0              1          ⋯ 3                1                1         \n",
       "68 500              1          ⋯ 1                1                4         \n",
       "69 700              1          ⋯ 3                2                4         \n",
       "70 300              1          ⋯ 2                2                3         \n",
       "71 300              1          ⋯ 2                1                4         \n",
       "72 300              0          ⋯ 2                1                3         \n",
       "73 400              1          ⋯ 3                1                2         \n",
       "74   0              1          ⋯ 1                1                1         \n",
       "75   0              1          ⋯ 1                1                3         \n",
       "76 500              1          ⋯ 3                3                3         \n",
       "77 200              1          ⋯ 2                2                3         \n",
       "78 300              1          ⋯ 3                3                3         \n",
       "79 200              1          ⋯ 2                2                3         \n",
       "80   0              1          ⋯ 2                2                3         \n",
       "81   0              1          ⋯ 2                3                2         \n",
       "82   0              1          ⋯ 3                1                2         \n",
       "83   0              1          ⋯ 2                2                3         \n",
       "84 500              0          ⋯ 3                2                3         \n",
       "85 150              0          ⋯ 2                2                2         \n",
       "86 150              0          ⋯ 2                2                2         \n",
       "87   0              0          ⋯ 3                3                3         \n",
       "88   0              0          ⋯ 3                2                2         \n",
       "89   0              0          ⋯ 3                3                3         \n",
       "90 900              1          ⋯ 2                1                3         \n",
       "91  80              1          ⋯ 2                2                2         \n",
       "   Endroit_freq Ph_famille Ricule_Prof Ricule_collegue Sensation_apres_ecole\n",
       "1  1            1          0           1               1                    \n",
       "2  2            2          1           1               1                    \n",
       "3  1            3          0           0               1                    \n",
       "4  1            2          1           1               3                    \n",
       "5  4            4          0           0               3                    \n",
       "6  1            4          1           1               1                    \n",
       "7  3            2          1           0               1                    \n",
       "8  3            3          1           1               2                    \n",
       "9  2            3          0           0               1                    \n",
       "10 3            3          1           0               2                    \n",
       "11 3            1          0           0               3                    \n",
       "12 3            3          0           0               2                    \n",
       "13 2            3          1           0               3                    \n",
       "14 5            1          0           0               1                    \n",
       "15 2            1          0           0               2                    \n",
       "16 5            2          1           1               3                    \n",
       "17 2            1          0           0               1                    \n",
       "18 1            3          0           0               2                    \n",
       "19 1            2          0           0               3                    \n",
       "20 1            3          0           1               1                    \n",
       "21 1            2          0           0               3                    \n",
       "22 1            2          0           0               3                    \n",
       "23 2            2          1           1               1                    \n",
       "24 2            1          0           0               1                    \n",
       "25 1            1          0           0               1                    \n",
       "26 4            3          0           0               3                    \n",
       "27 1            4          0           0               2                    \n",
       "28 1            3          0           0               3                    \n",
       "29 2            3          1           1               3                    \n",
       "30 1            3          0           0               2                    \n",
       "⋮  ⋮            ⋮          ⋮           ⋮               ⋮                    \n",
       "62 1            2          0           0               1                    \n",
       "63 1            3          0           0               2                    \n",
       "64 4            1          0           0               1                    \n",
       "65 1            1          0           0               2                    \n",
       "66 1            1          0           1               1                    \n",
       "67 5            3          0           1               2                    \n",
       "68 6            3          0           0               2                    \n",
       "69 6            2          0           0               3                    \n",
       "70 1            4          0           0               2                    \n",
       "71 6            3          0           0               2                    \n",
       "72 6            3          0           0               2                    \n",
       "73 4            3          0           0               2                    \n",
       "74 1            3          0           0               3                    \n",
       "75 3            3          0           0               1                    \n",
       "76 4            1          1           0               2                    \n",
       "77 4            1          0           0               3                    \n",
       "78 1            1          0           0               1                    \n",
       "79 2            1          0           0               3                    \n",
       "80 4            1          1           1               2                    \n",
       "81 1            1          0           1               1                    \n",
       "82 2            3          1           1               2                    \n",
       "83 4            2          0           0               2                    \n",
       "84 2            1          0           0               2                    \n",
       "85 1            3          0           0               2                    \n",
       "86 1            3          0           0               2                    \n",
       "87 5            1          0           0               1                    \n",
       "88 1            1          1           1               1                    \n",
       "89 1            1          1           0               1                    \n",
       "90 2            1          0           0               2                    \n",
       "91 4            4          0           0               1                    \n",
       "   Apres_repture_ecole Violence\n",
       "1  1                   1       \n",
       "2  1                   1       \n",
       "3  2                   0       \n",
       "4  3                   1       \n",
       "5  2                   1       \n",
       "6  2                   0       \n",
       "7  4                   0       \n",
       "8  2                   1       \n",
       "9  3                   0       \n",
       "10 2                   0       \n",
       "11 3                   0       \n",
       "12 2                   0       \n",
       "13 2                   0       \n",
       "14 2                   0       \n",
       "15 3                   0       \n",
       "16 2                   1       \n",
       "17 2                   1       \n",
       "18 1                   0       \n",
       "19 1                   0       \n",
       "20 1                   0       \n",
       "21 1                   0       \n",
       "22 4                   0       \n",
       "23 2                   1       \n",
       "24 2                   0       \n",
       "25 2                   0       \n",
       "26 2                   0       \n",
       "27 4                   0       \n",
       "28 1                   0       \n",
       "29 2                   0       \n",
       "30 3                   0       \n",
       "⋮  ⋮                   ⋮       \n",
       "62 1                   1       \n",
       "63 3                   0       \n",
       "64 1                   1       \n",
       "65 1                   1       \n",
       "66 3                   1       \n",
       "67 2                   0       \n",
       "68 4                   0       \n",
       "69 3                   0       \n",
       "70 2                   0       \n",
       "71 2                   0       \n",
       "72 2                   0       \n",
       "73 3                   0       \n",
       "74 2                   0       \n",
       "75 2                   0       \n",
       "76 1                   0       \n",
       "77 1                   0       \n",
       "78 2                   0       \n",
       "79 1                   0       \n",
       "80 1                   1       \n",
       "81 1                   1       \n",
       "82 1                   1       \n",
       "83 1                   1       \n",
       "84 1                   0       \n",
       "85 3                   0       \n",
       "86 4                   0       \n",
       "87 1                   1       \n",
       "88 1                   1       \n",
       "89 1                   1       \n",
       "90 1                   0       \n",
       "91 1                   0       "
      ]
     },
     "metadata": {},
     "output_type": "display_data"
    }
   ],
   "source": [
    "View(data)  "
   ]
  },
  {
   "cell_type": "code",
   "execution_count": 43,
   "id": "75100ee0-958f-4ed0-aaf1-e79a3ed1bd22",
   "metadata": {
    "scrolled": true
   },
   "outputs": [
    {
     "data": {
      "text/plain": [
       "       ID              sexe             Region           Age       \n",
       " Min.   :  1.00   Min.   :0.00000   Min.   :1.000   Min.   :1.000  \n",
       " 1st Qu.: 30.00   1st Qu.:0.00000   1st Qu.:1.000   1st Qu.:2.000  \n",
       " Median : 64.00   Median :0.00000   Median :1.000   Median :3.000  \n",
       " Mean   : 68.03   Mean   :0.06593   Mean   :1.352   Mean   :2.637  \n",
       " 3rd Qu.:105.50   3rd Qu.:0.00000   3rd Qu.:2.000   3rd Qu.:4.000  \n",
       " Max.   :148.00   Max.   :1.00000   Max.   :2.000   Max.   :4.000  \n",
       "                                                                   \n",
       "   etat_civil      N_educatif    Membre_famille   Revenu_famille  \n",
       " Min.   :1.000   Min.   :1.000   Min.   : 3.000   Min.   :0.0000  \n",
       " 1st Qu.:1.000   1st Qu.:2.000   1st Qu.: 5.000   1st Qu.:0.0000  \n",
       " Median :1.000   Median :2.000   Median : 6.000   Median :0.0000  \n",
       " Mean   :1.549   Mean   :2.538   Mean   : 6.418   Mean   :0.2747  \n",
       " 3rd Qu.:2.000   3rd Qu.:3.000   3rd Qu.: 8.000   3rd Qu.:1.0000  \n",
       " Max.   :4.000   Max.   :5.000   Max.   :13.000   Max.   :1.0000  \n",
       "                                                                  \n",
       " Revenu_Mensuelle   Redoublant     Prob_Enseignat     Aide_ecole   \n",
       " Min.   :   0.0   Min.   :0.0000   Min.   :0.0000   Min.   :1.000  \n",
       " 1st Qu.:   0.0   1st Qu.:1.0000   1st Qu.:0.0000   1st Qu.:1.000  \n",
       " Median : 100.0   Median :1.0000   Median :0.0000   Median :2.000  \n",
       " Mean   : 195.5   Mean   :0.7912   Mean   :0.4286   Mean   :2.582  \n",
       " 3rd Qu.: 300.0   3rd Qu.:1.0000   3rd Qu.:1.0000   3rd Qu.:4.000  \n",
       " Max.   :1500.0   Max.   :1.0000   Max.   :1.0000   Max.   :5.000  \n",
       "                                                                   \n",
       " Rq_Comprtement   Relat_Parent   Niveau_educ_pere Niveau_educ_mere\n",
       " Min.   :1.000   Min.   :1.000   Min.   :1.000    Min.   :1.000   \n",
       " 1st Qu.:1.000   1st Qu.:1.000   1st Qu.:1.000    1st Qu.:1.000   \n",
       " Median :1.000   Median :1.000   Median :2.000    Median :1.000   \n",
       " Mean   :1.703   Mean   :1.189   Mean   :1.747    Mean   :1.571   \n",
       " 3rd Qu.:2.000   3rd Qu.:1.000   3rd Qu.:2.000    3rd Qu.:2.000   \n",
       " Max.   :4.000   Max.   :3.000   Max.   :3.000    Max.   :3.000   \n",
       "                 NA's   :1                                        \n",
       "   Sign_ecole     Endroit_freq     Ph_famille     Ricule_Prof    \n",
       " Min.   :1.000   Min.   :1.000   Min.   :1.000   Min.   :0.0000  \n",
       " 1st Qu.:2.000   1st Qu.:1.000   1st Qu.:1.000   1st Qu.:0.0000  \n",
       " Median :3.000   Median :2.000   Median :3.000   Median :0.0000  \n",
       " Mean   :2.473   Mean   :2.407   Mean   :2.275   Mean   :0.2747  \n",
       " 3rd Qu.:3.000   3rd Qu.:3.500   3rd Qu.:3.000   3rd Qu.:1.0000  \n",
       " Max.   :4.000   Max.   :6.000   Max.   :4.000   Max.   :1.0000  \n",
       "                                                                 \n",
       " Ricule_collegue  Sensation_apres_ecole Apres_repture_ecole    Violence     \n",
       " Min.   :0.0000   Min.   :1.000         Min.   :1.00        Min.   :0.0000  \n",
       " 1st Qu.:0.0000   1st Qu.:1.000         1st Qu.:1.00        1st Qu.:0.0000  \n",
       " Median :0.0000   Median :2.000         Median :2.00        Median :0.0000  \n",
       " Mean   :0.2747   Mean   :1.934         Mean   :2.11        Mean   :0.3407  \n",
       " 3rd Qu.:1.0000   3rd Qu.:3.000         3rd Qu.:3.00        3rd Qu.:1.0000  \n",
       " Max.   :1.0000   Max.   :3.000         Max.   :4.00        Max.   :1.0000  \n",
       "                                                                            "
      ]
     },
     "metadata": {},
     "output_type": "display_data"
    }
   ],
   "source": [
    "summary(data) "
   ]
  },
  {
   "cell_type": "code",
   "execution_count": 44,
   "id": "36238d01-8eb7-4659-b576-78eb6ef9de7c",
   "metadata": {
    "scrolled": true
   },
   "outputs": [
    {
     "name": "stdout",
     "output_type": "stream",
     "text": [
      "tibble [91 × 24] (S3: tbl_df/tbl/data.frame)\n",
      " $ ID                   : num [1:91] 1 2 3 5 8 9 10 11 12 15 ...\n",
      " $ sexe                 : num [1:91] 0 0 0 0 0 0 0 0 0 0 ...\n",
      " $ Region               : num [1:91] 1 1 1 1 1 1 1 1 1 1 ...\n",
      " $ Age                  : num [1:91] 2 4 4 3 1 4 4 4 4 4 ...\n",
      " $ etat_civil           : num [1:91] 1 2 2 2 1 3 3 2 2 2 ...\n",
      " $ N_educatif           : num [1:91] 3 3 3 3 3 3 3 3 3 3 ...\n",
      " $ Membre_famille       : num [1:91] 5 5 11 4 5 4 7 8 9 10 ...\n",
      " $ Revenu_famille       : num [1:91] 0 0 0 0 1 1 0 0 0 0 ...\n",
      " $ Revenu_Mensuelle     : num [1:91] 0 0 100 0 0 100 100 0 0 0 ...\n",
      " $ Redoublant           : num [1:91] 1 1 1 1 1 0 1 1 1 1 ...\n",
      " $ Prob_Enseignat       : num [1:91] 0 1 0 1 0 0 0 1 0 0 ...\n",
      " $ Aide_ecole           : num [1:91] 1 4 4 4 1 4 5 1 5 2 ...\n",
      " $ Rq_Comprtement       : num [1:91] 1 4 1 2 1 1 1 1 1 1 ...\n",
      " $ Relat_Parent         : num [1:91] 1 1 1 1 1 1 1 1 3 1 ...\n",
      " $ Niveau_educ_pere     : num [1:91] 2 2 2 1 3 2 2 1 2 2 ...\n",
      " $ Niveau_educ_mere     : num [1:91] 2 1 1 1 3 3 1 2 1 2 ...\n",
      " $ Sign_ecole           : num [1:91] 1 1 2 1 3 4 2 2 2 2 ...\n",
      " $ Endroit_freq         : num [1:91] 1 2 1 1 4 1 3 3 2 3 ...\n",
      " $ Ph_famille           : num [1:91] 1 2 3 2 4 4 2 3 3 3 ...\n",
      " $ Ricule_Prof          : num [1:91] 0 1 0 1 0 1 1 1 0 1 ...\n",
      " $ Ricule_collegue      : num [1:91] 1 1 0 1 0 1 0 1 0 0 ...\n",
      " $ Sensation_apres_ecole: num [1:91] 1 1 1 3 3 1 1 2 1 2 ...\n",
      " $ Apres_repture_ecole  : num [1:91] 1 1 2 3 2 2 4 2 3 2 ...\n",
      " $ Violence             : num [1:91] 1 1 0 1 1 0 0 1 0 0 ...\n"
     ]
    }
   ],
   "source": [
    "str(data) "
   ]
  },
  {
   "cell_type": "markdown",
   "id": "29708c84-7b27-4e02-9d17-03fe9e4b9f5a",
   "metadata": {},
   "source": [
    "### <font color=green> 1) a) Expliquer la variable après rupture école en fonction des variables sexe, age, région, état civil, N-educatif, membre_famille, Revenu_famille, Revenu_mensuel, redoublant, prob_enseignant, Aide_école, Rq_comportement, Relation_parent, niveau educatif père, niveau éducatif mère, sign_école, endroit_fréquent, ph_famille, Ricule_prof et Ricule collègue."
   ]
  },
  {
   "cell_type": "markdown",
   "id": "1881da0b-1587-423a-ac50-073688244e0a",
   "metadata": {},
   "source": [
    "### <font color=blue>**Regresion logistique multinomial:**"
   ]
  },
  {
   "cell_type": "markdown",
   "id": "4b2dcd6a-1a16-4951-9461-0c6eec6dcef3",
   "metadata": {},
   "source": [
    "<font color=green> **Choix du modéle:** \n",
    "<font color=black> Dans ce travail, j'ai utilisé <font color=red> un modèle de régression logistique multinomiale <font color=black>afin de prédire<font color=red> la variable cible data$Apres_repture_ecole, qui est une variable catégorielle divisée en quatres classes distinctes : classe 1, classe 2, classe 3 et classe 4<font color=black>. La régression logistique multinomiale est particulièrement adaptée à ce type de problème, car elle permet de modéliser les relations entre plusieurs variables explicatives et une variable dépendante catégorielle à plus de deux niveaux.\n",
    "\n",
    "Ainsi, le modèle a été ajusté pour estimer les probabilités d'appartenance de chaque observation aux différentes classes, permettant ainsi de classer les individus en fonction de leurs caractéristiques et de prédire dans quelle catégorie ils appartiendront, tout en prenant en compte les interactions entre les différentes classes."
   ]
  },
  {
   "cell_type": "code",
   "execution_count": 268,
   "id": "d7ba021e-6edc-4b1d-8a8c-5ad71098bf2e",
   "metadata": {},
   "outputs": [],
   "source": [
    "library(nnet)"
   ]
  },
  {
   "cell_type": "code",
   "execution_count": 270,
   "id": "d6e6c5e0-d67e-40fc-98a0-2b41fb1717c9",
   "metadata": {},
   "outputs": [
    {
     "name": "stdout",
     "output_type": "stream",
     "text": [
      "# weights:  88 (63 variable)\n",
      "initial  value 124.766493 \n",
      "iter  10 value 78.622797\n",
      "iter  20 value 63.239268\n",
      "iter  30 value 55.258599\n",
      "iter  40 value 49.846960\n",
      "iter  50 value 47.101855\n",
      "iter  60 value 43.719936\n",
      "iter  70 value 43.481027\n",
      "iter  80 value 43.465618\n",
      "iter  90 value 43.465149\n",
      "final  value 43.465144 \n",
      "converged\n"
     ]
    }
   ],
   "source": [
    "reg=multinom(data$Apres_repture_ecole~data$sexe+data$Age+data$Region+data$etat_civil+data$N_educatif+data$Membre_famille+data$Revenu_famille+data$Revenu_Mensuelle+data$Redoublant+data$Prob_Enseignat+data$Aide_ecole+data$Rq_Comprtement+data$Relat_Parent+data$Niveau_educ_pere+data$Niveau_educ_mere+data$Sign_ecole+data$Endroit_freq+data$Ph_famille+data$Ricule_Prof+data$Ricule_collegue)"
   ]
  },
  {
   "cell_type": "code",
   "execution_count": 272,
   "id": "66ac658e-c8cb-410a-9eb5-0967cb9db8a7",
   "metadata": {
    "scrolled": true
   },
   "outputs": [
    {
     "name": "stderr",
     "output_type": "stream",
     "text": [
      "Warning message in sqrt(diag(vc)):\n",
      "\"Production de NaN\"\n"
     ]
    },
    {
     "data": {
      "text/plain": [
       "Call:\n",
       "multinom(formula = data$Apres_repture_ecole ~ data$sexe + data$Age + \n",
       "    data$Region + data$etat_civil + data$N_educatif + data$Membre_famille + \n",
       "    data$Revenu_famille + data$Revenu_Mensuelle + data$Redoublant + \n",
       "    data$Prob_Enseignat + data$Aide_ecole + data$Rq_Comprtement + \n",
       "    data$Relat_Parent + data$Niveau_educ_pere + data$Niveau_educ_mere + \n",
       "    data$Sign_ecole + data$Endroit_freq + data$Ph_famille + data$Ricule_Prof + \n",
       "    data$Ricule_collegue)\n",
       "\n",
       "Coefficients:\n",
       "  (Intercept) data$sexe    data$Age  data$Region data$etat_civil\n",
       "2   -7.489772 245.87263  -0.4376716   -2.4084838        4.901879\n",
       "3  -10.469941  47.08085   0.7066992    0.6411367        5.941687\n",
       "4 -611.468711  82.99164 208.3453744 -225.7999524     -128.520080\n",
       "  data$N_educatif data$Membre_famille data$Revenu_famille data$Revenu_Mensuelle\n",
       "2   -5.771419e-01           0.2134464           0.4469855            0.00356250\n",
       "3    8.525498e-03           0.1245541           0.7613484            0.00124591\n",
       "4   -1.605677e+02          23.4909023         -32.9186956            0.42818081\n",
       "  data$Redoublant data$Prob_Enseignat data$Aide_ecole data$Rq_Comprtement\n",
       "2       0.6462154           1.3745384       0.5207737          -1.2429099\n",
       "3      -0.2674273          -0.3408284       0.5451506          -0.8737298\n",
       "4    -187.7576202         -38.2412999      62.2534163         110.9760625\n",
       "  data$Relat_Parent data$Niveau_educ_pere data$Niveau_educ_mere data$Sign_ecole\n",
       "2        -0.6689233             0.4113848            0.99439784       0.2539833\n",
       "3        -0.7168720            -1.1034168           -0.09905559       1.0602972\n",
       "4       -90.3090799           175.6900377           14.70431510      50.5088759\n",
       "  data$Endroit_freq data$Ph_famille data$Ricule_Prof data$Ricule_collegue\n",
       "2         0.1439979       0.8205266        -1.191701            0.8176965\n",
       "3        -0.4305329      -0.4167038        -3.501263            2.1884588\n",
       "4        -9.8422942     -36.6990838       178.049957         -268.0826058\n",
       "\n",
       "Std. Errors:\n",
       "   (Intercept)    data$sexe     data$Age  data$Region data$etat_civil\n",
       "2 4.9495553867          NaN 0.6835739193 1.2126693797    2.079191e+00\n",
       "3 5.8168838263          NaN 0.8319679772 1.4992349635    2.128219e+00\n",
       "4 0.0000751934 7.889695e-26 0.0003082217 0.0001719478    7.615021e-05\n",
       "  data$N_educatif data$Membre_famille data$Revenu_famille data$Revenu_Mensuelle\n",
       "2    0.7422415879        0.2869574827        1.315523e+00           0.002480597\n",
       "3    0.9759764612        0.3213858975        1.507344e+00           0.003250291\n",
       "4    0.0001436359        0.0003546543        8.854036e-05           0.010175369\n",
       "  data$Redoublant data$Prob_Enseignat data$Aide_ecole data$Rq_Comprtement\n",
       "2    1.403336e+00        1.103960e+00    0.3828841568        6.916202e-01\n",
       "3    1.575577e+00        1.496669e+00    0.4359874128        7.506734e-01\n",
       "4    4.228614e-05        8.840521e-05    0.0002229268        6.792839e-05\n",
       "  data$Relat_Parent data$Niveau_educ_pere data$Niveau_educ_mere data$Sign_ecole\n",
       "2      8.933906e-01          1.1522659775          0.9322822721    0.6610909608\n",
       "3      1.105212e+00          1.4007993505          1.0106117882    0.7179790405\n",
       "4      7.506101e-05          0.0001523442          0.0001622131    0.0001386024\n",
       "  data$Endroit_freq data$Ph_famille data$Ricule_Prof data$Ricule_collegue\n",
       "2      3.705578e-01    0.5060289116     1.517345e+00         1.657078e+00\n",
       "3      4.231106e-01    0.7413518770     2.335725e+00         1.958722e+00\n",
       "4      7.404452e-05    0.0002429078     3.649516e-05         1.685085e-05\n",
       "\n",
       "Residual Deviance: 86.93029 \n",
       "AIC: 212.9303 "
      ]
     },
     "metadata": {},
     "output_type": "display_data"
    }
   ],
   "source": [
    "summary(reg)"
   ]
  },
  {
   "cell_type": "markdown",
   "id": "b9ec7a5a-e5e4-4301-ba39-1f321f9f5656",
   "metadata": {},
   "source": [
    "## <font color=blue> **Intérprétation:**"
   ]
  },
  {
   "cell_type": "markdown",
   "id": "5bc8a5fb-25b4-4a2e-8444-a5b746f0d079",
   "metadata": {
    "jp-MarkdownHeadingCollapsed": true
   },
   "source": [
    "## <font color=green> logit(P(Y=k)/P(Y=1)​)=β0k​+β1k​⋅X1​+β2k​⋅X2​+⋯+βpk​⋅Xp​ ;  k∈{2,3,4}k∈{2,3,4}"
   ]
  },
  {
   "cell_type": "markdown",
   "id": "71c5113f-276c-4d98-b12b-89a642dc5aa1",
   "metadata": {},
   "source": [
    "## <font color=red> Catégorie 2 :\n",
    "### logit⁡(P(Y=2)P(Y=1))=−7.489772+245.87263⋅(sexe)−0.4376716⋅(Age)−2.4084838⋅(Region)+4.901879⋅(etat_civil)−0.5771419⋅(N_educatif)+0.2134464⋅(Membre_famille)+0.4469855⋅(Revenu_famille)+0.0035625⋅(Revenu_Mensuelle)+0.6462154⋅(Redoublant)+1.3745384⋅(Prob_Enseignat)+0.5207737⋅(Aide_ecole)−1.2429099⋅(Rq_Comprtement)−0.6689233⋅(Relat_Parent)+0.4113848⋅(Niveau_educ_pere)+0.9943978⋅(Niveau_educ_mere)+0.2539833⋅(Sign_ecole)+0.1439979⋅(Endroit_freq)+0.8205266⋅(Ph_famille)−1.191701⋅(Ricule_Prof)+0.8176965⋅(Ricule_collegue)"
   ]
  },
  {
   "cell_type": "markdown",
   "id": "c5d4b248-157e-4ba7-9440-ecb7539ac1ac",
   "metadata": {},
   "source": [
    "## <font color=red> Catégorie 3 :\n",
    "### log⁡it(P(Y=3)P(Y=1))=−10.469941+47.08085⋅(sexe)+0.7066992⋅(Age)+0.6411367⋅(Region)+5.941687⋅(etat_civil)+0.008525498⋅(N_educatif)+0.1245541⋅(Membre_famille)+0.7613484⋅(Revenu_famille)+0.00124591⋅(Revenu_Mensuelle)−0.2674273⋅(Redoublant)−0.3408284⋅(Prob_Enseignat)+0.5451506⋅(Aide_ecole)−0.8737298⋅(Rq_Comprtement)−0.716872⋅(Relat_Parent)−1.1034168⋅(Niveau_educ_pere)−0.09905559⋅(Niveau_educ_mere)+1.0602972⋅(Sign_ecole)−0.4305329⋅(Endroit_freq)−0.4167038⋅(Ph_famille)−3.501263⋅(Ricule_Prof)+2.1884588⋅(Ricule_collegue)\n"
   ]
  },
  {
   "cell_type": "markdown",
   "id": "9b03b987-f25b-4232-9620-cecf4c9ff934",
   "metadata": {},
   "source": [
    "## <font color=red> Catégorie 4 :\n",
    "### logit⁡(P(Y=4)P(Y=1))=−611.468711+82.99164⋅(sexe)+208.3453744⋅(Age)−225.7999524⋅(Region)−128.520080⋅(etat_civil)−160.5677⋅(N_educatif)+23.4909023⋅(Membre_famille)−32.9186956⋅(Revenu_famille)+0.42818081⋅(Revenu_Mensuelle)−187.7576202⋅(Redoublant)−38.2412999⋅(Prob_Enseignat)+62.2534163⋅(Aide_ecole)+110.9760625⋅(Rq_Comprtement)−90.3090799⋅(Relat_Parent)+175.6900377⋅(Niveau_educ_pere)+14.7043151⋅(Niveau_educ_mere)+50.5088759⋅(Sign_ecole)−9.8422942⋅(Endroit_freq)−36.6990838⋅(Ph_famille)+178.049957⋅(Ricule_Prof)−268.0826058⋅(Ricule_collegue)\n"
   ]
  },
  {
   "cell_type": "markdown",
   "id": "8921e4da-882c-46ae-adc7-882945e16bba",
   "metadata": {},
   "source": [
    "Chaque coefficient associé à une variable dans le tableau indique l'effet de cette variable sur la probabilité d'appartenir à une catégorie donnée (par rapport à la catégorie de référence, ici catégorie 1).\n",
    "\n",
    "   <font color=red> Un coefficient positif indique que lorsque la valeur de la variable augmente, la probabilité d'appartenir à cette catégorie augmente (par rapport à la catégorie 1).\n",
    "   \n",
    "<font color=red> Un coefficient négatif indique que lorsque la valeur de la variable augmente, la probabilité d'appartenir à cette catégorie diminue (par rapport à la catégorie 1).\n",
    "\n",
    "<font color=purple>Par exemple :\n",
    "\n",
    "    Pour la catégorie 2, le coefficient associé à sexe est 245.87. Cela signifie que le fait d'être de sexe masculin (ou la catégorie codée par 1 pour sexe) augmente considérablement la probabilité d'appartenir à la catégorie 2 par rapport à la catégorie 1.\n",
    "    Pour la catégorie 4, le coefficient associé à Redoublant est -187.76, ce qui indique que les individus ayant redoublé ont une probabilité nettement plus faible d'appartenir à la catégorie 4 par rapport à la catégorie 1.\n",
    "\n",
    "\n",
    "\n",
    "le modèle reg utilise une régression logistique multinomiale pour prédire la variable catégorielle Apres_repture_ecole, qui peut prendre quatre catégories différentes (1, 2, 3, ou 4), en fonction des variables explicatives fournies.\n",
    "\n",
    " <font color=purple> 1. Compréhension générale du modèle :\n",
    "\n",
    "La régression logistique multinomiale permet de prédire la probabilité qu'un individu appartienne à une catégorie spécifique de la variable cible (Apres_repture_ecole), en fonction de plusieurs facteurs ou caractéristiques (comme sexe, âge, région, etc.).\n",
    "\n",
    "Pour chaque catégorie (2, 3, 4), le modèle calcule un \"logit\", qui est le logarithme du rapport des probabilités entre la catégorie cible (2, 3, ou 4) et la catégorie de référence (ici la catégorie 1).\n",
    "\n",
    "\n",
    "\n",
    " Déviance résiduelle : 86.93 – Cela mesure dans quelle mesure le modèle s'adapte aux données. Plus ce chiffre est faible, meilleur est l'ajustement.\n",
    "    AIC (Akaike Information Criterion) : 212.93 – Cela évalue la qualité globale du modèle en pénalisant les modèles trop complexes. Un AIC plus bas indique un modèle plus performant.\n",
    "\n",
    " <font color=purple> 2. Interprétation des catégories :\n",
    "\n",
    "d'aprés les équations pour chaque catégorie (par rapport à la catégorie 1) :\n",
    "\n",
    "<font color=purple> Catégorie 2 : <font color=black>\n",
    "    Les individus de sexe masculin et ceux ayant des problèmes avec les enseignants ont une probabilité plus élevée d'appartenir à cette catégorie. Toutefois, un bon comportement (Rq_Comprtement) réduit cette probabilité (Le sexe, etat_civil et Prob_Enseignat semblent avoir un impact significatif).\n",
    "\n",
    "<font color=purple> Catégorie 3 :<font color=black>\n",
    "    Les jeunes adultes ou les individus dont les parents ont un faible niveau éducatif ont une probabilité accrue d'appartenir à cette catégorie. Par ailleurs, des relations positives avec les parents réduisent cette probabilité (sexe, etat_civil, et Rq_Comprtement jouent un rôle important).\n",
    "    \n",
    "<font color=purple> Catégorie 4 :<font color=black>\n",
    "    Les coefficients extrêmes pour certaines variables comme Age, Region et Redoublant suggèrent que cette catégorie est fortement influencée par ces facteurs. Les personnes plus âgées, ayant redoublé plusieurs fois ou ayant des problèmes avec leurs enseignants, ont moins de chances d'appartenir à cette catégorie.\n",
    "\n",
    "**=> Donc le modèle met en évidence les facteurs qui influencent significativement la probabilité qu'un individu tombe dans une catégorie particulière après avoir quitté l'école. Ces facteurs incluent le sexe, l'âge, le revenu familial, les redoublements, les relations parentales, et les problèmes rencontrés dans l'environnement scolaire.**"
   ]
  },
  {
   "cell_type": "markdown",
   "id": "290f28fa-0c77-4e87-834c-b4048be14def",
   "metadata": {},
   "source": [
    "### <font color=green> b) Déterminer **la qualité du modèle.**"
   ]
  },
  {
   "cell_type": "markdown",
   "id": "5518a12b-942d-47cb-b9e0-f8f67f6e1c27",
   "metadata": {},
   "source": [
    "### <font color=blue>**Les testes d'hypothéses:**"
   ]
  },
  {
   "cell_type": "code",
   "execution_count": 101,
   "id": "0f26e24f-4d6d-4b6d-a040-34bc232bd1a7",
   "metadata": {
    "scrolled": true
   },
   "outputs": [
    {
     "name": "stderr",
     "output_type": "stream",
     "text": [
      "Installation du package dans 'C:/Users/USER/AppData/Local/R/win-library/4.3'\n",
      "(car 'lib' n'est pas spécifié)\n",
      "\n"
     ]
    },
    {
     "name": "stdout",
     "output_type": "stream",
     "text": [
      "le package 'lmtest' a été décompressé et les sommes MD5 ont été vérifiées avec succés\n",
      "\n",
      "Les packages binaires téléchargés sont dans\n",
      "\tC:\\Users\\USER\\AppData\\Local\\Temp\\RtmpMFabeY\\downloaded_packages\n"
     ]
    }
   ],
   "source": [
    "install.packages(\"lmtest\")"
   ]
  },
  {
   "cell_type": "code",
   "execution_count": 53,
   "id": "efb995d5-c5f7-4331-bf27-9957de4b2ed4",
   "metadata": {},
   "outputs": [],
   "source": [
    "library(lmtest)"
   ]
  },
  {
   "cell_type": "markdown",
   "id": "3684c4fc-dc23-45fb-a2ad-0383a6b96dc1",
   "metadata": {},
   "source": [
    "#### <font color=brown>**test d'éxogéinété:** "
   ]
  },
  {
   "cell_type": "code",
   "execution_count": 109,
   "id": "6424b6f7-23fe-4730-993a-ac00dcd4f40b",
   "metadata": {},
   "outputs": [
    {
     "data": {
      "text/plain": [
       "\n",
       "\tRainbow test\n",
       "\n",
       "data:  reg\n",
       "Rain = 0.81908, df1 = 45, df2 = 24, p-value = 0.7243\n"
      ]
     },
     "metadata": {},
     "output_type": "display_data"
    }
   ],
   "source": [
    "raintest(reg)"
   ]
  },
  {
   "cell_type": "markdown",
   "id": "96ee8e49-0db6-4f20-be2a-7d2fb6193e12",
   "metadata": {},
   "source": [
    "#### **Interprétation de test d'éxogéinété:** \n",
    "H0:indépendance entre x et e\n",
    "\n",
    "H1:dépendance entre x et e\n",
    "\n",
    "p-value=0.7243>0.05 => on accepte H0 : indépendance entre x et e"
   ]
  },
  {
   "cell_type": "markdown",
   "id": "a3e198ed-1fb9-4995-8c47-ccc8bedb0225",
   "metadata": {},
   "source": [
    "#### <font color=brown>**test d'autocorrélation des erreurs:** "
   ]
  },
  {
   "cell_type": "code",
   "execution_count": 107,
   "id": "93a999a7-a50b-4e16-83c9-50ffe3026e42",
   "metadata": {},
   "outputs": [
    {
     "data": {
      "text/plain": [
       "\n",
       "\tDurbin-Watson test\n",
       "\n",
       "data:  reg\n",
       "DW = 2.3257, p-value = 0.8594\n",
       "alternative hypothesis: true autocorrelation is greater than 0\n"
      ]
     },
     "metadata": {},
     "output_type": "display_data"
    }
   ],
   "source": [
    "dwtest(reg)"
   ]
  },
  {
   "cell_type": "markdown",
   "id": "0e1faf1e-dcf3-41f7-a937-ab08bdca3424",
   "metadata": {},
   "source": [
    "#### **Interprétation de test d'autocorrélation des erreurs:** \n",
    "H0:absence d'autocorrélation des erreurs\n",
    "\n",
    "H1:autocorrélation des erreurs\n",
    "\n",
    "p-value= 0.8594>0.05 => on accepte H0 : absence d'autocorrélation des erreurs"
   ]
  },
  {
   "cell_type": "markdown",
   "id": "5517ded7-535e-48fe-8acb-9a3c45848188",
   "metadata": {},
   "source": [
    "#### <font color=brown>**test normalité des erreurs:** "
   ]
  },
  {
   "cell_type": "code",
   "execution_count": 115,
   "id": "9a6cd344-def5-4d1c-83a7-b4dda3046765",
   "metadata": {},
   "outputs": [
    {
     "data": {
      "text/plain": [
       "\n",
       "\tShapiro-Wilk normality test\n",
       "\n",
       "data:  residuals(reg)\n",
       "W = 0.81697, p-value < 2.2e-16\n"
      ]
     },
     "metadata": {},
     "output_type": "display_data"
    }
   ],
   "source": [
    "shapiro.test(residuals(reg))"
   ]
  },
  {
   "cell_type": "markdown",
   "id": "7f6a2f4b-56f4-4ea4-9351-e24e68bcb2b1",
   "metadata": {},
   "source": [
    "#### **Interprétation de test de normalité des erreurs:** \n",
    "H0:normalité des erreurs\n",
    "\n",
    "H1:absence de normalité des erreurs\n",
    "\n",
    "p-value= 2.2e-16<0.05 => on accepte H1 : absence de normalité des erreurs"
   ]
  },
  {
   "cell_type": "markdown",
   "id": "21ef31ad-2d37-4235-ab5a-97255ccb8201",
   "metadata": {},
   "source": [
    "### <font color=blue>**La matrice de corrélation:**"
   ]
  },
  {
   "cell_type": "code",
   "execution_count": 29,
   "id": "412e3406-6d27-4b68-99d3-e85d5a644f7c",
   "metadata": {},
   "outputs": [
    {
     "name": "stdout",
     "output_type": "stream",
     "text": [
      " [1] 1    1    2    2    2    3    4    2    2    2    3    2    2    2    3   \n",
      "[16] 1    2    1    1    1    1    4    2    2    2    2    4    1    2    3   \n",
      "[31] 3    3    3    <NA> 2    2    2    2    2    4    3    3    2    1    4   \n",
      "[46] 3    2    2    4    3    4    1    3    1    2    1    4    1    3    1   \n",
      "[61] 1    1    1    1    1    1    2    4    2    3    3    3    2    3    2   \n",
      "[76] 1    1    1    1    1    1    1    1    1    4    4    1    1    1    1   \n",
      "[91] 1   \n",
      "Levels: 1 2 3 4\n"
     ]
    }
   ],
   "source": [
    "pred.prob=predict(reg,newdata=data)\n",
    "print(pred.prob)"
   ]
  },
  {
   "cell_type": "code",
   "execution_count": 33,
   "id": "09d25a0b-8ea7-40da-8d26-b71a615efc54",
   "metadata": {},
   "outputs": [
    {
     "name": "stdout",
     "output_type": "stream",
     "text": [
      "   pred.prob\n",
      "     1  2  3  4\n",
      "  1 29  0  0  0\n",
      "  2  3 23  5  0\n",
      "  3  2  5 12  1\n",
      "  4  0  0  0 10\n"
     ]
    }
   ],
   "source": [
    "mc=table(data$Apres_repture_ecole,pred.prob)\n",
    "print(mc)"
   ]
  },
  {
   "cell_type": "code",
   "execution_count": 75,
   "id": "b010de67-85f0-4007-b918-627104878d41",
   "metadata": {},
   "outputs": [
    {
     "name": "stdout",
     "output_type": "stream",
     "text": [
      "Précision globale :  0.8222222 \n",
      "Précision par classe :  1 0.7419355 0.6 1 \n",
      "Rappel par classe :  0.8529412 0.8214286 0.7058824 0.9090909 \n",
      "F1-Score par classe :  0.9206349 0.779661 0.6486486 0.952381 \n",
      "Matrice de confusion normalisée : \n",
      "   pred.prob\n",
      "             1          2          3          4\n",
      "  1 0.32222222 0.00000000 0.00000000 0.00000000\n",
      "  2 0.03333333 0.25555556 0.05555556 0.00000000\n",
      "  3 0.02222222 0.05555556 0.13333333 0.01111111\n",
      "  4 0.00000000 0.00000000 0.00000000 0.11111111\n"
     ]
    }
   ],
   "source": [
    "# Calcul des métriques\n",
    "accuracy <- sum(diag(mc)) / sum(mc)\n",
    "precision <- diag(mc) / rowSums(mc)\n",
    "recall <- diag(mc) / colSums(mc)\n",
    "f1_score <- 2 * (precision * recall) / (precision + recall)\n",
    "\n",
    "# Affichage des résultats\n",
    "cat(\"Précision globale : \", accuracy, \"\\n\")\n",
    "cat(\"Précision par classe : \", precision, \"\\n\")\n",
    "cat(\"Rappel par classe : \", recall, \"\\n\")\n",
    "cat(\"F1-Score par classe : \", f1_score, \"\\n\")\n",
    "\n",
    "# Matrice de confusion normalisée\n",
    "mc_normalized <- mc / sum(mc)\n",
    "cat(\"Matrice de confusion normalisée : \\n\")\n",
    "print(mc_normalized)\n"
   ]
  },
  {
   "cell_type": "markdown",
   "id": "da0ae7e1-61e1-4d27-8e3a-41b28d97ad69",
   "metadata": {},
   "source": [
    "### **Interprétation de la matrice de corrélation**\n",
    "#### <font color=red>**Les résultats que vous avez obtenus montrent une bonne performance générale de votre modèle de régression logistique multinomiale(modéle de bonne qualité)**\n",
    "1. Précision globale (0.822)\n",
    "<font color=red> Cela signifie que 82,2 % des prédictions du modèle sont correctes. C'est un bon indicateur que le modèle fonctionne de manière efficace.\n",
    "\n",
    "3. Précision par classe\n",
    "    Classe 1 : Précision de 1.0 – Votre modèle fait des prédictions parfaites pour la classe 1.\n",
    "    Classe 2 : Précision de 0.742 – Le modèle fait une erreur de classification dans environ 25.8 % des cas pour la classe 2.\n",
    "    Classe 3 : Précision de 0.6 – Le modèle fait une erreur dans 40 % des cas pour la classe 3.\n",
    "    Classe 4 : Précision de 1.0 – Le modèle prédit parfaitement les éléments de la classe 4.\n",
    "\n",
    "<font color=red> Cela indique que votre modèle fait mieux pour certaines classes (notamment la classe 1 et la classe 4) que pour d'autres (comme la classe 3).\n",
    "\n",
    "3. Rappel par classe\n",
    "\n",
    "    Classe 1 : Rappel de 0.853 – Le modèle identifie 85,3 % des éléments de la classe 1.\n",
    "    Classe 2 : Rappel de 0.821 – Le modèle identifie 82,1 % des éléments de la classe 2.\n",
    "    Classe 3 : Rappel de 0.706 – Le modèle identifie 70,6 % des éléments de la classe 3.\n",
    "    Classe 4 : Rappel de 0.909 – Le modèle identifie 90,9 % des éléments de la classe 4.\n",
    "\n",
    "<font color=purple>Le modèle semble particulièrement performant pour identifier les éléments de la classe 4 et relativement bien pour la classe 1 et la classe 2, mais légèrement moins pour la classe 3.\n",
    "4. F1-Score par classe\n",
    "\n",
    "Le F1-score combine la précision et le rappel. Plus il est élevé, mieux c'est :\n",
    "\n",
    "    Classe 1 : 0.921 – Excellente performance, équilibrée entre précision et rappel.\n",
    "    Classe 2 : 0.780 – Performance moyenne, le modèle équilibre bien la précision et le rappel pour cette classe.\n",
    "    Classe 3 : 0.649 – Le modèle a des difficultés à équilibrer précision et rappel pour cette classe.\n",
    "    Classe 4 : 0.952 – Excellente performance, avec un bon équilibre entre précision et rappel.\n",
    "\n",
    "<font color=red> 5. Matrice de confusion normalisée\n",
    "\n",
    "La matrice de confusion normalisée montre la proportion des prédictions correctes et incorrectes par classe :\n",
    "\n",
    "    Classe 1 : 32,2 % des prédictions sont correctement attribuées à la classe 1.\n",
    "    Classe 2 : 25,6 % des observations réelles de la classe 2 sont correctement attribuées à cette classe, et une proportion non négligeable est incorrectement classée dans la classe 3.\n",
    "    Classe 3 : 13,3 % des prédictions sont correctement attribuées à la classe 3, et des erreurs sont faites avec les classes 2 et 4.\n",
    "    Classe 4 : 11,1 % des prédictions correctes pour la classe 4.\n",
    "\n",
    "\n",
    "**=>Les points forts : Le modèle montre une bonne capacité à prédire correctement les classes 1 et 4, avec des scores de précision, de rappel et de F1 élevés pour ces classes.**\n",
    "\n",
    "**=> Les points à améliorer : Le modèle semble moins performant pour la classe 3, avec une précision plus faible (60 %) et un rappel plus faible (70,6 %). Le modèle pourrait bénéficier de plus d'informations ou d'une meilleure modélisation pour cette classe.**\n",
    "    "
   ]
  },
  {
   "cell_type": "markdown",
   "id": "ab721e41-244c-49c2-9d3a-9131fc7ace61",
   "metadata": {},
   "source": [
    "### <font color=green> 2) a) Expliquer la variable sensation après rupture école en fonction des variables sexe, age, région, état civil, N-educatif, membre_famille, Revenu_famille, Revenu_mensuel, redoublant, prob_enseignant, Aide_école, Rq_comportement, Relation_parent, niveau educatif père, niveau éducatif mère, sign_école, endroit_fréquent, ph_famille, Ricule_prof et Ricule collègue."
   ]
  },
  {
   "cell_type": "markdown",
   "id": "a24e139f-455d-4150-8e28-e5a895395689",
   "metadata": {},
   "source": [
    "### <font color=blue>**Regresion logistique multinomial:**"
   ]
  },
  {
   "cell_type": "markdown",
   "id": "17b87216-d778-4b51-9aac-04f38fb47294",
   "metadata": {},
   "source": [
    "<font color=green> Choix du modéle:<font color=black> Dans ce travail, j'ai utilisé <font color=red> un modèle de régression logistique multinomiale <font color=black> afin de prédire <font color=red>la variable cible data$Sensation_apres_ecole, <font color=black>qui est une variable catégorielle divisée en <font color=red> trois classes distinctes : classe 1, classe 2 et classe 3 <font color=black> La régression logistique multinomiale est particulièrement adaptée à ce type de problème, car elle permet de modéliser les relations entre plusieurs variables explicatives et une variable dépendante catégorielle à plus de deux niveaux.\n",
    "\n",
    "Ainsi, le modèle a été ajusté pour estimer les probabilités d'appartenance de chaque observation aux différentes classes, permettant ainsi de classer les individus en fonction de leurs caractéristiques et de prédire dans quelle catégorie ils appartiendront, tout en prenant en compte les interactions entre les différentes classes.\n"
   ]
  },
  {
   "cell_type": "code",
   "execution_count": 160,
   "id": "791b18dd-655e-4954-8fa2-cf3e39bf9ae6",
   "metadata": {},
   "outputs": [
    {
     "name": "stdout",
     "output_type": "stream",
     "text": [
      "# weights:  66 (42 variable)\n",
      "initial  value 98.875106 \n",
      "iter  10 value 69.921757\n",
      "iter  20 value 63.545892\n",
      "iter  30 value 62.811185\n",
      "iter  40 value 62.710519\n",
      "iter  50 value 62.693622\n",
      "iter  60 value 62.691463\n",
      "final  value 62.691445 \n",
      "converged\n"
     ]
    }
   ],
   "source": [
    "reg1=multinom(data$Sensation_apres_ecole~data$sexe+data$Age+data$Region+data$etat_civil+data$N_educatif+data$Membre_famille+data$Revenu_famille+data$Revenu_Mensuelle+data$Redoublant+data$Prob_Enseignat+data$Aide_ecole+data$Rq_Comprtement+data$Relat_Parent+data$Niveau_educ_pere+data$Niveau_educ_mere+data$Sign_ecole+data$Endroit_freq+data$Ph_famille+data$Ricule_Prof+data$Ricule_collegue)"
   ]
  },
  {
   "cell_type": "code",
   "execution_count": 59,
   "id": "21a84db7-a2c4-4f15-9f2e-9fd39ac2a83a",
   "metadata": {},
   "outputs": [
    {
     "data": {
      "text/plain": [
       "Call:\n",
       "multinom(formula = data$Sensation_apres_ecole ~ data$sexe + data$Age + \n",
       "    data$Region + data$etat_civil + data$N_educatif + data$Membre_famille + \n",
       "    data$Revenu_famille + data$Revenu_Mensuelle + data$Redoublant + \n",
       "    data$Prob_Enseignat + data$Aide_ecole + data$Rq_Comprtement + \n",
       "    data$Relat_Parent + data$Niveau_educ_pere + data$Niveau_educ_mere + \n",
       "    data$Sign_ecole + data$Endroit_freq + data$Ph_famille + data$Ricule_Prof + \n",
       "    data$Ricule_collegue)\n",
       "\n",
       "Coefficients:\n",
       "  (Intercept)  data$sexe   data$Age data$Region data$etat_civil data$N_educatif\n",
       "2  -2.0092479 -15.288989 1.70302770    2.247275      -2.1451832      -1.1150235\n",
       "3  -0.9491642   1.817137 0.05406014   -1.968661       0.4986185      -0.6205035\n",
       "  data$Membre_famille data$Revenu_famille data$Revenu_Mensuelle data$Redoublant\n",
       "2         -0.06729289          -1.5735217          0.0023857860      -0.5856426\n",
       "3         -0.14471002          -0.3600626          0.0007416636       3.8445603\n",
       "  data$Prob_Enseignat data$Aide_ecole data$Rq_Comprtement data$Relat_Parent\n",
       "2          -0.1390584      -0.1679547          0.14149738       -0.33008611\n",
       "3           1.6831663       0.3077777         -0.02068932        0.09477963\n",
       "  data$Niveau_educ_pere data$Niveau_educ_mere data$Sign_ecole data$Endroit_freq\n",
       "2             -0.311379             0.9435157      -0.4591416        0.18203647\n",
       "3             -1.924186             2.3187715       0.2721123        0.09527128\n",
       "  data$Ph_famille data$Ricule_Prof data$Ricule_collegue\n",
       "2       0.9419490       -0.1390713           -0.9020797\n",
       "3      -0.6077472       -1.0706031           -0.8689986\n",
       "\n",
       "Std. Errors:\n",
       "  (Intercept)    data$sexe  data$Age data$Region data$etat_civil\n",
       "2    3.876252 5.646761e-06 0.6223653    1.102382       1.0563531\n",
       "3    3.512796 2.066635e+00 0.6365403    1.191550       0.9626981\n",
       "  data$N_educatif data$Membre_famille data$Revenu_famille data$Revenu_Mensuelle\n",
       "2       0.6675847           0.1810131           0.9815209           0.001789172\n",
       "3       0.7278866           0.2100327           1.0617737           0.001792649\n",
       "  data$Redoublant data$Prob_Enseignat data$Aide_ecole data$Rq_Comprtement\n",
       "2       0.9406428           0.8952958       0.2712475           0.4495447\n",
       "3       1.8712752           1.0292073       0.2963439           0.4606205\n",
       "  data$Relat_Parent data$Niveau_educ_pere data$Niveau_educ_mere data$Sign_ecole\n",
       "2         0.6381476             0.7073586             0.7160810       0.4320149\n",
       "3         0.7660096             0.8951740             0.9449035       0.3941487\n",
       "  data$Endroit_freq data$Ph_famille data$Ricule_Prof data$Ricule_collegue\n",
       "2         0.2570813       0.4308002        0.9336894             1.018436\n",
       "3         0.2536207       0.4460429        1.2204663             1.054208\n",
       "\n",
       "Residual Deviance: 125.3829 \n",
       "AIC: 209.3829 "
      ]
     },
     "metadata": {},
     "output_type": "display_data"
    }
   ],
   "source": [
    "summary(reg1)"
   ]
  },
  {
   "cell_type": "markdown",
   "id": "d6ddc0ef-f093-46a0-b18b-3edad3cb2bd9",
   "metadata": {},
   "source": [
    "### <font color=purple> **Interprétation:**"
   ]
  },
  {
   "cell_type": "markdown",
   "id": "bbbb5e1c-8364-4003-a83c-558085e94d22",
   "metadata": {},
   "source": [
    "La régression logistique multinomiale estime les probabilités d'appartenance à chaque classe k de la variable cible (ici k∈{1,2,3}k∈{1,2,3}) en fonction des variables prédictives. L'expression générale est la suivante :\n",
    "#### <font color=purple>**log⁡(P(Y=k)P(Y=1))=β0k+∑j=1pβjkXj**\n",
    "\n",
    "Expression du Modèle pour les Données\n",
    "\n",
    "### <font color=red> Pour la classe Y=2 (comparée à Y=1) :\n",
    "log⁡(P(Y=2)P(Y=1))=−2.009−15.289⋅sexe+1.703⋅Age+2.247⋅Region−2.145⋅etat_civil−1.115⋅N_educatif−0.067⋅Membre_famille−1.574⋅Revenu_famille+0.002⋅Revenu_Mensuelle−0.586⋅Redoublant−0.139⋅Prob_Enseignat−0.168⋅Aide_ecole+0.141⋅Rq_Comprtement−0.330⋅Relat_Parent−0.311⋅Niveau_educ_pere+0.944⋅Niveau_educ_mere−0.459⋅Sign_ecole+0.182⋅Endroit_freq+0.942⋅Ph_famille−0.139⋅Ricule_Prof−0.902⋅Ricule_collegue\n",
    "\n",
    "### <font color=red>Pour la classe Y=3 (comparée à Y=1) :\n",
    "log⁡(P(Y=3)P(Y=1))=−0.949+1.817⋅sexe+0.054⋅Age−1.969⋅Region+0.499⋅etat_civil−0.621⋅N_educatif−0.145⋅Membre_famille−0.360⋅Revenu_famille+0.001⋅Revenu_Mensuelle+3.845⋅Redoublant+1.683⋅Prob_Enseignat+0.308⋅Aide_ecole−0.021⋅Rq_Comprtement+0.095⋅Relat_Parent−1.924⋅Niveau_educ_pere+2.319⋅Niveau_educ_mere+0.272⋅Sign_ecole+0.095⋅Endroit_freq−0.608⋅Ph_famille−1.071⋅Ricule_Prof−0.869⋅Ricule_collegue\n"
   ]
  },
  {
   "cell_type": "markdown",
   "id": "51e41794-3592-40e4-a263-c9c3bca1b83f",
   "metadata": {},
   "source": [
    " Effets des variables : Chaque coefficient (β) mesure l'effet d'une unité d'augmentation de la variable correspondante sur le logarithme des rapports de probabilités (log⁡(P(Y=k)P(Y=1))log(P(Y=1)P(Y=k)​)).\n",
    "\n",
    "<font color=purple> Un coefficient positif (β>0) indique que l'augmentation de la variable augmente la probabilité d'appartenir à la classe k par rapport à la classe de référence (Y=1).\n",
    "\n",
    "<font color=purple>Un coefficient négatif (β<0) indique une diminution de cette probabilité.\n",
    "\n",
    "Exemple avec sexe pour Y=2 : Le coefficient de sexe est fortement négatif (-15.289), ce qui signifie que l'appartenance au sexe codé comme 11 réduit considérablement la probabilité d'être dans la classe Y=2 par rapport à Y=1.\n",
    "\n",
    "Variable Redoublant pour Y=3 : Le coefficient positif très élevé (3.845) indique que le fait d'être redoublant augmente fortement la probabilité d'appartenir à Y=3 par rapport à Y=1."
   ]
  },
  {
   "cell_type": "markdown",
   "id": "4d2621af-d72a-4215-a7e1-2edba773a02a",
   "metadata": {},
   "source": [
    "Effet du sexe :\n",
    "\n",
    "    Pour la catégorie 2, le coefficient de sexe est extrêmement négatif (-15.29), ce qui indique que le sexe est fortement associé à une réduction de la probabilité d'appartenir à la catégorie 2. Cela pourrait suggérer que les individus d'un certain sexe (par exemple, masculin ou féminin, selon le codage des données) sont significativement moins susceptibles de ressentir cette sensation après l'école.\n",
    "    Pour la catégorie 3, le coefficient est légèrement positif (1.82), indiquant une légère augmentation de la probabilité pour cette catégorie.\n",
    "\n",
    "Autres variables :\n",
    "\n",
    "    Âge : A un effet positif pour la catégorie 2 (1.70) et neutre pour la catégorie 3 (0.05). Cela pourrait indiquer que les étudiants plus âgés ressentent plus fréquemment une sensation spécifique après l'école.\n",
    "    Redoublant : Ce facteur est très positif (3.84) pour la catégorie 3, ce qui suggère que les étudiants redoublants ont une probabilité élevée de ressentir une sensation correspondant à cette catégorie.\n",
    "    Ricule des collègues : Le coefficient est négatif pour les deux catégories (-0.90 pour 2 et -0.87 pour 3), indiquant que les moqueries des collègues réduisent les probabilités d'appartenir aux catégories 2 et 3."
   ]
  },
  {
   "cell_type": "markdown",
   "id": "736bef39-56a6-451e-a981-059e3d397f57",
   "metadata": {},
   "source": [
    "### <font color=green> b) Déterminer **la qualité du modèle**."
   ]
  },
  {
   "cell_type": "markdown",
   "id": "639ee5aa-18d6-4483-8ee0-6804b329648b",
   "metadata": {},
   "source": [
    "### <font color=blue>**Les testes d'hypothéses:**"
   ]
  },
  {
   "cell_type": "markdown",
   "id": "4f4625fd-8e31-4d57-8ef9-93c6924fe3e2",
   "metadata": {},
   "source": [
    "#### <font color=brown>**test d'éxogéinété:** "
   ]
  },
  {
   "cell_type": "code",
   "execution_count": 162,
   "id": "abba5232-d72b-477e-bed6-298a82faf809",
   "metadata": {},
   "outputs": [
    {
     "data": {
      "text/plain": [
       "\n",
       "\tRainbow test\n",
       "\n",
       "data:  reg1\n",
       "Rain = 0.95122, df1 = 45, df2 = 24, p-value = 0.5697\n"
      ]
     },
     "metadata": {},
     "output_type": "display_data"
    }
   ],
   "source": [
    "raintest(reg1)"
   ]
  },
  {
   "cell_type": "markdown",
   "id": "2e44437b-bf90-46b2-915d-17622dc79b88",
   "metadata": {},
   "source": [
    "#### **Interprétation de test d'éxogéinété:** \n",
    "H0:indépendance entre x et e\n",
    "\n",
    "H1:dépendance entre x et e\n",
    "\n",
    "p-value=0.5697>0.05 => on accepte H0 : indépendance entre x et e"
   ]
  },
  {
   "cell_type": "markdown",
   "id": "0950d961-7176-4709-a945-eea665b98de2",
   "metadata": {},
   "source": [
    "#### <font color=brown>**test d'autocorrélation des erreurs:** "
   ]
  },
  {
   "cell_type": "code",
   "execution_count": 63,
   "id": "a5ae5875-cefc-4b18-bda3-5512564e6091",
   "metadata": {},
   "outputs": [
    {
     "data": {
      "text/plain": [
       "\n",
       "\tDurbin-Watson test\n",
       "\n",
       "data:  reg1\n",
       "DW = 1.9168, p-value = 0.1877\n",
       "alternative hypothesis: true autocorrelation is greater than 0\n"
      ]
     },
     "metadata": {},
     "output_type": "display_data"
    }
   ],
   "source": [
    "dwtest(reg1)"
   ]
  },
  {
   "cell_type": "markdown",
   "id": "3f4a373e-a05d-4cc4-a04d-0d7bb5273ed6",
   "metadata": {},
   "source": [
    "#### **Interprétation de test d'autocorrélation des erreurs:** \n",
    "H0:absence d'autocorrélation des erreurs\n",
    "\n",
    "H1:autocorrélation des erreurs\n",
    "\n",
    "p-value= 0.1877>0.05 => on accepte H0 : absence d'autocorrélation des erreurs"
   ]
  },
  {
   "cell_type": "markdown",
   "id": "c5f51458-2f54-4259-a26d-18ea55a74759",
   "metadata": {},
   "source": [
    "#### <font color=brown>**test normalité des erreurs:** "
   ]
  },
  {
   "cell_type": "code",
   "execution_count": 65,
   "id": "3794483f-40fa-4af6-aafe-7ea2115fe01b",
   "metadata": {},
   "outputs": [
    {
     "data": {
      "text/plain": [
       "\n",
       "\tShapiro-Wilk normality test\n",
       "\n",
       "data:  residuals(reg1)\n",
       "W = 0.96703, p-value = 7.302e-06\n"
      ]
     },
     "metadata": {},
     "output_type": "display_data"
    }
   ],
   "source": [
    "shapiro.test(residuals(reg1))"
   ]
  },
  {
   "cell_type": "markdown",
   "id": "9bd29651-9459-492e-b209-198cd6c7dab6",
   "metadata": {},
   "source": [
    "#### **Interprétation de test de normalité des erreurs:** \n",
    "H0:normalité des erreurs\n",
    "\n",
    "H1:absence de normalité des erreurs\n",
    "\n",
    "p-value=  7.302e-06<0.05 => on accepte H1 : absence de normalité des erreurs"
   ]
  },
  {
   "cell_type": "markdown",
   "id": "644ebbd5-248f-48c0-81b6-d1ef905c05b0",
   "metadata": {},
   "source": [
    "### <font color=blue>**La matrice de confusion:**"
   ]
  },
  {
   "cell_type": "code",
   "execution_count": 141,
   "id": "bfe73faf-3fc7-4ec7-b31e-10f34ce32374",
   "metadata": {},
   "outputs": [
    {
     "name": "stdout",
     "output_type": "stream",
     "text": [
      " [1] 1    1    1    3    1    1    1    3    1    2    3    2    3    3    1   \n",
      "[16] 3    1    3    3    1    3    3    3    3    3    2    2    3    3    2   \n",
      "[31] 3    3    2    <NA> 3    3    3    3    2    2    1    1    3    2    2   \n",
      "[46] 2    1    2    2    3    1    2    3    3    2    1    2    3    3    1   \n",
      "[61] 1    2    3    1    1    1    2    2    3    2    2    2    2    2    2   \n",
      "[76] 2    2    1    2    2    1    2    3    2    2    2    1    1    1    1   \n",
      "[91] 1   \n",
      "Levels: 1 2 3\n"
     ]
    }
   ],
   "source": [
    "pred.prob=predict(reg1,newdata=data)\n",
    "print(pred.prob)"
   ]
  },
  {
   "cell_type": "code",
   "execution_count": 143,
   "id": "09696cde-5974-4ccd-b569-b1c5f0e08890",
   "metadata": {},
   "outputs": [
    {
     "name": "stdout",
     "output_type": "stream",
     "text": [
      "   pred.prob\n",
      "     1  2  3\n",
      "  1 21  4  7\n",
      "  2  3 23  6\n",
      "  3  3  6 17\n"
     ]
    }
   ],
   "source": [
    "mc=table(data$Sensation_apres_ecole,pred.prob)\n",
    "print(mc)"
   ]
  },
  {
   "cell_type": "code",
   "execution_count": 145,
   "id": "10af0a73-dbda-4a3d-b2cb-5a3f508e976d",
   "metadata": {},
   "outputs": [
    {
     "name": "stdout",
     "output_type": "stream",
     "text": [
      "Précision globale :  0.6777778 \n",
      "Précision par classe :  0.65625 0.71875 0.6538462 \n",
      "Rappel par classe :  0.7777778 0.6969697 0.5666667 \n",
      "F1-Score par classe :  0.7118644 0.7076923 0.6071429 \n",
      "Matrice de confusion normalisée : \n",
      "   pred.prob\n",
      "             1          2          3\n",
      "  1 0.23333333 0.04444444 0.07777778\n",
      "  2 0.03333333 0.25555556 0.06666667\n",
      "  3 0.03333333 0.06666667 0.18888889\n"
     ]
    }
   ],
   "source": [
    "# Calcul des métriques\n",
    "accuracy <- sum(diag(mc)) / sum(mc)\n",
    "precision <- diag(mc) / rowSums(mc)\n",
    "recall <- diag(mc) / colSums(mc)\n",
    "f1_score <- 2 * (precision * recall) / (precision + recall)\n",
    "\n",
    "# Affichage des résultats\n",
    "cat(\"Précision globale : \", accuracy, \"\\n\")\n",
    "cat(\"Précision par classe : \", precision, \"\\n\")\n",
    "cat(\"Rappel par classe : \", recall, \"\\n\")\n",
    "cat(\"F1-Score par classe : \", f1_score, \"\\n\")\n",
    "\n",
    "# Matrice de confusion normalisée\n",
    "mc_normalized <- mc / sum(mc)\n",
    "cat(\"Matrice de confusion normalisée : \\n\")\n",
    "print(mc_normalized)\n"
   ]
  },
  {
   "cell_type": "markdown",
   "id": "5b3a258d-3462-4111-a13f-5069831d7fe2",
   "metadata": {},
   "source": [
    "### <font color=blue>**l'interprétation:**\n",
    "La matrice de confusion indique la performance de classification du modèle en comparant les valeurs prédites aux valeurs réelles. \n",
    "\n",
    "    Classes prédictives :\n",
    "        Classe 1 : Le modèle a correctement classé 21 observations, mais en a mal classé 4 dans la classe 2 et 7 dans la classe 3.\n",
    "        Classe 2 : Le modèle a correctement classé 23 observations, mais a mal classé 3 dans la classe 1 et 6 dans la classe 3.\n",
    "        Classe 3 : Le modèle a correctement classé 17 observations, mais en a mal classé 3 dans la classe 1 et 6 dans la classe 2.\n",
    "\n",
    "La matrice montre que le modèle a des difficultés à bien prédire la classe 3, car elle est souvent confondue avec les autres classes.\n",
    " Évaluation des métriques\n",
    "\n",
    "    Précision globale : 67.8 %\n",
    "   <font color=red> Cela signifie que le modèle prédit correctement la classe de Sensation_apres_ecole dans environ deux tiers des cas.(modéle acceptable)\n",
    "\n",
    "    Précision par classe :\n",
    "        Classe 1 : 65.63 %\n",
    "        Classe 2 : 71.88 %\n",
    "        Classe 3 : 65.38 %\n",
    "        La précision est assez homogène entre les classes, bien que la classe 2 ait une performance légèrement meilleure. Cela indique que lorsque le modèle prédit une classe, la probabilité qu'il ait raison est relativement similaire entre les classes.\n",
    "\n",
    "    Rappel par classe :\n",
    "        Classe 1 : 77.78 %\n",
    "        Classe 2 : 69.70 %\n",
    "        Classe 3 : 56.67 %\n",
    "        Le modèle identifie correctement les observations de la classe 1 dans 77.78 % des cas, mais il a plus de mal avec la classe 3 (56.67 %). Cela suggère que les caractéristiques associées à la classe 3 sont plus difficiles à distinguer.\n",
    "\n",
    "    F1-Score par classe :\n",
    "        Classe 1 : 71.19 %\n",
    "        Classe 2 : 70.77 %\n",
    "        Classe 3 : 60.71 %\n",
    "        L'équilibre entre la précision et le rappel est le plus faible pour la classe 3, ce qui confirme que le modèle a des performances relativement moins bonnes pour cette catégorie.\n",
    "\n",
    "    Matrice de confusion normalisée\n",
    "\n",
    "La matrice normalisée représente la proportion des observations dans chaque catégorie :\n",
    "\n",
    "    23.3 % des données totales sont bien classées dans la classe 1.\n",
    "    25.6 % des données totales sont bien classées dans la classe 2.\n",
    "    18.9 % des données totales sont bien classées dans la classe 3.\n",
    "\n",
    "Cela montre que le modèle a une meilleure capacité à classer les observations dans les classes 1 et 2 que dans la classe 3.\n",
    "\n",
    "**=>  Le modèle multinomial capture certaines relations importantes entre les variables indépendantes et la variable cible Sensation_apres_ecole. Toutefois, la performance globale (67.8 %) montre qu'il reste des marges d'amélioration, en particulier pour la classe 3, qui est la moins bien prédite.**\n",
    "\n",
    "**=> Les variables comme le sexe, l'âge, le redoublement, et les relations sociales (comme les moqueries) semblent avoir un effet important sur la probabilité de ressentir une certaine sensation après l'école. Néanmoins, il serait judicieux de procéder à une analyse approfondie de la significativité statistique des coefficients et éventuellement d'explorer d'autres modèles ou approches pour améliorer la performance globale.**"
   ]
  },
  {
   "cell_type": "markdown",
   "id": "25c2df1e-1e30-49cb-91bf-1f5adb70c6f1",
   "metadata": {},
   "source": [
    "### <font color=green> 3) a) Expliquer la variable violence en fonction des variables sexe, age, région, état civil, N-educatif, membre_famille, Revenu_famille, Revenu_mensuel, redoublant, prob_enseignant, Aide_école, Rq_comportement, Relation_parent, niveau educatif père, niveau éducatif mère, sign_école, endroit_fréquent, ph_famille, Ricule_prof et Ricule collègue."
   ]
  },
  {
   "cell_type": "markdown",
   "id": "8b8c228b-a95d-41c1-ba7f-d21e9ba5ea35",
   "metadata": {},
   "source": [
    "### <font color=blue>**Regresion logistique binaire:**"
   ]
  },
  {
   "cell_type": "markdown",
   "id": "13e91bec-b257-4f48-8138-228e59f6854a",
   "metadata": {},
   "source": [
    "<font color=green> Choix du modéle : <font color=black> Dans ce travail, j'ai utilisé <font color=red> un modèle de régression logistique binaire <font color=black> afin de prédire <font color=red>la variable cible data$Violence,<font color=black> qui est une variable catégorielle à deux niveaux distincts : <font color=red> présence ou absence de violence (0 ou 1). <font color=black>La régression logistique binaire est particulièrement adaptée à ce type de problème, car elle permet de modéliser les relations entre plusieurs variables explicatives et une variable dépendante binaire."
   ]
  },
  {
   "cell_type": "code",
   "execution_count": 184,
   "id": "1dddfa6c-e4ef-4204-9559-6022d3c4507f",
   "metadata": {},
   "outputs": [],
   "source": [
    "reg2=glm(data$Violence~data$sexe+data$Age+data$Region+data$etat_civil+data$N_educatif+data$Membre_famille+data$Revenu_famille+data$Revenu_Mensuelle+data$Redoublant+data$Prob_Enseignat+data$Aide_ecole+data$Rq_Comprtement+data$Relat_Parent+data$Niveau_educ_pere+data$Niveau_educ_mere+data$Sign_ecole+data$Endroit_freq+data$Ph_famille+data$Ricule_Prof+data$Ricule_collegue,family=binomial(logit))"
   ]
  },
  {
   "cell_type": "code",
   "execution_count": 71,
   "id": "e6aa6025-74c3-41e2-8924-efc654e0f305",
   "metadata": {},
   "outputs": [
    {
     "data": {
      "text/plain": [
       "\n",
       "Call:\n",
       "glm(formula = data$Violence ~ data$sexe + data$Age + data$Region + \n",
       "    data$etat_civil + data$N_educatif + data$Membre_famille + \n",
       "    data$Revenu_famille + data$Revenu_Mensuelle + data$Redoublant + \n",
       "    data$Prob_Enseignat + data$Aide_ecole + data$Rq_Comprtement + \n",
       "    data$Relat_Parent + data$Niveau_educ_pere + data$Niveau_educ_mere + \n",
       "    data$Sign_ecole + data$Endroit_freq + data$Ph_famille + data$Ricule_Prof + \n",
       "    data$Ricule_collegue, family = binomial(logit))\n",
       "\n",
       "Coefficients:\n",
       "                       Estimate Std. Error z value Pr(>|z|)   \n",
       "(Intercept)            6.068331   3.713106   1.634  0.10220   \n",
       "data$sexe              1.524793   2.123152   0.718  0.47265   \n",
       "data$Age              -1.055787   0.533032  -1.981  0.04762 * \n",
       "data$Region            1.002743   1.025685   0.978  0.32826   \n",
       "data$etat_civil        0.023552   0.854491   0.028  0.97801   \n",
       "data$N_educatif       -0.673330   0.624907  -1.077  0.28126   \n",
       "data$Membre_famille   -0.061506   0.193548  -0.318  0.75065   \n",
       "data$Revenu_famille    1.282953   0.974627   1.316  0.18806   \n",
       "data$Revenu_Mensuelle -0.004960   0.002148  -2.310  0.02090 * \n",
       "data$Redoublant       -1.211443   0.971904  -1.246  0.21259   \n",
       "data$Prob_Enseignat   -2.011366   0.982466  -2.047  0.04063 * \n",
       "data$Aide_ecole       -0.196824   0.270753  -0.727  0.46726   \n",
       "data$Rq_Comprtement    0.509223   0.424193   1.200  0.22996   \n",
       "data$Relat_Parent      0.418167   0.671604   0.623  0.53352   \n",
       "data$Niveau_educ_pere -0.504191   0.734461  -0.686  0.49241   \n",
       "data$Niveau_educ_mere -0.204263   0.672484  -0.304  0.76132   \n",
       "data$Sign_ecole       -0.093986   0.374688  -0.251  0.80194   \n",
       "data$Endroit_freq      0.392305   0.274418   1.430  0.15283   \n",
       "data$Ph_famille       -1.159309   0.420502  -2.757  0.00583 **\n",
       "data$Ricule_Prof       2.829689   1.229330   2.302  0.02135 * \n",
       "data$Ricule_collegue   0.983540   0.897752   1.096  0.27327   \n",
       "---\n",
       "Signif. codes:  0 '***' 0.001 '**' 0.01 '*' 0.05 '.' 0.1 ' ' 1\n",
       "\n",
       "(Dispersion parameter for binomial family taken to be 1)\n",
       "\n",
       "    Null deviance: 114.573  on 89  degrees of freedom\n",
       "Residual deviance:  68.687  on 69  degrees of freedom\n",
       "  (1 observation effacée parce que manquante)\n",
       "AIC: 110.69\n",
       "\n",
       "Number of Fisher Scoring iterations: 6\n"
      ]
     },
     "metadata": {},
     "output_type": "display_data"
    }
   ],
   "source": [
    "summary(reg2)"
   ]
  },
  {
   "cell_type": "markdown",
   "id": "c9b015cd-7527-4412-a08d-3b1c639dfdfa",
   "metadata": {},
   "source": [
    "### <font color=blue>Formule du modéle:\n",
    "### <font color=red> logit(P(Violence=1))=6.068+1.525⋅Sexe−1.056⋅Age+1.003⋅Region+0.024⋅Etat_civil−0.673⋅N_educatif−0.062⋅Membre_famille+1.283⋅Revenu_famille−0.005⋅Revenu_Mensuelle−1.211⋅Redoublant−2.011⋅Prob_Enseignat−0.197⋅Aide_ecole+0.509⋅Rq_Comprtement+0.418⋅Relat_Parent−0.504⋅Niveau_educ_pere−0.204⋅Niveau_educ_mere−0.094⋅Sign_ecole+0.392⋅Endroit_freq−1.159⋅Ph_famille+2.830⋅Ricule_Prof+0.984⋅Ricule_collegue\n",
    "\n",
    "La probabilité de violence (P(Violence=1)P(Violence=1)) est donnée par la transformation logistique :\n",
    "<font color=red> P(Violence=1)=1/(1+e−logit)"
   ]
  },
  {
   "cell_type": "markdown",
   "id": "50fdb5bc-5bfe-4565-80c7-47d73d21fb6e",
   "metadata": {},
   "source": [
    "### <font color=blue>Intérprétation:\n",
    "Variables significatives : Les variables ayant une influence significative sur la violence (p < 0.05) sont les suivantes :\n",
    "\n",
    "    Âge : Le coefficient de -1.056 indique que l'âge a une relation négative avec la probabilité de violence. Plus l'individu est âgé, moins il est susceptible de montrer de la violence.\n",
    "    Revenu mensuel : Un coefficient de -0.00496 signifie qu'une augmentation du revenu mensuel réduit légèrement la probabilité de violence.\n",
    "    Problèmes avec les enseignants (Prob_Enseignat) : Un coefficient de -2.011 montre que les conflits ou problèmes avec les enseignants diminuent fortement la probabilité de violence.\n",
    "    Phénomène familial (Ph_famille) : Un coefficient de -1.159 indique que les tensions ou conflits familiaux réduisent la probabilité de violence, de façon significative.\n",
    "    Railleries des professeurs (Ricule_Prof) : Avec un coefficient de 2.829, cela montre que les railleries des professeurs augmentent significativement la probabilité de comportements violents.\n",
    "\n",
    "Autres variables : Bien que les autres variables aient des coefficients, leurs p-valeurs montrent qu'elles ne sont pas significativement associées à la violence dans ce modèle.\n",
    "\n",
    "Par exemple :\n",
    "Si un individu a 20 ans, un sexe codé à 1, un revenu mensuel de 2000 unités, et a subi des railleries de professeurs (Ricule_Prof=1), vous insérez ces valeurs dans la formule pour obtenir P(Violence=1)P(Violence=1)."
   ]
  },
  {
   "cell_type": "markdown",
   "id": "7322a3a3-964b-4293-a8e9-529aec327d5e",
   "metadata": {},
   "source": [
    "### <font color=green> b) Déterminer **la qualité du modèle.**"
   ]
  },
  {
   "cell_type": "markdown",
   "id": "3bfdbab4-34e2-4ad4-a8bf-6c66610cae73",
   "metadata": {},
   "source": [
    "### <font color=blue>**Les testes d'hypothéses:**"
   ]
  },
  {
   "cell_type": "markdown",
   "id": "153b75a7-df35-4cb6-8d12-282727e0acab",
   "metadata": {},
   "source": [
    "#### <font color=brown>**test d'éxogéinété:** "
   ]
  },
  {
   "cell_type": "code",
   "execution_count": 186,
   "id": "46c724c6-46a9-48a7-9a72-3f379aefcae4",
   "metadata": {},
   "outputs": [
    {
     "data": {
      "text/plain": [
       "\n",
       "\tRainbow test\n",
       "\n",
       "data:  reg2\n",
       "Rain = 1.0751, df1 = 45, df2 = 24, p-value = 0.4349\n"
      ]
     },
     "metadata": {},
     "output_type": "display_data"
    }
   ],
   "source": [
    "raintest(reg2)"
   ]
  },
  {
   "cell_type": "markdown",
   "id": "97ac55b2-c6ee-4de5-846c-b1e8ff52dc79",
   "metadata": {},
   "source": [
    "#### **Interprétation de test d'éxogéinété:** \n",
    "H0:indépendance entre x et e\n",
    "\n",
    "H1:dépendance entre x et e\n",
    "\n",
    "p-value=0.4349>0.05 => on accepte H0 : indépendance entre x et e"
   ]
  },
  {
   "cell_type": "markdown",
   "id": "8c9ce086-dfc4-4a54-b0d1-9b5be695bc3d",
   "metadata": {},
   "source": [
    "#### <font color=brown>**test d'autocorrélation des erreurs:** "
   ]
  },
  {
   "cell_type": "code",
   "execution_count": 188,
   "id": "04cbf5b9-2b44-4556-a367-88e401f5b8c5",
   "metadata": {},
   "outputs": [
    {
     "data": {
      "text/plain": [
       "\n",
       "\tDurbin-Watson test\n",
       "\n",
       "data:  reg2\n",
       "DW = 1.4902, p-value = 0.00152\n",
       "alternative hypothesis: true autocorrelation is greater than 0\n"
      ]
     },
     "metadata": {},
     "output_type": "display_data"
    }
   ],
   "source": [
    "dwtest(reg2)"
   ]
  },
  {
   "cell_type": "markdown",
   "id": "d1acbd78-1ca4-4c02-b91e-8971f8950a1c",
   "metadata": {},
   "source": [
    "#### **Interprétation de test d'autocorrélation des erreurs:** \n",
    "H0:absence d'autocorrélation des erreurs\n",
    "\n",
    "H1:autocorrélation des erreurs\n",
    "\n",
    "p-value= 0.00152<0.05 => on accepte H1 : autocorrélation des erreurs"
   ]
  },
  {
   "cell_type": "markdown",
   "id": "a5c7b889-6332-4deb-983d-291e215b18a9",
   "metadata": {},
   "source": [
    "#### <font color=brown>**test normalité des erreurs:** "
   ]
  },
  {
   "cell_type": "code",
   "execution_count": 77,
   "id": "c003be68-5da0-4128-aef3-531d8115f1d5",
   "metadata": {},
   "outputs": [
    {
     "data": {
      "text/plain": [
       "\n",
       "\tShapiro-Wilk normality test\n",
       "\n",
       "data:  residuals(reg2)\n",
       "W = 0.93252, p-value = 0.0001621\n"
      ]
     },
     "metadata": {},
     "output_type": "display_data"
    }
   ],
   "source": [
    "shapiro.test(residuals(reg2))"
   ]
  },
  {
   "cell_type": "markdown",
   "id": "96b6ff03-c519-4851-b178-8b8567ec8dfb",
   "metadata": {},
   "source": [
    "#### **Interprétation de test de normalité des erreurs:** \n",
    "H0:normalité des erreurs\n",
    "\n",
    "H1:absence de normalité des erreurs\n",
    "\n",
    "p-value= 0.0001621<0.05 => on accepte H1 : absence de normalité des erreurs"
   ]
  },
  {
   "cell_type": "markdown",
   "id": "de06f0f8-d706-4545-b96a-7c75e55db726",
   "metadata": {},
   "source": [
    "#### <font color=brown>**test d'hétéroscédosité des erreurs:** "
   ]
  },
  {
   "cell_type": "code",
   "execution_count": 79,
   "id": "b6f7afce-a972-4b11-bf04-703b65a6c234",
   "metadata": {},
   "outputs": [
    {
     "data": {
      "text/plain": [
       "\n",
       "\tstudentized Breusch-Pagan test\n",
       "\n",
       "data:  reg2\n",
       "BP = 13.468, df = 20, p-value = 0.8564\n"
      ]
     },
     "metadata": {},
     "output_type": "display_data"
    }
   ],
   "source": [
    "bptest(reg2)"
   ]
  },
  {
   "cell_type": "markdown",
   "id": "d799071a-c150-4f2e-95ab-26673264a620",
   "metadata": {},
   "source": [
    "#### **Interprétation de test d'hétéroscédastisité  des erreurs:** \n",
    "H0:homoscédastisité  des erreurs\n",
    "\n",
    "H1:hétéroscédastisité  des erreurs\n",
    "\n",
    "p-value= 0.8564>0.05 => on accepte H0 : homoscédastisité  des erreurs"
   ]
  },
  {
   "cell_type": "markdown",
   "id": "55ccaa0c-d2f9-49c6-834e-67d90dea298c",
   "metadata": {},
   "source": [
    "### <font color=blue>**La matrice de confusion:**"
   ]
  },
  {
   "cell_type": "code",
   "execution_count": 158,
   "id": "1e62850c-9ebe-4069-9545-6da13ddfd1e1",
   "metadata": {},
   "outputs": [
    {
     "name": "stdout",
     "output_type": "stream",
     "text": [
      "          1           2           3           4           5           6 \n",
      " 0.88029446 -0.01494735 -5.85513268  0.19578559 -0.96194499 -0.84922268 \n",
      "          7           8           9          10          11          12 \n",
      "-1.00877197 -1.69772670 -4.20428950 -1.49392734 -1.26751766 -4.43011580 \n",
      "         13          14          15          16          17          18 \n",
      "-2.64455506 -1.79283259 -0.50506163  4.53775119 -0.10963352 -1.64192686 \n",
      "         19          20          21          22          23          24 \n",
      "-0.90475464  0.84375630 -0.57874206 -0.60992327  0.29857118 -1.71163777 \n",
      "         25          26          27          28          29          30 \n",
      "-2.10394284 -2.48802035 -3.82915219 -2.02141230  0.46290310 -5.45609969 \n",
      "         31          32          33          34          35          36 \n",
      "-4.08047669 -2.46593289 -3.34938505          NA  2.36780596  1.66116798 \n",
      "         37          38          39          40          41          42 \n",
      "-1.16323860 -0.43269011 -2.92238150 -5.36430366 -4.42128871 -0.75928083 \n",
      "         43          44          45          46          47          48 \n",
      "-4.89795548 -1.22994522 -2.67049118 -3.28217892 -3.83664376 -0.58956475 \n",
      "         49          50          51          52          53          54 \n",
      " 1.68671919 -0.78180009 -1.88492187 -1.00957392 -0.32100668 -1.75184364 \n",
      "         55          56          57          58          59          60 \n",
      "-3.74183742  0.03782343  0.70723365  0.96709313  0.30242523  5.22903249 \n",
      "         61          62          63          64          65          66 \n",
      "-0.91272837 -1.25325216 -1.58894146  1.82079470  3.18788860  3.20475753 \n",
      "         67          68          69          70          71          72 \n",
      "-0.44563060 -3.66789817 -2.97196331 -5.80327489 -3.62777495 -1.09577720 \n",
      "         73          74          75          76          77          78 \n",
      "-2.75080749 -2.10639766 -1.93286574  0.73967561 -1.17646411 -0.59567183 \n",
      "         79          80          81          82          83          84 \n",
      "-1.34924973  4.30212776  2.33371487  0.75914731 -2.19254211 -3.18471862 \n",
      "         85          86          87          88          89          90 \n",
      "-3.60599357 -3.60599357  3.11373158  6.00043793  4.65979339 -1.24477752 \n",
      "         91 \n",
      "-2.29977598 \n"
     ]
    }
   ],
   "source": [
    "pred.prob=predict(reg2,newdata=data)\n",
    "print(pred.prob)"
   ]
  },
  {
   "cell_type": "code",
   "execution_count": 161,
   "id": "a7531863-886e-4560-8d0a-c3bc034b5403",
   "metadata": {},
   "outputs": [],
   "source": [
    "pred.mod=factor(ifelse(pred.prob>0.5,\"1\",\"0\"))"
   ]
  },
  {
   "cell_type": "code",
   "execution_count": 163,
   "id": "27ad8bc2-85ec-4d6f-8075-7061f3b13d3f",
   "metadata": {},
   "outputs": [
    {
     "data": {
      "text/html": [
       "<style>\n",
       ".dl-inline {width: auto; margin:0; padding: 0}\n",
       ".dl-inline>dt, .dl-inline>dd {float: none; width: auto; display: inline-block}\n",
       ".dl-inline>dt::after {content: \":\\0020\"; padding-right: .5ex}\n",
       ".dl-inline>dt:not(:first-of-type) {padding-left: .5ex}\n",
       "</style><dl class=dl-inline><dt>1</dt><dd>1</dd><dt>2</dt><dd>0</dd><dt>3</dt><dd>0</dd><dt>4</dt><dd>0</dd><dt>5</dt><dd>0</dd><dt>6</dt><dd>0</dd><dt>7</dt><dd>0</dd><dt>8</dt><dd>0</dd><dt>9</dt><dd>0</dd><dt>10</dt><dd>0</dd><dt>11</dt><dd>0</dd><dt>12</dt><dd>0</dd><dt>13</dt><dd>0</dd><dt>14</dt><dd>0</dd><dt>15</dt><dd>0</dd><dt>16</dt><dd>1</dd><dt>17</dt><dd>0</dd><dt>18</dt><dd>0</dd><dt>19</dt><dd>0</dd><dt>20</dt><dd>1</dd><dt>21</dt><dd>0</dd><dt>22</dt><dd>0</dd><dt>23</dt><dd>0</dd><dt>24</dt><dd>0</dd><dt>25</dt><dd>0</dd><dt>26</dt><dd>0</dd><dt>27</dt><dd>0</dd><dt>28</dt><dd>0</dd><dt>29</dt><dd>0</dd><dt>30</dt><dd>0</dd><dt>31</dt><dd>0</dd><dt>32</dt><dd>0</dd><dt>33</dt><dd>0</dd><dt>34</dt><dd>&lt;NA&gt;</dd><dt>35</dt><dd>1</dd><dt>36</dt><dd>1</dd><dt>37</dt><dd>0</dd><dt>38</dt><dd>0</dd><dt>39</dt><dd>0</dd><dt>40</dt><dd>0</dd><dt>41</dt><dd>0</dd><dt>42</dt><dd>0</dd><dt>43</dt><dd>0</dd><dt>44</dt><dd>0</dd><dt>45</dt><dd>0</dd><dt>46</dt><dd>0</dd><dt>47</dt><dd>0</dd><dt>48</dt><dd>0</dd><dt>49</dt><dd>1</dd><dt>50</dt><dd>0</dd><dt>51</dt><dd>0</dd><dt>52</dt><dd>0</dd><dt>53</dt><dd>0</dd><dt>54</dt><dd>0</dd><dt>55</dt><dd>0</dd><dt>56</dt><dd>0</dd><dt>57</dt><dd>1</dd><dt>58</dt><dd>1</dd><dt>59</dt><dd>0</dd><dt>60</dt><dd>1</dd><dt>61</dt><dd>0</dd><dt>62</dt><dd>0</dd><dt>63</dt><dd>0</dd><dt>64</dt><dd>1</dd><dt>65</dt><dd>1</dd><dt>66</dt><dd>1</dd><dt>67</dt><dd>0</dd><dt>68</dt><dd>0</dd><dt>69</dt><dd>0</dd><dt>70</dt><dd>0</dd><dt>71</dt><dd>0</dd><dt>72</dt><dd>0</dd><dt>73</dt><dd>0</dd><dt>74</dt><dd>0</dd><dt>75</dt><dd>0</dd><dt>76</dt><dd>1</dd><dt>77</dt><dd>0</dd><dt>78</dt><dd>0</dd><dt>79</dt><dd>0</dd><dt>80</dt><dd>1</dd><dt>81</dt><dd>1</dd><dt>82</dt><dd>1</dd><dt>83</dt><dd>0</dd><dt>84</dt><dd>0</dd><dt>85</dt><dd>0</dd><dt>86</dt><dd>0</dd><dt>87</dt><dd>1</dd><dt>88</dt><dd>1</dd><dt>89</dt><dd>1</dd><dt>90</dt><dd>0</dd><dt>91</dt><dd>0</dd></dl>\n",
       "\n",
       "<details>\n",
       "\t<summary style=display:list-item;cursor:pointer>\n",
       "\t\t<strong>Levels</strong>:\n",
       "\t</summary>\n",
       "\t<style>\n",
       "\t.list-inline {list-style: none; margin:0; padding: 0}\n",
       "\t.list-inline>li {display: inline-block}\n",
       "\t.list-inline>li:not(:last-child)::after {content: \"\\00b7\"; padding: 0 .5ex}\n",
       "\t</style>\n",
       "\t<ol class=list-inline><li>'0'</li><li>'1'</li></ol>\n",
       "</details>"
      ],
      "text/latex": [
       "\\begin{description*}\n",
       "\\item[1] 1\n",
       "\\item[2] 0\n",
       "\\item[3] 0\n",
       "\\item[4] 0\n",
       "\\item[5] 0\n",
       "\\item[6] 0\n",
       "\\item[7] 0\n",
       "\\item[8] 0\n",
       "\\item[9] 0\n",
       "\\item[10] 0\n",
       "\\item[11] 0\n",
       "\\item[12] 0\n",
       "\\item[13] 0\n",
       "\\item[14] 0\n",
       "\\item[15] 0\n",
       "\\item[16] 1\n",
       "\\item[17] 0\n",
       "\\item[18] 0\n",
       "\\item[19] 0\n",
       "\\item[20] 1\n",
       "\\item[21] 0\n",
       "\\item[22] 0\n",
       "\\item[23] 0\n",
       "\\item[24] 0\n",
       "\\item[25] 0\n",
       "\\item[26] 0\n",
       "\\item[27] 0\n",
       "\\item[28] 0\n",
       "\\item[29] 0\n",
       "\\item[30] 0\n",
       "\\item[31] 0\n",
       "\\item[32] 0\n",
       "\\item[33] 0\n",
       "\\item[34] <NA>\n",
       "\\item[35] 1\n",
       "\\item[36] 1\n",
       "\\item[37] 0\n",
       "\\item[38] 0\n",
       "\\item[39] 0\n",
       "\\item[40] 0\n",
       "\\item[41] 0\n",
       "\\item[42] 0\n",
       "\\item[43] 0\n",
       "\\item[44] 0\n",
       "\\item[45] 0\n",
       "\\item[46] 0\n",
       "\\item[47] 0\n",
       "\\item[48] 0\n",
       "\\item[49] 1\n",
       "\\item[50] 0\n",
       "\\item[51] 0\n",
       "\\item[52] 0\n",
       "\\item[53] 0\n",
       "\\item[54] 0\n",
       "\\item[55] 0\n",
       "\\item[56] 0\n",
       "\\item[57] 1\n",
       "\\item[58] 1\n",
       "\\item[59] 0\n",
       "\\item[60] 1\n",
       "\\item[61] 0\n",
       "\\item[62] 0\n",
       "\\item[63] 0\n",
       "\\item[64] 1\n",
       "\\item[65] 1\n",
       "\\item[66] 1\n",
       "\\item[67] 0\n",
       "\\item[68] 0\n",
       "\\item[69] 0\n",
       "\\item[70] 0\n",
       "\\item[71] 0\n",
       "\\item[72] 0\n",
       "\\item[73] 0\n",
       "\\item[74] 0\n",
       "\\item[75] 0\n",
       "\\item[76] 1\n",
       "\\item[77] 0\n",
       "\\item[78] 0\n",
       "\\item[79] 0\n",
       "\\item[80] 1\n",
       "\\item[81] 1\n",
       "\\item[82] 1\n",
       "\\item[83] 0\n",
       "\\item[84] 0\n",
       "\\item[85] 0\n",
       "\\item[86] 0\n",
       "\\item[87] 1\n",
       "\\item[88] 1\n",
       "\\item[89] 1\n",
       "\\item[90] 0\n",
       "\\item[91] 0\n",
       "\\end{description*}\n",
       "\n",
       "\\emph{Levels}: \\begin{enumerate*}\n",
       "\\item '0'\n",
       "\\item '1'\n",
       "\\end{enumerate*}\n"
      ],
      "text/markdown": [
       "1\n",
       ":   12\n",
       ":   03\n",
       ":   04\n",
       ":   05\n",
       ":   06\n",
       ":   07\n",
       ":   08\n",
       ":   09\n",
       ":   010\n",
       ":   011\n",
       ":   012\n",
       ":   013\n",
       ":   014\n",
       ":   015\n",
       ":   016\n",
       ":   117\n",
       ":   018\n",
       ":   019\n",
       ":   020\n",
       ":   121\n",
       ":   022\n",
       ":   023\n",
       ":   024\n",
       ":   025\n",
       ":   026\n",
       ":   027\n",
       ":   028\n",
       ":   029\n",
       ":   030\n",
       ":   031\n",
       ":   032\n",
       ":   033\n",
       ":   034\n",
       ":   &lt;NA&gt;35\n",
       ":   136\n",
       ":   137\n",
       ":   038\n",
       ":   039\n",
       ":   040\n",
       ":   041\n",
       ":   042\n",
       ":   043\n",
       ":   044\n",
       ":   045\n",
       ":   046\n",
       ":   047\n",
       ":   048\n",
       ":   049\n",
       ":   150\n",
       ":   051\n",
       ":   052\n",
       ":   053\n",
       ":   054\n",
       ":   055\n",
       ":   056\n",
       ":   057\n",
       ":   158\n",
       ":   159\n",
       ":   060\n",
       ":   161\n",
       ":   062\n",
       ":   063\n",
       ":   064\n",
       ":   165\n",
       ":   166\n",
       ":   167\n",
       ":   068\n",
       ":   069\n",
       ":   070\n",
       ":   071\n",
       ":   072\n",
       ":   073\n",
       ":   074\n",
       ":   075\n",
       ":   076\n",
       ":   177\n",
       ":   078\n",
       ":   079\n",
       ":   080\n",
       ":   181\n",
       ":   182\n",
       ":   183\n",
       ":   084\n",
       ":   085\n",
       ":   086\n",
       ":   087\n",
       ":   188\n",
       ":   189\n",
       ":   190\n",
       ":   091\n",
       ":   0\n",
       "\n",
       "\n",
       "**Levels**: 1. '0'\n",
       "2. '1'\n",
       "\n",
       "\n"
      ],
      "text/plain": [
       "   1    2    3    4    5    6    7    8    9   10   11   12   13   14   15   16 \n",
       "   1    0    0    0    0    0    0    0    0    0    0    0    0    0    0    1 \n",
       "  17   18   19   20   21   22   23   24   25   26   27   28   29   30   31   32 \n",
       "   0    0    0    1    0    0    0    0    0    0    0    0    0    0    0    0 \n",
       "  33   34   35   36   37   38   39   40   41   42   43   44   45   46   47   48 \n",
       "   0 <NA>    1    1    0    0    0    0    0    0    0    0    0    0    0    0 \n",
       "  49   50   51   52   53   54   55   56   57   58   59   60   61   62   63   64 \n",
       "   1    0    0    0    0    0    0    0    1    1    0    1    0    0    0    1 \n",
       "  65   66   67   68   69   70   71   72   73   74   75   76   77   78   79   80 \n",
       "   1    1    0    0    0    0    0    0    0    0    0    1    0    0    0    1 \n",
       "  81   82   83   84   85   86   87   88   89   90   91 \n",
       "   1    1    0    0    0    0    1    1    1    0    0 \n",
       "Levels: 0 1"
      ]
     },
     "metadata": {},
     "output_type": "display_data"
    }
   ],
   "source": [
    "pred.mod"
   ]
  },
  {
   "cell_type": "code",
   "execution_count": 165,
   "id": "7c14400a-9ed1-4855-b985-287194a0944b",
   "metadata": {},
   "outputs": [],
   "source": [
    "mc=table(data$Violence,pred.mod)"
   ]
  },
  {
   "cell_type": "code",
   "execution_count": 173,
   "id": "2b701886-9b16-48f6-936a-dfbb5717ca03",
   "metadata": {},
   "outputs": [
    {
     "name": "stdout",
     "output_type": "stream",
     "text": [
      "   pred.mod\n",
      "     0  1\n",
      "  0 57  3\n",
      "  1 14 16\n"
     ]
    }
   ],
   "source": [
    "print(mc)"
   ]
  },
  {
   "cell_type": "code",
   "execution_count": 175,
   "id": "6cd240f1-0336-4010-adee-64ececc98f1f",
   "metadata": {},
   "outputs": [
    {
     "name": "stdout",
     "output_type": "stream",
     "text": [
      "Précision globale :  0.8111111 \n",
      "Précision par classe :  0.95 0.5333333 \n",
      "Rappel par classe :  0.8028169 0.8421053 \n",
      "F1-Score par classe :  0.870229 0.6530612 \n",
      "Matrice de confusion normalisée : \n",
      "   pred.mod\n",
      "             0          1\n",
      "  0 0.63333333 0.03333333\n",
      "  1 0.15555556 0.17777778\n"
     ]
    }
   ],
   "source": [
    "# Calcul des métriques\n",
    "accuracy <- sum(diag(mc)) / sum(mc)\n",
    "precision <- diag(mc) / rowSums(mc)\n",
    "recall <- diag(mc) / colSums(mc)\n",
    "f1_score <- 2 * (precision * recall) / (precision + recall)\n",
    "\n",
    "# Affichage des résultats\n",
    "cat(\"Précision globale : \", accuracy, \"\\n\")\n",
    "cat(\"Précision par classe : \", precision, \"\\n\")\n",
    "cat(\"Rappel par classe : \", recall, \"\\n\")\n",
    "cat(\"F1-Score par classe : \", f1_score, \"\\n\")\n",
    "\n",
    "# Matrice de confusion normalisée\n",
    "mc_normalized <- mc / sum(mc)\n",
    "cat(\"Matrice de confusion normalisée : \\n\")\n",
    "print(mc_normalized)\n"
   ]
  },
  {
   "cell_type": "markdown",
   "id": "be121e01-afc7-438c-8322-4afee8835d6f",
   "metadata": {},
   "source": [
    "### <font color=purple>**Interprétation:**\n",
    "\n",
    "D'aprés la matrice de confusion:\n",
    "\n",
    "    Le modèle est très performant pour identifier les cas de non-violence, avec une spécificité de 95 %. Cela signifie qu'il commet très peu d'erreurs en classant les cas comme \"non-violence\".\n",
    "    La précision de 84.21 % indique que lorsque le modèle prédit \"violence\", il a une forte probabilité d'avoir raison.\n",
    "\n",
    "    Le rappel est relativement faible (53.33 %), ce qui signifie que le modèle manque une proportion importante des cas de violence (14 faux négatifs sur 30 cas réels de violence).\n",
    "    Le F1-Score est également moyen (65.29 %), ce qui reflète un compromis entre précision et rappel.\n",
    "\n",
    "\n",
    "<font color=red> Précision globale : Le modèle a une précision globale de 81.1%, ce qui est raisonnable pour ce type de données.(bonne qualité du modéle)\n",
    "    Précision par classe :\n",
    "    \n",
    " <font color=purple> Pour la classe \"0\" (non-violence), la précision est de 95%, ce qui montre que le modèle identifie bien les individus non violents.\n",
    " \n",
    "<font color=purple> Pour la classe \"1\" (violence), la précision est de 53.3%, indiquant que le modèle a du mal à identifier précisément les cas de violence.\n",
    "\n",
    "    Rappel par classe :\n",
    "        Pour la classe \"0\", le rappel est de 80.3%, ce qui montre que le modèle identifie correctement la majorité des individus non violents.\n",
    "        Pour la classe \"1\", le rappel est de 84.2%, signifiant que le modèle détecte une proportion importante des cas violents.\n",
    "    F1-Score par classe :\n",
    "        Pour la classe \"0\", le F1-score est de 87.0%, combinant précision et rappel de manière équilibrée.\n",
    "        Pour la classe \"1\", le F1-score est de 65.3%, ce qui est plus faible, reflétant la difficulté à identifier correctement tous les cas de violence.\n",
    "\n",
    "Matrice de confusion normalisée\n",
    "\n",
    "La matrice de confusion normalisée montre que :\n",
    "\n",
    "    63.3% des prédictions sont correctement classées comme \"non-violence\".\n",
    "    17.8% des prédictions sont correctement classées comme \"violence\".\n",
    "    Cependant, 15.5% des cas de violence sont mal classés comme \"non-violence\", ce qui peut poser un problème dans des applications sensibles.\n",
    "\n",
    "**=> Ce modèle montre une bonne capacité à identifier les cas de non-violence, mais des limitations dans la détection des cas de violence. Les variables significatives comme l'âge, le revenu mensuel, les problèmes avec les enseignants, et les interactions avec les professeurs ou la famille donnent des indications intéressantes pour orienter des interventions ciblées. Cependant, des améliorations peuvent être apportées au modèle pour mieux équilibrer précision et rappel pour les cas de violence, par exemple en ajustant les seuils de décision ou en intégrant des variables explicatives supplémentaires.**"
   ]
  },
  {
   "cell_type": "markdown",
   "id": "2760c862-b484-4c1f-883f-d3486c0d1c5b",
   "metadata": {},
   "source": [
    "# **<font color=red>2)Exercice2**"
   ]
  },
  {
   "cell_type": "markdown",
   "id": "7fcb04e6-cb24-44a9-b18c-42c81a60e460",
   "metadata": {},
   "source": [
    "### <font color=blue>**Exploration des données:**"
   ]
  },
  {
   "cell_type": "code",
   "execution_count": 91,
   "id": "717a0c29-6934-4da5-ab5f-a3693bb3a3aa",
   "metadata": {},
   "outputs": [],
   "source": [
    "library(readxl)\n",
    "data1 <- read_excel(\"exercice 2.xlsx\")"
   ]
  },
  {
   "cell_type": "code",
   "execution_count": 93,
   "id": "4d7855a4-54ee-4297-acf5-1e29c52c8020",
   "metadata": {},
   "outputs": [
    {
     "data": {
      "text/html": [
       "<table class=\"dataframe\">\n",
       "<caption>A tibble: 108 × 5</caption>\n",
       "<thead>\n",
       "\t<tr><th scope=col>Continente</th><th scope=col>Dis Mag Value</th><th scope=col>nombre total de décès</th><th scope=col>Total Affecté</th><th scope=col>Total des dommages ('000 US $)</th></tr>\n",
       "\t<tr><th scope=col>&lt;dbl&gt;</th><th scope=col>&lt;dbl&gt;</th><th scope=col>&lt;dbl&gt;</th><th scope=col>&lt;dbl&gt;</th><th scope=col>&lt;dbl&gt;</th></tr>\n",
       "</thead>\n",
       "<tbody>\n",
       "\t<tr><td>2</td><td>8</td><td>    12</td><td>     40</td><td> 500000</td></tr>\n",
       "\t<tr><td>3</td><td>7</td><td>   476</td><td> 141277</td><td> 100000</td></tr>\n",
       "\t<tr><td>2</td><td>7</td><td>     3</td><td>     15</td><td>   7310</td></tr>\n",
       "\t<tr><td>4</td><td>7</td><td>  1250</td><td> 134250</td><td>   6000</td></tr>\n",
       "\t<tr><td>3</td><td>7</td><td>    31</td><td>    200</td><td>   3150</td></tr>\n",
       "\t<tr><td>1</td><td>8</td><td>   100</td><td>   2000</td><td>  25000</td></tr>\n",
       "\t<tr><td>2</td><td>7</td><td>   400</td><td>  20350</td><td> 125000</td></tr>\n",
       "\t<tr><td>4</td><td>6</td><td>     2</td><td>  49350</td><td>   2000</td></tr>\n",
       "\t<tr><td>3</td><td>6</td><td>    38</td><td>  30253</td><td>   8000</td></tr>\n",
       "\t<tr><td>2</td><td>8</td><td>     4</td><td>   3006</td><td>    400</td></tr>\n",
       "\t<tr><td>3</td><td>6</td><td>     1</td><td>  11050</td><td>   4000</td></tr>\n",
       "\t<tr><td>3</td><td>6</td><td>     1</td><td>  15123</td><td>  14000</td></tr>\n",
       "\t<tr><td>3</td><td>7</td><td>    11</td><td>    134</td><td>  20000</td></tr>\n",
       "\t<tr><td>2</td><td>7</td><td>    61</td><td>  40200</td><td>    600</td></tr>\n",
       "\t<tr><td>3</td><td>6</td><td>     9</td><td>  16583</td><td>   5000</td></tr>\n",
       "\t<tr><td>1</td><td>7</td><td>   177</td><td>  52272</td><td>    400</td></tr>\n",
       "\t<tr><td>3</td><td>7</td><td>    19</td><td>   7618</td><td>    600</td></tr>\n",
       "\t<tr><td>4</td><td>6</td><td>    24</td><td>    585</td><td>    320</td></tr>\n",
       "\t<tr><td>2</td><td>7</td><td>    29</td><td>  88112</td><td>   4000</td></tr>\n",
       "\t<tr><td>2</td><td>8</td><td>    85</td><td>2348973</td><td> 236400</td></tr>\n",
       "\t<tr><td>2</td><td>7</td><td>    21</td><td>   3745</td><td>    200</td></tr>\n",
       "\t<tr><td>1</td><td>8</td><td>242000</td><td> 164000</td><td>5600000</td></tr>\n",
       "\t<tr><td>2</td><td>8</td><td> 23000</td><td>4993000</td><td>1000000</td></tr>\n",
       "\t<tr><td>1</td><td>6</td><td>   573</td><td> 454755</td><td> 195000</td></tr>\n",
       "\t<tr><td>1</td><td>8</td><td>   185</td><td>   3975</td><td>   1200</td></tr>\n",
       "\t<tr><td>2</td><td>7</td><td>    70</td><td>  40100</td><td>  80000</td></tr>\n",
       "\t<tr><td>3</td><td>7</td><td>    50</td><td> 600100</td><td> 250000</td></tr>\n",
       "\t<tr><td>2</td><td>8</td><td>    12</td><td>    200</td><td>  60000</td></tr>\n",
       "\t<tr><td>1</td><td>6</td><td>   400</td><td>   2000</td><td>   5000</td></tr>\n",
       "\t<tr><td>2</td><td>8</td><td>   160</td><td>    100</td><td>  25000</td></tr>\n",
       "\t<tr><td>⋮</td><td>⋮</td><td>⋮</td><td>⋮</td><td>⋮</td></tr>\n",
       "\t<tr><td>3</td><td>7</td><td> 22</td><td>  80400</td><td>  410900</td></tr>\n",
       "\t<tr><td>1</td><td>7</td><td>500</td><td>  38000</td><td>    5000</td></tr>\n",
       "\t<tr><td>3</td><td>6</td><td>  1</td><td>   5005</td><td> 1500000</td></tr>\n",
       "\t<tr><td>1</td><td>6</td><td> 10</td><td>      5</td><td>  745000</td></tr>\n",
       "\t<tr><td>2</td><td>7</td><td>  2</td><td>   5060</td><td>    1000</td></tr>\n",
       "\t<tr><td>1</td><td>7</td><td> 12</td><td>  34503</td><td>    1000</td></tr>\n",
       "\t<tr><td>3</td><td>5</td><td>  2</td><td>   1030</td><td>  269000</td></tr>\n",
       "\t<tr><td>2</td><td>7</td><td>  4</td><td>   1524</td><td>    4150</td></tr>\n",
       "\t<tr><td>1</td><td>5</td><td> 34</td><td>  18700</td><td>   16000</td></tr>\n",
       "\t<tr><td>2</td><td>5</td><td>250</td><td>  36200</td><td>20000000</td></tr>\n",
       "\t<tr><td>4</td><td>6</td><td>275</td><td>  21436</td><td>  245000</td></tr>\n",
       "\t<tr><td>1</td><td>6</td><td>  1</td><td>     35</td><td>    5000</td></tr>\n",
       "\t<tr><td>2</td><td>7</td><td>  6</td><td>  45238</td><td> 1000000</td></tr>\n",
       "\t<tr><td>2</td><td>8</td><td>180</td><td>1482275</td><td>    1450</td></tr>\n",
       "\t<tr><td>1</td><td>6</td><td> 22</td><td>    300</td><td>    2227</td></tr>\n",
       "\t<tr><td>1</td><td>7</td><td> 67</td><td>  16100</td><td>  416000</td></tr>\n",
       "\t<tr><td>3</td><td>5</td><td>  3</td><td>   3060</td><td>    5000</td></tr>\n",
       "\t<tr><td>3</td><td>6</td><td> 20</td><td>  45300</td><td>    3000</td></tr>\n",
       "\t<tr><td>2</td><td>7</td><td>  5</td><td>   5112</td><td> 4104000</td></tr>\n",
       "\t<tr><td>2</td><td>6</td><td>  2</td><td>      6</td><td>    2000</td></tr>\n",
       "\t<tr><td>4</td><td>4</td><td>  1</td><td>   3152</td><td>    5000</td></tr>\n",
       "\t<tr><td>1</td><td>6</td><td>  2</td><td>    100</td><td>   22000</td></tr>\n",
       "\t<tr><td>1</td><td>8</td><td>939</td><td>1270364</td><td> 1500000</td></tr>\n",
       "\t<tr><td>2</td><td>8</td><td>  9</td><td>   3850</td><td>    5000</td></tr>\n",
       "\t<tr><td>1</td><td>8</td><td>  2</td><td>   5005</td><td>  210000</td></tr>\n",
       "\t<tr><td>1</td><td>6</td><td> 34</td><td>  36048</td><td>   71500</td></tr>\n",
       "\t<tr><td>1</td><td>6</td><td> 26</td><td>  43200</td><td>   60000</td></tr>\n",
       "\t<tr><td>1</td><td>7</td><td>  5</td><td>   1500</td><td>  450000</td></tr>\n",
       "\t<tr><td>1</td><td>6</td><td> 32</td><td>    619</td><td> 2000000</td></tr>\n",
       "\t<tr><td>1</td><td>7</td><td>539</td><td>     23</td><td>   15000</td></tr>\n",
       "</tbody>\n",
       "</table>\n"
      ],
      "text/latex": [
       "A tibble: 108 × 5\n",
       "\\begin{tabular}{lllll}\n",
       " Continente & Dis Mag Value & nombre total de décès & Total Affecté & Total des dommages ('000 US \\$)\\\\\n",
       " <dbl> & <dbl> & <dbl> & <dbl> & <dbl>\\\\\n",
       "\\hline\n",
       "\t 2 & 8 &     12 &      40 &  500000\\\\\n",
       "\t 3 & 7 &    476 &  141277 &  100000\\\\\n",
       "\t 2 & 7 &      3 &      15 &    7310\\\\\n",
       "\t 4 & 7 &   1250 &  134250 &    6000\\\\\n",
       "\t 3 & 7 &     31 &     200 &    3150\\\\\n",
       "\t 1 & 8 &    100 &    2000 &   25000\\\\\n",
       "\t 2 & 7 &    400 &   20350 &  125000\\\\\n",
       "\t 4 & 6 &      2 &   49350 &    2000\\\\\n",
       "\t 3 & 6 &     38 &   30253 &    8000\\\\\n",
       "\t 2 & 8 &      4 &    3006 &     400\\\\\n",
       "\t 3 & 6 &      1 &   11050 &    4000\\\\\n",
       "\t 3 & 6 &      1 &   15123 &   14000\\\\\n",
       "\t 3 & 7 &     11 &     134 &   20000\\\\\n",
       "\t 2 & 7 &     61 &   40200 &     600\\\\\n",
       "\t 3 & 6 &      9 &   16583 &    5000\\\\\n",
       "\t 1 & 7 &    177 &   52272 &     400\\\\\n",
       "\t 3 & 7 &     19 &    7618 &     600\\\\\n",
       "\t 4 & 6 &     24 &     585 &     320\\\\\n",
       "\t 2 & 7 &     29 &   88112 &    4000\\\\\n",
       "\t 2 & 8 &     85 & 2348973 &  236400\\\\\n",
       "\t 2 & 7 &     21 &    3745 &     200\\\\\n",
       "\t 1 & 8 & 242000 &  164000 & 5600000\\\\\n",
       "\t 2 & 8 &  23000 & 4993000 & 1000000\\\\\n",
       "\t 1 & 6 &    573 &  454755 &  195000\\\\\n",
       "\t 1 & 8 &    185 &    3975 &    1200\\\\\n",
       "\t 2 & 7 &     70 &   40100 &   80000\\\\\n",
       "\t 3 & 7 &     50 &  600100 &  250000\\\\\n",
       "\t 2 & 8 &     12 &     200 &   60000\\\\\n",
       "\t 1 & 6 &    400 &    2000 &    5000\\\\\n",
       "\t 2 & 8 &    160 &     100 &   25000\\\\\n",
       "\t ⋮ & ⋮ & ⋮ & ⋮ & ⋮\\\\\n",
       "\t 3 & 7 &  22 &   80400 &   410900\\\\\n",
       "\t 1 & 7 & 500 &   38000 &     5000\\\\\n",
       "\t 3 & 6 &   1 &    5005 &  1500000\\\\\n",
       "\t 1 & 6 &  10 &       5 &   745000\\\\\n",
       "\t 2 & 7 &   2 &    5060 &     1000\\\\\n",
       "\t 1 & 7 &  12 &   34503 &     1000\\\\\n",
       "\t 3 & 5 &   2 &    1030 &   269000\\\\\n",
       "\t 2 & 7 &   4 &    1524 &     4150\\\\\n",
       "\t 1 & 5 &  34 &   18700 &    16000\\\\\n",
       "\t 2 & 5 & 250 &   36200 & 20000000\\\\\n",
       "\t 4 & 6 & 275 &   21436 &   245000\\\\\n",
       "\t 1 & 6 &   1 &      35 &     5000\\\\\n",
       "\t 2 & 7 &   6 &   45238 &  1000000\\\\\n",
       "\t 2 & 8 & 180 & 1482275 &     1450\\\\\n",
       "\t 1 & 6 &  22 &     300 &     2227\\\\\n",
       "\t 1 & 7 &  67 &   16100 &   416000\\\\\n",
       "\t 3 & 5 &   3 &    3060 &     5000\\\\\n",
       "\t 3 & 6 &  20 &   45300 &     3000\\\\\n",
       "\t 2 & 7 &   5 &    5112 &  4104000\\\\\n",
       "\t 2 & 6 &   2 &       6 &     2000\\\\\n",
       "\t 4 & 4 &   1 &    3152 &     5000\\\\\n",
       "\t 1 & 6 &   2 &     100 &    22000\\\\\n",
       "\t 1 & 8 & 939 & 1270364 &  1500000\\\\\n",
       "\t 2 & 8 &   9 &    3850 &     5000\\\\\n",
       "\t 1 & 8 &   2 &    5005 &   210000\\\\\n",
       "\t 1 & 6 &  34 &   36048 &    71500\\\\\n",
       "\t 1 & 6 &  26 &   43200 &    60000\\\\\n",
       "\t 1 & 7 &   5 &    1500 &   450000\\\\\n",
       "\t 1 & 6 &  32 &     619 &  2000000\\\\\n",
       "\t 1 & 7 & 539 &      23 &    15000\\\\\n",
       "\\end{tabular}\n"
      ],
      "text/markdown": [
       "\n",
       "A tibble: 108 × 5\n",
       "\n",
       "| Continente &lt;dbl&gt; | Dis Mag Value &lt;dbl&gt; | nombre total de décès &lt;dbl&gt; | Total Affecté &lt;dbl&gt; | Total des dommages ('000 US $) &lt;dbl&gt; |\n",
       "|---|---|---|---|---|\n",
       "| 2 | 8 |     12 |      40 |  500000 |\n",
       "| 3 | 7 |    476 |  141277 |  100000 |\n",
       "| 2 | 7 |      3 |      15 |    7310 |\n",
       "| 4 | 7 |   1250 |  134250 |    6000 |\n",
       "| 3 | 7 |     31 |     200 |    3150 |\n",
       "| 1 | 8 |    100 |    2000 |   25000 |\n",
       "| 2 | 7 |    400 |   20350 |  125000 |\n",
       "| 4 | 6 |      2 |   49350 |    2000 |\n",
       "| 3 | 6 |     38 |   30253 |    8000 |\n",
       "| 2 | 8 |      4 |    3006 |     400 |\n",
       "| 3 | 6 |      1 |   11050 |    4000 |\n",
       "| 3 | 6 |      1 |   15123 |   14000 |\n",
       "| 3 | 7 |     11 |     134 |   20000 |\n",
       "| 2 | 7 |     61 |   40200 |     600 |\n",
       "| 3 | 6 |      9 |   16583 |    5000 |\n",
       "| 1 | 7 |    177 |   52272 |     400 |\n",
       "| 3 | 7 |     19 |    7618 |     600 |\n",
       "| 4 | 6 |     24 |     585 |     320 |\n",
       "| 2 | 7 |     29 |   88112 |    4000 |\n",
       "| 2 | 8 |     85 | 2348973 |  236400 |\n",
       "| 2 | 7 |     21 |    3745 |     200 |\n",
       "| 1 | 8 | 242000 |  164000 | 5600000 |\n",
       "| 2 | 8 |  23000 | 4993000 | 1000000 |\n",
       "| 1 | 6 |    573 |  454755 |  195000 |\n",
       "| 1 | 8 |    185 |    3975 |    1200 |\n",
       "| 2 | 7 |     70 |   40100 |   80000 |\n",
       "| 3 | 7 |     50 |  600100 |  250000 |\n",
       "| 2 | 8 |     12 |     200 |   60000 |\n",
       "| 1 | 6 |    400 |    2000 |    5000 |\n",
       "| 2 | 8 |    160 |     100 |   25000 |\n",
       "| ⋮ | ⋮ | ⋮ | ⋮ | ⋮ |\n",
       "| 3 | 7 |  22 |   80400 |   410900 |\n",
       "| 1 | 7 | 500 |   38000 |     5000 |\n",
       "| 3 | 6 |   1 |    5005 |  1500000 |\n",
       "| 1 | 6 |  10 |       5 |   745000 |\n",
       "| 2 | 7 |   2 |    5060 |     1000 |\n",
       "| 1 | 7 |  12 |   34503 |     1000 |\n",
       "| 3 | 5 |   2 |    1030 |   269000 |\n",
       "| 2 | 7 |   4 |    1524 |     4150 |\n",
       "| 1 | 5 |  34 |   18700 |    16000 |\n",
       "| 2 | 5 | 250 |   36200 | 20000000 |\n",
       "| 4 | 6 | 275 |   21436 |   245000 |\n",
       "| 1 | 6 |   1 |      35 |     5000 |\n",
       "| 2 | 7 |   6 |   45238 |  1000000 |\n",
       "| 2 | 8 | 180 | 1482275 |     1450 |\n",
       "| 1 | 6 |  22 |     300 |     2227 |\n",
       "| 1 | 7 |  67 |   16100 |   416000 |\n",
       "| 3 | 5 |   3 |    3060 |     5000 |\n",
       "| 3 | 6 |  20 |   45300 |     3000 |\n",
       "| 2 | 7 |   5 |    5112 |  4104000 |\n",
       "| 2 | 6 |   2 |       6 |     2000 |\n",
       "| 4 | 4 |   1 |    3152 |     5000 |\n",
       "| 1 | 6 |   2 |     100 |    22000 |\n",
       "| 1 | 8 | 939 | 1270364 |  1500000 |\n",
       "| 2 | 8 |   9 |    3850 |     5000 |\n",
       "| 1 | 8 |   2 |    5005 |   210000 |\n",
       "| 1 | 6 |  34 |   36048 |    71500 |\n",
       "| 1 | 6 |  26 |   43200 |    60000 |\n",
       "| 1 | 7 |   5 |    1500 |   450000 |\n",
       "| 1 | 6 |  32 |     619 |  2000000 |\n",
       "| 1 | 7 | 539 |      23 |    15000 |\n",
       "\n"
      ],
      "text/plain": [
       "    Continente Dis Mag Value nombre total de décès Total Affecté\n",
       "1   2          8                 12                     40      \n",
       "2   3          7                476                 141277      \n",
       "3   2          7                  3                     15      \n",
       "4   4          7               1250                 134250      \n",
       "5   3          7                 31                    200      \n",
       "6   1          8                100                   2000      \n",
       "7   2          7                400                  20350      \n",
       "8   4          6                  2                  49350      \n",
       "9   3          6                 38                  30253      \n",
       "10  2          8                  4                   3006      \n",
       "11  3          6                  1                  11050      \n",
       "12  3          6                  1                  15123      \n",
       "13  3          7                 11                    134      \n",
       "14  2          7                 61                  40200      \n",
       "15  3          6                  9                  16583      \n",
       "16  1          7                177                  52272      \n",
       "17  3          7                 19                   7618      \n",
       "18  4          6                 24                    585      \n",
       "19  2          7                 29                  88112      \n",
       "20  2          8                 85                2348973      \n",
       "21  2          7                 21                   3745      \n",
       "22  1          8             242000                 164000      \n",
       "23  2          8              23000                4993000      \n",
       "24  1          6                573                 454755      \n",
       "25  1          8                185                   3975      \n",
       "26  2          7                 70                  40100      \n",
       "27  3          7                 50                 600100      \n",
       "28  2          8                 12                    200      \n",
       "29  1          6                400                   2000      \n",
       "30  2          8                160                    100      \n",
       "⋮   ⋮          ⋮             ⋮                     ⋮            \n",
       "79  3          7              22                     80400      \n",
       "80  1          7             500                     38000      \n",
       "81  3          6               1                      5005      \n",
       "82  1          6              10                         5      \n",
       "83  2          7               2                      5060      \n",
       "84  1          7              12                     34503      \n",
       "85  3          5               2                      1030      \n",
       "86  2          7               4                      1524      \n",
       "87  1          5              34                     18700      \n",
       "88  2          5             250                     36200      \n",
       "89  4          6             275                     21436      \n",
       "90  1          6               1                        35      \n",
       "91  2          7               6                     45238      \n",
       "92  2          8             180                   1482275      \n",
       "93  1          6              22                       300      \n",
       "94  1          7              67                     16100      \n",
       "95  3          5               3                      3060      \n",
       "96  3          6              20                     45300      \n",
       "97  2          7               5                      5112      \n",
       "98  2          6               2                         6      \n",
       "99  4          4               1                      3152      \n",
       "100 1          6               2                       100      \n",
       "101 1          8             939                   1270364      \n",
       "102 2          8               9                      3850      \n",
       "103 1          8               2                      5005      \n",
       "104 1          6              34                     36048      \n",
       "105 1          6              26                     43200      \n",
       "106 1          7               5                      1500      \n",
       "107 1          6              32                       619      \n",
       "108 1          7             539                        23      \n",
       "    Total des dommages ('000 US $)\n",
       "1    500000                       \n",
       "2    100000                       \n",
       "3      7310                       \n",
       "4      6000                       \n",
       "5      3150                       \n",
       "6     25000                       \n",
       "7    125000                       \n",
       "8      2000                       \n",
       "9      8000                       \n",
       "10      400                       \n",
       "11     4000                       \n",
       "12    14000                       \n",
       "13    20000                       \n",
       "14      600                       \n",
       "15     5000                       \n",
       "16      400                       \n",
       "17      600                       \n",
       "18      320                       \n",
       "19     4000                       \n",
       "20   236400                       \n",
       "21      200                       \n",
       "22  5600000                       \n",
       "23  1000000                       \n",
       "24   195000                       \n",
       "25     1200                       \n",
       "26    80000                       \n",
       "27   250000                       \n",
       "28    60000                       \n",
       "29     5000                       \n",
       "30    25000                       \n",
       "⋮   ⋮                             \n",
       "79    410900                      \n",
       "80      5000                      \n",
       "81   1500000                      \n",
       "82    745000                      \n",
       "83      1000                      \n",
       "84      1000                      \n",
       "85    269000                      \n",
       "86      4150                      \n",
       "87     16000                      \n",
       "88  20000000                      \n",
       "89    245000                      \n",
       "90      5000                      \n",
       "91   1000000                      \n",
       "92      1450                      \n",
       "93      2227                      \n",
       "94    416000                      \n",
       "95      5000                      \n",
       "96      3000                      \n",
       "97   4104000                      \n",
       "98      2000                      \n",
       "99      5000                      \n",
       "100    22000                      \n",
       "101  1500000                      \n",
       "102     5000                      \n",
       "103   210000                      \n",
       "104    71500                      \n",
       "105    60000                      \n",
       "106   450000                      \n",
       "107  2000000                      \n",
       "108    15000                      "
      ]
     },
     "metadata": {},
     "output_type": "display_data"
    }
   ],
   "source": [
    "View(data1) "
   ]
  },
  {
   "cell_type": "code",
   "execution_count": 15,
   "id": "e64cc31f-7b27-43fa-9f90-e0cef1aa2553",
   "metadata": {},
   "outputs": [
    {
     "data": {
      "text/plain": [
       "   Continente    Dis Mag Value   nombre total de décès Total Affecté    \n",
       " Min.   :1.000   Min.   :1.000   Min.   :     1.0      Min.   :      5  \n",
       " 1st Qu.:1.000   1st Qu.:6.000   1st Qu.:    11.0      1st Qu.:   2375  \n",
       " Median :2.000   Median :7.000   Median :    42.5      Median :  15188  \n",
       " Mean   :2.083   Mean   :6.676   Mean   :  3900.9      Mean   : 186036  \n",
       " 3rd Qu.:3.000   3rd Qu.:7.000   3rd Qu.:   419.0      3rd Qu.:  79388  \n",
       " Max.   :5.000   Max.   :8.000   Max.   :242000.0      Max.   :4993000  \n",
       " Total des dommages ('000 US $)\n",
       " Min.   :     100              \n",
       " 1st Qu.:    3112              \n",
       " Median :   20000              \n",
       " Mean   :  545449              \n",
       " 3rd Qu.:  238550              \n",
       " Max.   :20000000              "
      ]
     },
     "metadata": {},
     "output_type": "display_data"
    }
   ],
   "source": [
    "summary(data1) "
   ]
  },
  {
   "cell_type": "code",
   "execution_count": 16,
   "id": "9b56470f-df9c-433e-89ea-07a7f36ee508",
   "metadata": {},
   "outputs": [
    {
     "name": "stdout",
     "output_type": "stream",
     "text": [
      "tibble [108 × 5] (S3: tbl_df/tbl/data.frame)\n",
      " $ Continente                    : num [1:108] 2 3 2 4 3 1 2 4 3 2 ...\n",
      " $ Dis Mag Value                 : num [1:108] 8 7 7 7 7 8 7 6 6 8 ...\n",
      " $ nombre total de décès         : num [1:108] 12 476 3 1250 31 100 400 2 38 4 ...\n",
      " $ Total Affecté                 : num [1:108] 40 141277 15 134250 200 ...\n",
      " $ Total des dommages ('000 US $): num [1:108] 500000 100000 7310 6000 3150 25000 125000 2000 8000 400 ...\n"
     ]
    }
   ],
   "source": [
    "str(data1) "
   ]
  },
  {
   "cell_type": "markdown",
   "id": "1a00f47c-a5d2-494a-b823-e582ac4fbe82",
   "metadata": {},
   "source": [
    "### <font color=green>1) a) Expliquer la variable continente en fonction des variables Dis Mag value, nombre total de décès, total affecté et total des dommages."
   ]
  },
  {
   "cell_type": "markdown",
   "id": "e68fb357-d228-46a7-aa80-2b0f40696959",
   "metadata": {},
   "source": [
    "### <font color=blue>**Regresion logistique multinomial:**"
   ]
  },
  {
   "cell_type": "markdown",
   "id": "47bf800b-cb5b-4171-b75a-b716961d4c03",
   "metadata": {},
   "source": [
    "<font color=green> Choix du modéle: \n",
    "<font color=black> Dans ce travail, j'ai utilisé <font color=red> un modèle de régression logistique multinomiale <font color=black>afin de prédire<font color=red> la variable cible data1$Continente, qui est une variable catégorielle divisée en cinqs classes distinctes : classe 1, classe 2, classe 3 , classe 4  et classe 5<font color=black>. La régression logistique multinomiale est particulièrement adaptée à ce type de problème, car elle permet de modéliser les relations entre plusieurs variables explicatives et une variable dépendante catégorielle à plus de deux niveaux.\n",
    "\n",
    "Ainsi, le modèle a été ajusté pour estimer les probabilités d'appartenance de chaque observation aux différentes classes, permettant ainsi de classer les individus en fonction de leurs caractéristiques et de prédire dans quelle catégorie ils appartiendront, tout en prenant en compte les interactions entre les différentes classes."
   ]
  },
  {
   "cell_type": "code",
   "execution_count": 103,
   "id": "32976744-d467-45c2-a87f-ba8d6e060642",
   "metadata": {},
   "outputs": [],
   "source": [
    "library(nnet)"
   ]
  },
  {
   "cell_type": "code",
   "execution_count": 105,
   "id": "3ef738a3-fd7a-4fd0-bf56-b977c29dc54e",
   "metadata": {},
   "outputs": [
    {
     "name": "stdout",
     "output_type": "stream",
     "text": [
      "# weights:  30 (20 variable)\n",
      "initial  value 173.819295 \n",
      "iter  10 value 165.148541\n",
      "iter  20 value 131.900368\n",
      "iter  30 value 125.614527\n",
      "iter  40 value 125.098755\n",
      "iter  50 value 124.569999\n",
      "iter  60 value 123.846741\n",
      "iter  70 value 122.842655\n",
      "iter  80 value 122.716010\n",
      "final  value 122.714668 \n",
      "converged\n"
     ]
    }
   ],
   "source": [
    "colnames(data1) <- c(\"Continente\", \"Dis_Mag_Value\", \"Total_Deaths\", \"Total_Affected\", \"Total_Damages\")\n",
    "reg3 <- multinom(Continente ~ Dis_Mag_Value + Total_Deaths + Total_Affected + Total_Damages, data = data1)\n",
    "\n"
   ]
  },
  {
   "cell_type": "code",
   "execution_count": 27,
   "id": "f9e5c5c4-60a8-4db6-9e13-f2d0214a42d7",
   "metadata": {},
   "outputs": [
    {
     "data": {
      "text/plain": [
       "Call:\n",
       "multinom(formula = Continente ~ Dis_Mag_Value + Total_Deaths + \n",
       "    Total_Affected + Total_Damages, data = data1)\n",
       "\n",
       "Coefficients:\n",
       "  (Intercept) Dis_Mag_Value  Total_Deaths Total_Affected Total_Damages\n",
       "2   -4.807929     0.6177011 -3.017864e-05   9.305018e-07  4.043856e-07\n",
       "3    5.326481    -0.9018543 -3.933559e-04   1.298160e-06  2.230761e-07\n",
       "4    7.680986    -1.4427079 -1.203217e-05   1.060519e-06  2.370130e-07\n",
       "5   -6.456925     0.8655634 -2.439808e-02  -1.408477e-04 -1.795839e-04\n",
       "\n",
       "Std. Errors:\n",
       "   (Intercept) Dis_Mag_Value Total_Deaths Total_Affected Total_Damages\n",
       "2 3.457665e-08  2.398805e-07 3.356182e-05   7.155007e-07  3.148590e-07\n",
       "3 9.207998e-08  6.071898e-07 3.224619e-04   1.013857e-06  3.271382e-07\n",
       "4 1.374329e-08  8.091810e-08 4.799140e-05   1.007641e-06  3.320683e-07\n",
       "5 3.854395e-08  2.675433e-07 4.320014e-07   2.195122e-04  2.530911e-04\n",
       "\n",
       "Residual Deviance: 245.4293 \n",
       "AIC: 285.4293 "
      ]
     },
     "metadata": {},
     "output_type": "display_data"
    }
   ],
   "source": [
    "summary(reg3)"
   ]
  },
  {
   "cell_type": "markdown",
   "id": "0ddca310-3ed1-4add-a75c-d0939cfdd97d",
   "metadata": {},
   "source": [
    "\n",
    "### <font color=purple>Formule du Modèle\n",
    "\n",
    "Le modèle de régression multinomiale que vous avez ajusté peut être exprimé comme suit :\n",
    "### <font color=purple>log(P(Y=k)P(Y=1))=β0,k+β1,k⋅Dis_Mag_Value+β2,k⋅Total_Deaths+β3,k⋅Total_Affected+β4,k⋅Total_Damages ; k={1,2,3,4,5}\n",
    "Pour k=2 :\n",
    "<font color=purple> log⁡(P(Y=2)P(Y=1))=−4.807929+0.6177011⋅Dis_Mag_Value−3.017864×10−5⋅Total_Deaths+9.305018×10−7⋅Total_Affected+4.043856×10−7⋅Total_Damages\n",
    "\n",
    "Pour k=3 :\n",
    "<font color=purple> log⁡(P(Y=3)P(Y=1))=5.326481−0.9018543⋅Dis_Mag_Value−3.933559×10−4⋅Total_Deaths+1.298160×10−6⋅Total_Affected+2.230761×10−7⋅Total_Damages\n",
    "\n",
    "Pour k=4 :\n",
    "<font color=purple> log⁡(P(Y=4)P(Y=1))=7.680986−1.4427079⋅Dis_Mag_Value−1.203217×10−5⋅Total_Deaths+1.060519×10−6⋅Total_Affected+2.370130×10−7⋅Total_Damages\n",
    "\n",
    "Pour k=5 :\n",
    "<font color=purple> log⁡(P(Y=5)P(Y=1))=−6.456925+0.8655634⋅Dis_Mag_Value−2.439808×10−2⋅Total_Deaths−1.408477×10−4⋅Total_Affected−1.795839×10−4⋅Total_Damages\n"
   ]
  },
  {
   "cell_type": "markdown",
   "id": "45477836-f0ba-4845-be16-d602ed18c95c",
   "metadata": {},
   "source": [
    "### <font color=red>Interprétation:\n",
    "Coefficients estimés :\n",
    "\n",
    "Intercept : Les coefficients d'interception (par exemple, -4.807929 pour le continent 2) montrent la tendance moyenne de chaque continent en l'absence de toute autre variable explicative.\n",
    "\n",
    "Dis_Mag_Value : Un coefficient positif (comme 0.6177011 pour le continent 2) signifie que plus la variable augmente, plus la probabilité d'appartenance au continent 2 augmente par rapport au continent de référence. À l'inverse, un coefficient négatif (comme -1.4427079 pour le continent 4) indique une diminution de la probabilité.\n",
    "\n",
    "Total_Deaths : Un très petit coefficient négatif (comme -3.017864e-05 pour le continent 2) signifie que l'augmentation du nombre de décès réduit légèrement la probabilité d'être dans ce continent.\n",
    "\n",
    "Total_Affected : Ce coefficient reflète l'influence du nombre total de personnes affectées. Les valeurs positives ou négatives indiquent l'augmentation ou la diminution de la probabilité d'appartenir à chaque continent.\n",
    "\n",
    "Total_Damages : Ce coefficient montre l'effet des dommages économiques sur l'appartenance au continent. Un petit coefficient positif ou négatif a un impact moindre sur les probabilités."
   ]
  },
  {
   "cell_type": "markdown",
   "id": "f8ec7f91-ab4b-4957-826b-ded9467bfc88",
   "metadata": {},
   "source": [
    "### <font color=green> b) Déterminer **la qualité du modèle.**"
   ]
  },
  {
   "cell_type": "markdown",
   "id": "573ab0e6-0d04-4f61-83fd-d64a6bef63cc",
   "metadata": {},
   "source": [
    "### <font color=blue>**Les testes d'hypothéses:**"
   ]
  },
  {
   "cell_type": "markdown",
   "id": "03ceeaca-0870-4e89-a925-562b3959d20a",
   "metadata": {},
   "source": [
    "#### <font color=brown>**test d'éxogéniété:** "
   ]
  },
  {
   "cell_type": "code",
   "execution_count": 87,
   "id": "9bbcc4fd-23ff-49ec-bb7f-81a28962bfc9",
   "metadata": {},
   "outputs": [
    {
     "data": {
      "text/plain": [
       "\n",
       "\tRainbow test\n",
       "\n",
       "data:  reg3\n",
       "Rain = 0.85191, df1 = 54, df2 = 49, p-value = 0.7179\n"
      ]
     },
     "metadata": {},
     "output_type": "display_data"
    }
   ],
   "source": [
    "raintest(reg3)"
   ]
  },
  {
   "cell_type": "markdown",
   "id": "798d0dd1-2440-4856-af13-805498f28566",
   "metadata": {},
   "source": [
    "#### **Interprétation de test d'éxogéinété:** \n",
    "H0:indépendance entre x et e\n",
    "\n",
    "H1:dépendance entre x et e\n",
    "\n",
    "p-value=0.7179>0.05 => on accepte H0 : indépendance entre x et e"
   ]
  },
  {
   "cell_type": "markdown",
   "id": "a589be85-b473-4d4a-a761-5aee43563f69",
   "metadata": {},
   "source": [
    "#### <font color=brown>**test d'autocorrélation des erreurs:** "
   ]
  },
  {
   "cell_type": "code",
   "execution_count": 89,
   "id": "09bedf48-c9c1-4410-bb47-588dcdafd598",
   "metadata": {},
   "outputs": [
    {
     "data": {
      "text/plain": [
       "\n",
       "\tDurbin-Watson test\n",
       "\n",
       "data:  reg3\n",
       "DW = 1.7876, p-value = 0.1353\n",
       "alternative hypothesis: true autocorrelation is greater than 0\n"
      ]
     },
     "metadata": {},
     "output_type": "display_data"
    }
   ],
   "source": [
    "dwtest(reg3)"
   ]
  },
  {
   "cell_type": "markdown",
   "id": "f28f0075-ad56-43e4-b5e5-8c6f0a0646a9",
   "metadata": {},
   "source": [
    "#### **Interprétation de test d'autocorrélation des erreurs:** \n",
    "H0:absence d'autocorrélation des erreurs\n",
    "\n",
    "H1:autocorrélation des erreurs\n",
    "\n",
    "p-value= 0.1353>0.05 => on accepte H0 : absence d'autocorrélation des erreurs"
   ]
  },
  {
   "cell_type": "markdown",
   "id": "715f4354-e4d8-474c-94a3-fd684a03cc6b",
   "metadata": {},
   "source": [
    "#### <font color=brown>**test normalité des erreurs:** "
   ]
  },
  {
   "cell_type": "code",
   "execution_count": 91,
   "id": "2d4b68e1-7719-47a4-b608-5ec9c67ec975",
   "metadata": {},
   "outputs": [
    {
     "data": {
      "text/plain": [
       "\n",
       "\tShapiro-Wilk normality test\n",
       "\n",
       "data:  residuals(reg3)\n",
       "W = 0.8712, p-value < 2.2e-16\n"
      ]
     },
     "metadata": {},
     "output_type": "display_data"
    }
   ],
   "source": [
    "shapiro.test(residuals(reg3))"
   ]
  },
  {
   "cell_type": "markdown",
   "id": "25853143-a0b1-452c-ada7-fb5fe6b7dcc5",
   "metadata": {},
   "source": [
    "#### **Interprétation de test de normalité des erreurs:** \n",
    "H0:normalité des erreurs\n",
    "\n",
    "H1:absence de normalité des erreurs\n",
    "\n",
    "p-value<2.2e-16<0.05 => on accepte H1 : absence de normalité des erreurs"
   ]
  },
  {
   "cell_type": "markdown",
   "id": "003e7bf5-6248-4230-95b2-061a692064fb",
   "metadata": {},
   "source": [
    "### <font color=blue>**La matrice de confusion:**"
   ]
  },
  {
   "cell_type": "code",
   "execution_count": 29,
   "id": "a83c88a1-a56f-4741-8f18-9f1bab130104",
   "metadata": {},
   "outputs": [
    {
     "name": "stdout",
     "output_type": "stream",
     "text": [
      "  [1] 2 1 1 1 1 2 1 1 1 2 1 1 1 1 1 1 1 1 1 2 1 1 2 3 2 1 2 2 1 2 1 1 1 3 1 1 3\n",
      " [38] 2 1 1 4 1 1 3 1 1 1 1 1 2 1 1 1 3 1 1 1 1 1 1 1 2 2 2 2 2 1 1 1 3 3 2 1 2\n",
      " [75] 3 1 1 1 1 1 3 3 1 1 3 1 3 2 1 1 1 2 1 1 3 1 2 1 4 1 2 2 2 1 1 1 3 1\n",
      "Levels: 1 2 3 4 5\n"
     ]
    }
   ],
   "source": [
    "pred.prob=predict(reg3,newdata=data1)\n",
    "print(pred.prob)"
   ]
  },
  {
   "cell_type": "code",
   "execution_count": 31,
   "id": "7f4b1407-9ae8-4b49-b173-3db319971c70",
   "metadata": {},
   "outputs": [
    {
     "name": "stdout",
     "output_type": "stream",
     "text": [
      "   pred.prob\n",
      "     1  2  3  4  5\n",
      "  1 29  7  5  0  0\n",
      "  2 18 13  1  0  0\n",
      "  3 13  3  6  0  0\n",
      "  4  6  1  2  2  0\n",
      "  5  2  0  0  0  0\n"
     ]
    }
   ],
   "source": [
    "mc=table(data1$Continente,pred.prob)\n",
    "print(mc)"
   ]
  },
  {
   "cell_type": "code",
   "execution_count": 33,
   "id": "c1d38678-bd86-47ea-bce9-1b0766ef2328",
   "metadata": {},
   "outputs": [
    {
     "name": "stdout",
     "output_type": "stream",
     "text": [
      "Précision globale :  0.462963 \n",
      "Précision par classe :  0.7073171 0.40625 0.2727273 0.1818182 0 \n",
      "Rappel par classe :  0.4264706 0.5416667 0.4285714 1 NaN \n",
      "F1-Score par classe :  0.5321101 0.4642857 0.3333333 0.3076923 NaN \n",
      "Matrice de confusion normalisée : \n",
      "   pred.prob\n",
      "              1           2           3           4           5\n",
      "  1 0.268518519 0.064814815 0.046296296 0.000000000 0.000000000\n",
      "  2 0.166666667 0.120370370 0.009259259 0.000000000 0.000000000\n",
      "  3 0.120370370 0.027777778 0.055555556 0.000000000 0.000000000\n",
      "  4 0.055555556 0.009259259 0.018518519 0.018518519 0.000000000\n",
      "  5 0.018518519 0.000000000 0.000000000 0.000000000 0.000000000\n"
     ]
    }
   ],
   "source": [
    "# Calcul des métriques\n",
    "accuracy <- sum(diag(mc)) / sum(mc)\n",
    "precision <- diag(mc) / rowSums(mc)\n",
    "recall <- diag(mc) / colSums(mc)\n",
    "f1_score <- 2 * (precision * recall) / (precision + recall)\n",
    "\n",
    "# Affichage des résultats\n",
    "cat(\"Précision globale : \", accuracy, \"\\n\")\n",
    "cat(\"Précision par classe : \", precision, \"\\n\")\n",
    "cat(\"Rappel par classe : \", recall, \"\\n\")\n",
    "cat(\"F1-Score par classe : \", f1_score, \"\\n\")\n",
    "\n",
    "# Matrice de confusion normalisée\n",
    "mc_normalized <- mc / sum(mc)\n",
    "cat(\"Matrice de confusion normalisée : \\n\")\n",
    "print(mc_normalized)\n"
   ]
  },
  {
   "cell_type": "markdown",
   "id": "e37499fb-11e4-473a-ac82-09eeb9c73135",
   "metadata": {},
   "source": [
    "### <font color=blue>Interprétation:\n",
    "\n",
    "<font color=red>Précision globale : 46.3% des prédictions faites par le modèle sont correctes.(qualité du modéle faible)\n",
    "\n",
    "Précision par classe :\n",
    "\n",
    "Continent 1 : 70.7% des événements classés comme appartenant au continent 1 sont corrects.\n",
    "Continent 2 : 40.6% des événements classés comme appartenant au continent 2 sont corrects.\n",
    "Continent 3 : 27.3% des événements classés comme appartenant au continent 3 sont corrects.\n",
    "Continent 4 : 18.2% des événements classés comme appartenant au continent 4 sont corrects.\n",
    "Continent 5 : 0%, ce qui signifie que le modèle n'a pas réussi à classer correctement cet ensemble.\n",
    "Rappel par classe : Le rappel indique combien des événements réels dans chaque continent ont été correctement identifiés.\n",
    "\n",
    "Le modèle a un rappel particulièrement faible pour les continents 3 et 5.\n",
    "F1-Score : Cette métrique combine la précision et le rappel. Un score élevé indique un meilleur équilibre entre les deux. Pour les continents 1 et 2, les F1-scores sont raisonnables, mais pour les autres, ils sont très faibles, en particulier pour le continent 5 où aucune prédiction correcte n’a été faite. \n",
    "\n",
    "**=>Le modèle présente des résultats raisonnables pour certaines classes (continents), notamment le continent 1. Cependant, il a du mal à prédire correctement certains autres continents, particulièrement le continent 5, ce qui est reflété dans ses faibles scores de précision et de rappel.**\n",
    "\n",
    "**=>le modèle prédit la probabilité d'appartenance à un continent donné en fonction des caractéristiques comme la magnitude des désastres, le nombre total de morts, les personnes affectées et les dommages. La précision globale est modérée, et certaines classes sont mieux prédictibles que d'autres. Les variables comme \"Dis_Mag_Value\" ont un effet important pour certaines classes, tandis que d'autres comme \"Total_Deaths\" ont un effet négligeable. Des ajustements ou des tests supplémentaires (par exemple, une validation croisée ou des ajustements des variables) pourraient améliorer les performances globales.**\n"
   ]
  },
  {
   "cell_type": "markdown",
   "id": "fcec6af6-15ec-406b-9d7b-b81759cc2f85",
   "metadata": {},
   "source": [
    "### <font color=green>2) a) Expliquer la variable Dis Mag value en fonction des variables nombre total de décès, total affecté et total des dommages."
   ]
  },
  {
   "cell_type": "markdown",
   "id": "b0115adf-cbdb-4b75-b4c9-f7773ca7b2da",
   "metadata": {},
   "source": [
    "### <font color=blue>**Regresion logistique multinomial:**"
   ]
  },
  {
   "cell_type": "markdown",
   "id": "64ada92a-6cf0-4630-9959-8e35844bd8ba",
   "metadata": {},
   "source": [
    "<font color=green> Choix du modéle: \n",
    "<font color=black> Dans ce travail, j'ai utilisé <font color=red> un modèle de régression logistique multinomiale <font color=black>afin de prédire<font color=red> la variable cible data1$Continente, qui est une variable catégorielle divisée en six classes distinctes : classe 1, classe 4, classe 5 , classe 6 , classe 7  et classe 8<font color=black>. La régression logistique multinomiale est particulièrement adaptée à ce type de problème, car elle permet de modéliser les relations entre plusieurs variables explicatives et une variable dépendante catégorielle à plus de deux niveaux.\n",
    "\n",
    "Ainsi, le modèle a été ajusté pour estimer les probabilités d'appartenance de chaque observation aux différentes classes, permettant ainsi de classer les individus en fonction de leurs caractéristiques et de prédire dans quelle catégorie ils appartiendront, tout en prenant en compte les interactions entre les différentes classes."
   ]
  },
  {
   "cell_type": "code",
   "execution_count": 225,
   "id": "203847b3-081f-463e-8d7f-b36b9d358620",
   "metadata": {},
   "outputs": [
    {
     "name": "stdout",
     "output_type": "stream",
     "text": [
      "# weights:  30 (20 variable)\n",
      "initial  value 193.510023 \n",
      "iter  10 value 178.341875\n",
      "iter  20 value 133.918263\n",
      "iter  30 value 127.265709\n",
      "iter  40 value 126.230292\n",
      "iter  50 value 125.705007\n",
      "iter  60 value 125.098559\n",
      "iter  70 value 124.351402\n",
      "iter  80 value 124.027365\n",
      "iter  90 value 123.578972\n",
      "iter 100 value 123.309541\n",
      "final  value 123.309541 \n",
      "stopped after 100 iterations\n"
     ]
    }
   ],
   "source": [
    "reg4 <- multinom(Dis_Mag_Value ~ Total_Deaths + Total_Affected + Total_Damages, data = data1)\n",
    "\n"
   ]
  },
  {
   "cell_type": "code",
   "execution_count": 227,
   "id": "f1469d56-d5cb-445d-92b2-379a75fc09eb",
   "metadata": {},
   "outputs": [
    {
     "data": {
      "text/plain": [
       "Call:\n",
       "multinom(formula = Dis_Mag_Value ~ Total_Deaths + Total_Affected + \n",
       "    Total_Damages, data = data1)\n",
       "\n",
       "Coefficients:\n",
       "  (Intercept)  Total_Deaths Total_Affected Total_Damages\n",
       "4   1.4144650 -0.5933362445   6.511416e-06  0.0003920540\n",
       "5   0.2818687 -0.0007285482   1.874325e-05  0.0003997089\n",
       "6   1.3400011  0.0001790053   4.001649e-05  0.0003993648\n",
       "7   1.7559870  0.0001754416   4.003299e-05  0.0003994797\n",
       "8   0.4755223  0.0002000724   4.225506e-05  0.0003992066\n",
       "\n",
       "Std. Errors:\n",
       "   (Intercept) Total_Deaths Total_Affected Total_Damages\n",
       "4 6.931299e-09 9.498022e-09   1.351225e-04  1.860743e-05\n",
       "5 2.678236e-09 3.222084e-07   9.039424e-05  7.912646e-06\n",
       "6 4.078630e-09 1.940440e-05   8.802337e-05  7.915000e-06\n",
       "7 6.059144e-09 1.818987e-05   8.802112e-05  7.913400e-06\n",
       "8 1.872733e-09 1.364613e-05   8.802322e-05  7.917249e-06\n",
       "\n",
       "Residual Deviance: 246.6191 \n",
       "AIC: 286.6191 "
      ]
     },
     "metadata": {},
     "output_type": "display_data"
    }
   ],
   "source": [
    "summary(reg4)"
   ]
  },
  {
   "cell_type": "markdown",
   "id": "64bdd0b8-745a-431e-978c-53f6cf3c6c94",
   "metadata": {},
   "source": [
    "\n",
    "### <font color=purple>**Formule du Modèle:**\n",
    "\n",
    "Le modèle multinomial que vous avez ajusté est de la forme :\n",
    "Dis_Mag_Value=β0+β1⋅Total_Deaths+β2⋅Total_Affected+β3⋅Total_Damages\n",
    "\n",
    " Classe 4 (Dis_Mag_Value = 4) :\n",
    "<font color=red> log⁡(P(Classe 4)P(Référence))=1.4144650−0.5933362445×Total_Deaths+6.511416×10−6×Total_Affected+0.0003920540×Total_Damages\n",
    "\n",
    "Classe 5 (Dis_Mag_Value = 5) :\n",
    "<font color=red> log⁡(P(Classe 5)P(Référence))=0.2818687−0.0007285482×Total_Deaths+1.874325×10−5×Total_Affected+0.0003997089×Total_Damages\n",
    "\n",
    "Classe 6 (Dis_Mag_Value = 6) :\n",
    "<font color=red> log⁡(P(Classe 6)P(Référence))=1.3400011+0.0001790053×Total_Deaths+4.001649×10−5×Total_Affected+0.0003993648×Total_Damages\n",
    "\n",
    "Classe 7 (Dis_Mag_Value = 7) :\n",
    "<font color=red> log⁡(P(Classe 7)P(Référence))=1.7559870+0.0001754416×Total_Deaths+4.003299×10−5×Total_Affected+0.0003994797×Total_Damages\n",
    "\n",
    "Classe 8 (Dis_Mag_Value = 8) :\n",
    "<font color=red> log⁡(P(Classe 8)P(Référence))=0.4755223+0.0002000724×Total_Deaths+4.225506×10−5×Total_Affected+0.0003992066×Total_Damages\n",
    "\n",
    "### <font color=purple>Interprétation des coéfficients:\n",
    "\n",
    "Classe 4 :\n",
    "\n",
    "    Total_Deaths : Le coefficient négatif (-0.5933362445) indique qu'une augmentation du nombre de décès est associée à une probabilité réduite d'appartenir à la classe \n",
    "    Total_Affected : Le coefficient très petit (6.511416 × 10⁻⁶) montre une influence négligeable de l'impact total des affectés sur la classe 4.\n",
    "    Total_Damages : Le coefficient positif (0.0003920540) indique que les dommages financiers plus importants augmentent la probabilité d'une observation dans la classe \n",
    "Classe 5 :\n",
    "\n",
    "    Total_Deaths : Le coefficient très proche de zéro (-0.0007285482) montre qu'il n'y a quasiment aucune relation linéaire avec le nombre de décès.\n",
    "    Total_Affected : Un léger coefficient positif (1.874325 × 10⁻⁵) suggère une légère influence positive des affectés sur la classe 5.\n",
    "    Total_Damages : Le coefficient positif (0.0003997089) indique que des dommages plus élevés sont associés à une probabilité plus élevée d'appartenir à la classe 5.\n",
    "\n",
    "Classe 6 :\n",
    "\n",
    "    Total_Deaths : Un petit coefficient positif (0.0001790053) montre une très faible corrélation positive avec le nombre de décès.\n",
    "    Total_Affected : Le coefficient positif (4.001649 × 10⁻⁵) indique une légère influence positive de l'impact des affectés sur la classe 6.\n",
    "    Total_Damages : Un coefficient positif (0.0003993648) indique que les dommages financiers ont un impact positif sur la classe 6.\n",
    "\n",
    "Classe 7 :\n",
    "\n",
    "    Total_Deaths : Un petit coefficient positif (0.0001754416) suggère une très faible influence positive des décès sur la classe 7.\n",
    "    Total_Affected : Le coefficient positif (4.003299 × 10⁻⁵) montre une légère corrélation positive avec le nombre de personnes affectées.\n",
    "    Total_Damages : Le coefficient positif (0.0003994797) montre que des dommages plus élevés augmentent la probabilité de la classe 7.\n",
    "\n",
    "Classe 8 :\n",
    "\n",
    "    Total_Deaths : Un petit coefficient positif (0.0002000724) suggère une faible corrélation positive avec les décès.\n",
    "    Total_Affected : Le coefficient positif (4.225506 × 10⁻⁵) montre une légère relation positive avec les personnes affectées.\n",
    "    Total_Damages : Le coefficient positif (0.0003992066) indique une légère influence positive des dommages financiers."
   ]
  },
  {
   "cell_type": "markdown",
   "id": "b6a633d3-2cfd-4b39-b740-c3d811c72a3c",
   "metadata": {},
   "source": [
    "### <font color=green> b) Déterminer **la qualité du modèle.**"
   ]
  },
  {
   "cell_type": "markdown",
   "id": "65589cee-3e5c-4402-a996-1252cd8e5028",
   "metadata": {},
   "source": [
    "### <font color=blue>**Les testes d'hypothéses:**"
   ]
  },
  {
   "cell_type": "markdown",
   "id": "78053097-68f6-45f1-b126-d166cc1b53ea",
   "metadata": {},
   "source": [
    "#### <font color=brown>**test d'éxogéniété:**"
   ]
  },
  {
   "cell_type": "code",
   "execution_count": 97,
   "id": "82db8430-4e34-4f87-a484-94bdf86f9031",
   "metadata": {},
   "outputs": [
    {
     "data": {
      "text/plain": [
       "\n",
       "\tRainbow test\n",
       "\n",
       "data:  reg4\n",
       "Rain = 0.55578, df1 = 54, df2 = 50, p-value = 0.9823\n"
      ]
     },
     "metadata": {},
     "output_type": "display_data"
    }
   ],
   "source": [
    "raintest(reg4)"
   ]
  },
  {
   "cell_type": "markdown",
   "id": "8852960a-dc1d-4c81-8696-33da55f57878",
   "metadata": {},
   "source": [
    "#### **Interprétation de test d'éxogéinété:** \n",
    "H0:indépendance entre x et e\n",
    "\n",
    "H1:dépendance entre x et e\n",
    "\n",
    "p-value=0.9823>0.05 => on accepte H0 : indépendance entre x et e"
   ]
  },
  {
   "cell_type": "markdown",
   "id": "4c530856-d7cb-4afb-942b-ca3c01ad7044",
   "metadata": {},
   "source": [
    "#### <font color=brown>**test d'autocorrélation des erreurs:** "
   ]
  },
  {
   "cell_type": "code",
   "execution_count": 99,
   "id": "f37ae560-06e7-4c90-adb5-823c0d1a818b",
   "metadata": {},
   "outputs": [
    {
     "data": {
      "text/plain": [
       "\n",
       "\tDurbin-Watson test\n",
       "\n",
       "data:  reg4\n",
       "DW = 2.0193, p-value = 0.5433\n",
       "alternative hypothesis: true autocorrelation is greater than 0\n"
      ]
     },
     "metadata": {},
     "output_type": "display_data"
    }
   ],
   "source": [
    "dwtest(reg4)"
   ]
  },
  {
   "cell_type": "markdown",
   "id": "caa977a1-f324-4fda-8a27-bbbbe0b454ef",
   "metadata": {},
   "source": [
    "#### **Interprétation de test d'autocorrélation des erreurs:** \n",
    "H0:absence d'autocorrélation des erreurs\n",
    "\n",
    "H1:autocorrélation des erreurs\n",
    "\n",
    "p-value= 0.5433>0.05 => on accepte H0 : absence d'autocorrélation des erreurs"
   ]
  },
  {
   "cell_type": "markdown",
   "id": "364f36da-80ce-4710-8196-183dba36e058",
   "metadata": {},
   "source": [
    "#### <font color=brown>**test de normalité des erreurs:** "
   ]
  },
  {
   "cell_type": "code",
   "execution_count": 101,
   "id": "5720bc25-0049-4c85-9513-7dae05561ded",
   "metadata": {},
   "outputs": [
    {
     "data": {
      "text/plain": [
       "\n",
       "\tShapiro-Wilk normality test\n",
       "\n",
       "data:  residuals(reg4)\n",
       "W = 0.83341, p-value < 2.2e-16\n"
      ]
     },
     "metadata": {},
     "output_type": "display_data"
    }
   ],
   "source": [
    "shapiro.test(residuals(reg4))"
   ]
  },
  {
   "cell_type": "markdown",
   "id": "f2c0187c-ca2c-43a1-ad01-00f53499e5e4",
   "metadata": {},
   "source": [
    "#### **Interprétation de test de normalité des erreurs:** \n",
    "H0:normalité des erreurs\n",
    "\n",
    "H1:absence de normalité des erreurs\n",
    "\n",
    "p-value< 2.2e-16<0.05 => on accepte H1 : absence de normalité des erreurs"
   ]
  },
  {
   "cell_type": "markdown",
   "id": "95cb490f-fe01-4da8-9798-da5ff23e6603",
   "metadata": {},
   "source": [
    "### <font color=blue>**La matrice de corrélation:**"
   ]
  },
  {
   "cell_type": "code",
   "execution_count": 41,
   "id": "b62e9680-e455-4047-95a6-8fb129cd94e8",
   "metadata": {},
   "outputs": [
    {
     "name": "stdout",
     "output_type": "stream",
     "text": [
      "  [1] 7 7 7 7 7 7 7 7 7 7 7 7 7 7 7 7 7 7 7 8 7 8 8 7 7 7 7 7 7 7 7 7 7 7 7 7 7\n",
      " [38] 7 7 7 7 7 7 7 7 7 7 7 7 8 7 7 7 7 7 7 7 8 7 7 7 7 7 7 7 7 7 7 7 7 7 7 7 7\n",
      " [75] 7 7 7 7 7 7 7 7 7 7 7 7 7 5 7 7 7 8 7 7 7 7 7 7 7 7 8 7 7 7 7 7 7 7\n",
      "Levels: 1 4 5 6 7 8\n"
     ]
    }
   ],
   "source": [
    "pred.prob=predict(reg4,newdata=data1)\n",
    "print(pred.prob)"
   ]
  },
  {
   "cell_type": "code",
   "execution_count": 43,
   "id": "c09950be-b264-4d8f-a809-6b38d132f399",
   "metadata": {},
   "outputs": [
    {
     "name": "stdout",
     "output_type": "stream",
     "text": [
      "   pred.prob\n",
      "     1  4  5  6  7  8\n",
      "  1  0  0  0  0  1  0\n",
      "  4  0  0  0  0  1  0\n",
      "  5  0  0  1  0  7  0\n",
      "  6  0  0  0  0 29  1\n",
      "  7  0  0  0  0 48  0\n",
      "  8  0  0  0  0 14  6\n"
     ]
    }
   ],
   "source": [
    "mc=table(data1$Dis_Mag_Value,pred.prob)\n",
    "print(mc)"
   ]
  },
  {
   "cell_type": "code",
   "execution_count": 45,
   "id": "e5584c50-9e6f-4773-a91f-80e67b2a1df2",
   "metadata": {},
   "outputs": [
    {
     "name": "stdout",
     "output_type": "stream",
     "text": [
      "Précision globale :  0.5092593 \n",
      "Précision par classe :  0 0 0.125 0 1 0.3 \n",
      "Rappel par classe :  NaN NaN 1 NaN 0.48 0.8571429 \n",
      "F1-Score par classe :  NaN NaN 0.2222222 NaN 0.6486486 0.4444444 \n",
      "Matrice de confusion normalisée : \n",
      "   pred.prob\n",
      "              1           4           5           6           7           8\n",
      "  1 0.000000000 0.000000000 0.000000000 0.000000000 0.009259259 0.000000000\n",
      "  4 0.000000000 0.000000000 0.000000000 0.000000000 0.009259259 0.000000000\n",
      "  5 0.000000000 0.000000000 0.009259259 0.000000000 0.064814815 0.000000000\n",
      "  6 0.000000000 0.000000000 0.000000000 0.000000000 0.268518519 0.009259259\n",
      "  7 0.000000000 0.000000000 0.000000000 0.000000000 0.444444444 0.000000000\n",
      "  8 0.000000000 0.000000000 0.000000000 0.000000000 0.129629630 0.055555556\n"
     ]
    }
   ],
   "source": [
    "# Calcul des métriques\n",
    "accuracy <- sum(diag(mc)) / sum(mc)\n",
    "precision <- diag(mc) / rowSums(mc)\n",
    "recall <- diag(mc) / colSums(mc)\n",
    "f1_score <- 2 * (precision * recall) / (precision + recall)\n",
    "\n",
    "# Affichage des résultats\n",
    "cat(\"Précision globale : \", accuracy, \"\\n\")\n",
    "cat(\"Précision par classe : \", precision, \"\\n\")\n",
    "cat(\"Rappel par classe : \", recall, \"\\n\")\n",
    "cat(\"F1-Score par classe : \", f1_score, \"\\n\")\n",
    "\n",
    "# Matrice de confusion normalisée\n",
    "mc_normalized <- mc / sum(mc)\n",
    "cat(\"Matrice de confusion normalisée : \\n\")\n",
    "print(mc_normalized)\n"
   ]
  },
  {
   "cell_type": "markdown",
   "id": "11b1f839-723c-4018-b0ab-d43bc2648db7",
   "metadata": {},
   "source": [
    "### <font color=purple>**Interprétation:**\n",
    "\n",
    "Interprétation de la Matrice de Confusion (mc) :\n",
    "\n",
    "La matrice de confusion (mc) vous permet d’évaluer la performance de votre modèle en termes de classification :\n",
    "\n",
    "    Diagonale principale (vérités observées) : Montre combien de fois chaque classe a été correctement prédite.\n",
    "        Par exemple, classe 6 a été correctement prédite 29 fois, et classe 8 a été correctement prédite 6 fois.\n",
    "\n",
    "    Colonnes (prédictions) : Représente les classes prédits par le modèle.\n",
    "        Par exemple, la classe 6 a été prédite 29 fois pour les vraies observations de classe 6, mais aussi 1 fois pour la classe 8.\n",
    "\n",
    "    Lignes (réel) : Représente les classes réelles dans les données.\n",
    "        Par exemple, pour la classe 7, le modèle a prédit cette classe 48 fois, mais seulement 1 fois pour la classe 8.\n",
    "\n",
    "Interprétation des Métriques :\n",
    "\n",
    "<font color=red> Précision Globale :\n",
    "        La précision globale est de 50.93%, indiquant que 50.93% des prédictions étaient correctes.(qualité acceptable)\n",
    "\n",
    "    Précision par Classe :\n",
    "        Classe 5 : La précision pour la classe 5 est de 12.5%, ce qui signifie que seulement 12.5% des éléments prédits comme étant de la classe 5 étaient effectivement de la classe 5.\n",
    "        Classe 7 : La précision pour la classe 7 est de 100%, ce qui signifie que toutes les prédictions pour la classe 7 étaient correctes.\n",
    "        Classe 8 : La précision pour la classe 8 est de 30%, ce qui signifie que 30% des éléments prédits comme classe 8 étaient effectivement classés comme tels.\n",
    "\n",
    "    Rappel par Classe :\n",
    "        Classe 6 : Le rappel est de 100% pour la classe 6, ce qui signifie que toutes les instances de la classe 6 ont été correctement identifiées par le modèle.\n",
    "        Classe 7 : Le rappel est de 48%, ce qui indique que seulement 48% des éléments réels de la classe 7 ont été capturés par le modèle.\n",
    "        Classe 8 : Le rappel est de 85.7%, ce qui indique que 85.7% des éléments réels de la classe 8 ont été correctement identifiés.\n",
    "\n",
    "    F1-Score par Classe :\n",
    "        Classe 5 : L’F1-Score est de 22.22%, indiquant un compromis entre précision et rappel faible.\n",
    "        Classe 7 : L’F1-Score est de 64.87%, ce qui est relativement bon pour la classe 7.\n",
    "        Classe 8 : L’F1-Score est de 44.44%, indiquant une performance modérée.\n",
    "\n",
    "Matrice de Confusion Normalisée :\n",
    "\n",
    "La matrice normalisée montre la proportion d’observations dans chaque case par rapport au total de la matrice, ce qui vous permet de voir les erreurs relatives plutôt que les valeurs absolues. Par exemple, dans la case (5, 6), cela signifie que 0.2685 de la classe réelle 6 a été mal classée en classe 7.\n",
    "\n",
    "\n",
    "**=> Total_Deaths (Total des Décès) : A un effet négatif dans les classes 4 et 5, suggérant que des catastrophes avec un plus grand nombre de décès sont moins susceptibles de correspondre à ces classes. A un effet positif mais faible dans les classes 6, 7, et 8.\n",
    "=>Total_Affected (Total des Personnes Affectées) : A un effet positif sur la probabilité d’appartenir à toutes les classes, avec un impact particulièrement marqué dans les classes de magnitudes plus élevées.\n",
    "=>Total_Damages (Total des Dommages) : A également un effet positif sur la probabilité d’appartenir à toutes les classes, avec un effet linéaire et similaire dans toutes les classes.\n",
    "=> Ces interprétations montrent comment ces variables affectent la probabilité de classes spécifiques de catastrophes, et cela peut être utile pour comprendre les relations entre la taille d'une catastrophe (en termes de décès, affectés, et dommages) et la probabilité d'une certaine classification de magnitude.**\n",
    "\n"
   ]
  },
  {
   "cell_type": "markdown",
   "id": "395593a1-8b9e-4761-bb71-27821c8b80a8",
   "metadata": {},
   "source": [
    "### <font color=green>3) a) Etudier la stationarité des variables:  Dis Mag value,  nombre total de décès,  total affecté et total des dommages."
   ]
  },
  {
   "cell_type": "markdown",
   "id": "79f8ce74-97f6-4100-bd63-bf0357d4da74",
   "metadata": {},
   "source": [
    "### <font color=blue>**Les testes de stationnarité:**"
   ]
  },
  {
   "cell_type": "code",
   "execution_count": 49,
   "id": "c06ac593-0eef-4aba-8b14-aff8eb04a64a",
   "metadata": {
    "collapsed": true,
    "jupyter": {
     "outputs_hidden": true
    }
   },
   "outputs": [
    {
     "name": "stderr",
     "output_type": "stream",
     "text": [
      "Installation du package dans 'C:/Users/USER/AppData/Local/R/win-library/4.3'\n",
      "(car 'lib' n'est pas spécifié)\n",
      "\n",
      "installation des dépendances 'xts', 'TTR', 'quadprog', 'quantmod'\n",
      "\n",
      "\n"
     ]
    },
    {
     "name": "stdout",
     "output_type": "stream",
     "text": [
      "le package 'xts' a été décompressé et les sommes MD5 ont été vérifiées avec succés\n",
      "le package 'TTR' a été décompressé et les sommes MD5 ont été vérifiées avec succés\n",
      "le package 'quadprog' a été décompressé et les sommes MD5 ont été vérifiées avec succés\n",
      "le package 'quantmod' a été décompressé et les sommes MD5 ont été vérifiées avec succés\n",
      "le package 'tseries' a été décompressé et les sommes MD5 ont été vérifiées avec succés\n",
      "\n",
      "Les packages binaires téléchargés sont dans\n",
      "\tC:\\Users\\USER\\AppData\\Local\\Temp\\RtmpMFabeY\\downloaded_packages\n"
     ]
    }
   ],
   "source": [
    "install.packages(\"tseries\")"
   ]
  },
  {
   "cell_type": "code",
   "execution_count": 97,
   "id": "b3cc352b-a68a-4db5-b167-bf93d3be9979",
   "metadata": {},
   "outputs": [],
   "source": [
    "library(tseries)\n"
   ]
  },
  {
   "cell_type": "code",
   "execution_count": 53,
   "id": "507166cc-e1fb-48ac-b2a3-b3dc52fc02cd",
   "metadata": {},
   "outputs": [
    {
     "name": "stderr",
     "output_type": "stream",
     "text": [
      "Warning message in adf.test(data1$Dis_Mag_Value):\n",
      "\"p-value smaller than printed p-value\"\n"
     ]
    },
    {
     "data": {
      "text/plain": [
       "\n",
       "\tAugmented Dickey-Fuller Test\n",
       "\n",
       "data:  data1$Dis_Mag_Value\n",
       "Dickey-Fuller = -4.2359, Lag order = 4, p-value = 0.01\n",
       "alternative hypothesis: stationary\n"
      ]
     },
     "metadata": {},
     "output_type": "display_data"
    }
   ],
   "source": [
    "adf.test(data1$Dis_Mag_Value)"
   ]
  },
  {
   "cell_type": "markdown",
   "id": "dd075a98-8363-46ed-bb11-093df8b07412",
   "metadata": {},
   "source": [
    "### <font color=blue>intérpretation:\n",
    "#### H0:\"Mag value n'est pas stationnaire\"\n",
    "#### H1:\"Mag value est stationnaire\"\n",
    "#### p-value=0.01<0.05\n",
    "#### Lag order = 4 : Cela indique que le modèle ADF utilise 4 retards (lags) dans son calcul. Cela peut être ajusté selon le nombre de périodes passées utilisées pour modéliser les relations temporelles dans les données.\n",
    "#### <font color=red> On accepte H1 Donc la variabe Dis Mag value est stationnaire :la série temporelle est stationnaire d'ordre 0, c'est-à-dire qu'elle a une moyenne, une variance et une covariance constantes dans le temps."
   ]
  },
  {
   "cell_type": "code",
   "execution_count": 109,
   "id": "354a03bd-b823-4259-a733-7c3cb5191e68",
   "metadata": {},
   "outputs": [
    {
     "name": "stderr",
     "output_type": "stream",
     "text": [
      "Warning message in adf.test(data1$Total_Deaths):\n",
      "\"p-value smaller than printed p-value\"\n"
     ]
    },
    {
     "data": {
      "text/plain": [
       "\n",
       "\tAugmented Dickey-Fuller Test\n",
       "\n",
       "data:  data1$Total_Deaths\n",
       "Dickey-Fuller = -4.8164, Lag order = 4, p-value = 0.01\n",
       "alternative hypothesis: stationary\n"
      ]
     },
     "metadata": {},
     "output_type": "display_data"
    }
   ],
   "source": [
    "adf.test(data1$Total_Deaths)"
   ]
  },
  {
   "cell_type": "markdown",
   "id": "7b60e6d2-6ce7-4132-8d57-7dd75ff5cead",
   "metadata": {},
   "source": [
    "### <font color=blue>intérpretation:\n",
    "#### H0:\"Total_Deaths n'est pas stationnaire\"\n",
    "#### H1:\"Total_Deaths est stationnaire\"\n",
    "#### p-value=0.01<0.05\n",
    "#### Lag order = 4 : Cela indique que le modèle ADF utilise 4 retards (lags) dans son calcul. Cela peut être ajusté selon le nombre de périodes passées utilisées pour modéliser les relations temporelles dans les données.\n",
    "#### <font color=red> On accepte H1 Donc la variabe Total_Deaths value est stationnaire :la série temporelle est stationnaire d'ordre 0, c'est-à-dire qu'elle a une moyenne, une variance et une covariance constantes dans le temps."
   ]
  },
  {
   "cell_type": "code",
   "execution_count": 69,
   "id": "28a313ed-cbc9-4bb8-a817-a49e306418e1",
   "metadata": {},
   "outputs": [
    {
     "name": "stderr",
     "output_type": "stream",
     "text": [
      "Warning message in adf.test(data1$Total_Affected):\n",
      "\"p-value smaller than printed p-value\"\n"
     ]
    },
    {
     "data": {
      "text/plain": [
       "\n",
       "\tAugmented Dickey-Fuller Test\n",
       "\n",
       "data:  data1$Total_Affected\n",
       "Dickey-Fuller = -4.0487, Lag order = 4, p-value = 0.01\n",
       "alternative hypothesis: stationary\n"
      ]
     },
     "metadata": {},
     "output_type": "display_data"
    }
   ],
   "source": [
    "adf.test(data1$Total_Affected)\n"
   ]
  },
  {
   "cell_type": "markdown",
   "id": "88a83259-63c3-4893-ace5-936cdba21286",
   "metadata": {},
   "source": [
    "### <font color=blue>intérpretation:\n",
    "#### H0:\"Total_Affected n'est pas stationnaire\"\n",
    "#### H1:\"Total_Affected est stationnaire\"\n",
    "#### p-value=0.01<0.05\n",
    "#### Lag order = 4 : Cela indique que le modèle ADF utilise 4 retards (lags) dans son calcul. Cela peut être ajusté selon le nombre de périodes passées utilisées pour modéliser les relations temporelles dans les données.\n",
    "#### <font color=red> On accepte H1 Donc la variabe Total_Affected value est stationnaire :la série temporelle est stationnaire d'ordre 0, c'est-à-dire qu'elle a une moyenne, une variance et une covariance constantes dans le temps."
   ]
  },
  {
   "cell_type": "code",
   "execution_count": 72,
   "id": "7d271319-ff1d-4852-a11f-ce80ecf456e1",
   "metadata": {},
   "outputs": [
    {
     "name": "stderr",
     "output_type": "stream",
     "text": [
      "Warning message in adf.test(data1$Total_Damages):\n",
      "\"p-value smaller than printed p-value\"\n"
     ]
    },
    {
     "data": {
      "text/plain": [
       "\n",
       "\tAugmented Dickey-Fuller Test\n",
       "\n",
       "data:  data1$Total_Damages\n",
       "Dickey-Fuller = -5.2938, Lag order = 4, p-value = 0.01\n",
       "alternative hypothesis: stationary\n"
      ]
     },
     "metadata": {},
     "output_type": "display_data"
    }
   ],
   "source": [
    "adf.test(data1$Total_Damages)"
   ]
  },
  {
   "cell_type": "markdown",
   "id": "f01b7970-4482-4fad-9350-eed53c135741",
   "metadata": {},
   "source": [
    "### <font color=blue>intérpretation:\n",
    "#### H0:\"Total_Damages n'est pas stationnaire\"\n",
    "#### H1:\"Total_Damages est stationnaire\"\n",
    "#### p-value=0.01<0.05\n",
    "#### Lag order = 4 : Cela indique que le modèle ADF utilise 4 retards (lags) dans son calcul. Cela peut être ajusté selon le nombre de périodes passées utilisées pour modéliser les relations temporelles dans les données.\n",
    "#### <font color=red> On accepte H1 Donc la variabe Total_Damages value est stationnaire :la série temporelle est stationnaire d'ordre 0, c'est-à-dire qu'elle a une moyenne, une variance et une covariance constantes dans le temps."
   ]
  },
  {
   "cell_type": "markdown",
   "id": "fecdf4b4-4f54-4ab8-90ae-e14f47823ad4",
   "metadata": {},
   "source": [
    "### <font color=green>b)  Expliquer la variable Dis Mag value en fonction des variables nombre total de décès, total affecté et total des dommages.\n"
   ]
  },
  {
   "cell_type": "markdown",
   "id": "98fc4f0b-ee7b-4e92-bdb3-ec2d1ae4fa6d",
   "metadata": {},
   "source": [
    "### <font color=blue>**Le modèle VAR (Vector AutoRegression)**"
   ]
  },
  {
   "cell_type": "markdown",
   "id": "18cc9a7a-cb8f-4b70-be69-e81deb690bde",
   "metadata": {},
   "source": [
    "<font color=green> Choix du modéle: \n",
    "<font color=black> Dans ce travail, j'ai utilisé <font color=red> Le modèle VAR <font color=black>car tous les variables Dis Mag value, nombre total de décès, total affecté et total des dommages sont <font color=red> des variables stationnaire d'ordre 0 <font color=black>.Le modèle VAR (Vector AutoRegression) est utilisé pour modéliser et analyser les relations entre plusieurs séries temporelles interconnectées."
   ]
  },
  {
   "cell_type": "code",
   "execution_count": 2,
   "id": "06171541-8a97-477b-9166-476eb03e7286",
   "metadata": {},
   "outputs": [
    {
     "name": "stderr",
     "output_type": "stream",
     "text": [
      "Installation du package dans 'C:/Users/USER/AppData/Local/R/win-library/4.3'\n",
      "(car 'lib' n'est pas spécifié)\n",
      "\n",
      "installation des dépendances 'strucchange', 'urca', 'sandwich'\n",
      "\n",
      "\n"
     ]
    },
    {
     "name": "stdout",
     "output_type": "stream",
     "text": [
      "le package 'strucchange' a été décompressé et les sommes MD5 ont été vérifiées avec succés\n",
      "le package 'urca' a été décompressé et les sommes MD5 ont été vérifiées avec succés\n",
      "le package 'sandwich' a été décompressé et les sommes MD5 ont été vérifiées avec succés\n",
      "le package 'vars' a été décompressé et les sommes MD5 ont été vérifiées avec succés\n",
      "\n",
      "Les packages binaires téléchargés sont dans\n",
      "\tC:\\Users\\USER\\AppData\\Local\\Temp\\RtmpE7jJCw\\downloaded_packages\n"
     ]
    }
   ],
   "source": [
    "install.packages(\"vars\")"
   ]
  },
  {
   "cell_type": "code",
   "execution_count": 6,
   "id": "d687aef7-4dd4-4447-a147-f7c33a9e7367",
   "metadata": {},
   "outputs": [],
   "source": [
    "library(vars)"
   ]
  },
  {
   "cell_type": "markdown",
   "id": "eb36a4fd-f19d-4edd-868b-080236e76410",
   "metadata": {},
   "source": [
    "### <font color=purple> Sélection de l’ordre du modèle VAR\n",
    "\n",
    "Déterminez le nombre de retards (lags) à inclure dans le modèle à l’aide de critères comme AIC (Akaike Information Criterion) ou BIC (Bayesian Information Criterion)."
   ]
  },
  {
   "cell_type": "code",
   "execution_count": 16,
   "id": "12d5e609-3ae4-4a0b-b18a-1b1b0f102958",
   "metadata": {},
   "outputs": [
    {
     "name": "stdout",
     "output_type": "stream",
     "text": [
      "$selection\n",
      "AIC(n)  HQ(n)  SC(n) FPE(n) \n",
      "     1      1      1      1 \n",
      "\n",
      "$criteria\n",
      "                  1            2            3            4            5\n",
      "AIC(n) 7.596636e+01 7.610007e+01 7.623456e+01 7.648174e+01 7.674301e+01\n",
      "HQ(n)  7.628643e+01 7.668687e+01 7.708809e+01 7.760199e+01 7.812999e+01\n",
      "SC(n)  7.675767e+01 7.755082e+01 7.834474e+01 7.925135e+01 8.017205e+01\n",
      "FPE(n) 9.819799e+32 1.126946e+33 1.302127e+33 1.699217e+33 2.276689e+33\n",
      "                  6            7            8            9           10\n",
      "AIC(n) 7.699193e+01 7.723591e+01 7.737594e+01 7.747201e+01 7.756892e+01\n",
      "HQ(n)  7.864563e+01 7.915634e+01 7.956309e+01 7.992589e+01 8.028953e+01\n",
      "SC(n)  8.108040e+01 8.198381e+01 8.278327e+01 8.353877e+01 8.429511e+01\n",
      "FPE(n) 3.061651e+33 4.181450e+33 5.280749e+33 6.590796e+33 8.572216e+33\n",
      "\n"
     ]
    }
   ],
   "source": [
    "# Sélection du lag optimal avec les données brutes\n",
    "lag_selection <- VARselect(data1, lag.max = 10, type = \"const\")\n",
    "print(lag_selection)\n"
   ]
  },
  {
   "cell_type": "markdown",
   "id": "6000a978-ef77-4da4-b5df-31abece73e05",
   "metadata": {},
   "source": [
    "### <font color=purple> **intérpretation:**\n",
    "\n",
    "Les critères de sélection des retards (AIC, HQ, SC, et FPE) ont tous indiqué que <font color=red> le nombre optimal de retards pour le modèle est 1,<font color=black> ce qui signifie que les variables explicatives doivent inclure les valeurs retardées d’une période<font color=red> (lag 1)."
   ]
  },
  {
   "cell_type": "markdown",
   "id": "77bb078a-a2fa-4f79-a685-ce4526ba2c22",
   "metadata": {},
   "source": [
    " ### <font color=purple> **Construction du modèle VAR** \n",
    "Une fois les séries stationnaires et le lag optimal déterminé, on peut construire le modèle VAR. Ce modèle explique chaque variable en fonction des valeurs passées de toutes les variables, y compris elle-même."
   ]
  },
  {
   "cell_type": "code",
   "execution_count": 20,
   "id": "c464d76e-0575-47cf-a4ee-9277cf1d791d",
   "metadata": {},
   "outputs": [],
   "source": [
    "# Ajustement du modèle VAR avec le lag optimal (1)\n",
    "var_model <- VAR(data1, p = 1, type = \"const\")\n"
   ]
  },
  {
   "cell_type": "code",
   "execution_count": 22,
   "id": "42ab0847-29be-43d3-8375-3909f2dfdf40",
   "metadata": {},
   "outputs": [
    {
     "data": {
      "text/plain": [
       "\n",
       "VAR Estimation Results:\n",
       "========================= \n",
       "Endogenous variables: Continente, Dis.Mag.Value, nombre.total.de.décès, Total.Affecté, Total.des.dommages...000.US... \n",
       "Deterministic variables: const \n",
       "Sample size: 107 \n",
       "Log Likelihood: -4775.82 \n",
       "Roots of the characteristic polynomial:\n",
       "0.2005 0.2005 0.111 0.111 0.1021\n",
       "Call:\n",
       "VAR(y = data1, p = 1, type = \"const\")\n",
       "\n",
       "\n",
       "Estimation results for equation Continente: \n",
       "=========================================== \n",
       "Continente = Continente.l1 + Dis.Mag.Value.l1 + nombre.total.de.décès.l1 + Total.Affecté.l1 + Total.des.dommages...000.US....l1 + const \n",
       "\n",
       "                                    Estimate Std. Error t value Pr(>|t|)\n",
       "Continente.l1                      4.392e-02  1.041e-01   0.422    0.674\n",
       "Dis.Mag.Value.l1                   1.401e-01  1.123e-01   1.247    0.215\n",
       "nombre.total.de.décès.l1           4.594e-07  4.594e-06   0.100    0.921\n",
       "Total.Affecté.l1                  -1.807e-08  1.736e-07  -0.104    0.917\n",
       "Total.des.dommages...000.US....l1  8.380e-08  5.142e-08   1.630    0.106\n",
       "const                              1.013e+00  8.458e-01   1.197    0.234\n",
       "\n",
       "\n",
       "Residual standard error: 1.086 on 101 degrees of freedom\n",
       "Multiple R-Squared: 0.04067,\tAdjusted R-squared: -0.006817 \n",
       "F-statistic: 0.8565 on 5 and 101 DF,  p-value: 0.5132 \n",
       "\n",
       "\n",
       "Estimation results for equation Dis.Mag.Value: \n",
       "============================================== \n",
       "Dis.Mag.Value = Continente.l1 + Dis.Mag.Value.l1 + nombre.total.de.décès.l1 + Total.Affecté.l1 + Total.des.dommages...000.US....l1 + const \n",
       "\n",
       "                                    Estimate Std. Error t value Pr(>|t|)    \n",
       "Continente.l1                      1.579e-01  9.977e-02   1.583    0.117    \n",
       "Dis.Mag.Value.l1                   5.993e-02  1.077e-01   0.557    0.579    \n",
       "nombre.total.de.décès.l1           5.732e-06  4.403e-06   1.302    0.196    \n",
       "Total.Affecté.l1                  -2.595e-08  1.664e-07  -0.156    0.876    \n",
       "Total.des.dommages...000.US....l1 -1.845e-08  4.929e-08  -0.374    0.709    \n",
       "const                              5.926e+00  8.107e-01   7.309 6.45e-11 ***\n",
       "---\n",
       "Signif. codes:  0 '***' 0.001 '**' 0.01 '*' 0.05 '.' 0.1 ' ' 1\n",
       "\n",
       "\n",
       "Residual standard error: 1.041 on 101 degrees of freedom\n",
       "Multiple R-Squared: 0.03855,\tAdjusted R-squared: -0.009046 \n",
       "F-statistic: 0.8099 on 5 and 101 DF,  p-value: 0.5452 \n",
       "\n",
       "\n",
       "Estimation results for equation nombre.total.de.décès: \n",
       "====================================================== \n",
       "nombre.total.de.décès = Continente.l1 + Dis.Mag.Value.l1 + nombre.total.de.décès.l1 + Total.Affecté.l1 + Total.des.dommages...000.US....l1 + const \n",
       "\n",
       "                                    Estimate Std. Error t value Pr(>|t|)\n",
       "Continente.l1                     -1.784e+02  2.371e+03  -0.075    0.940\n",
       "Dis.Mag.Value.l1                   1.101e+03  2.559e+03   0.430    0.668\n",
       "nombre.total.de.décès.l1           7.660e-02  1.046e-01   0.732    0.466\n",
       "Total.Affecté.l1                  -2.547e-03  3.955e-03  -0.644    0.521\n",
       "Total.des.dommages...000.US....l1 -2.747e-04  1.171e-03  -0.234    0.815\n",
       "const                             -2.709e+03  1.927e+04  -0.141    0.888\n",
       "\n",
       "\n",
       "Residual standard error: 24750 on 101 degrees of freedom\n",
       "Multiple R-Squared: 0.01073,\tAdjusted R-squared: -0.03824 \n",
       "F-statistic: 0.2192 on 5 and 101 DF,  p-value: 0.9536 \n",
       "\n",
       "\n",
       "Estimation results for equation Total.Affecté: \n",
       "============================================== \n",
       "Total.Affecté = Continente.l1 + Dis.Mag.Value.l1 + nombre.total.de.décès.l1 + Total.Affecté.l1 + Total.des.dommages...000.US....l1 + const \n",
       "\n",
       "                                    Estimate Std. Error t value Pr(>|t|)    \n",
       "Continente.l1                     -2.017e+04  4.413e+04  -0.457   0.6485    \n",
       "Dis.Mag.Value.l1                   8.617e+03  4.762e+04   0.181   0.8568    \n",
       "nombre.total.de.décès.l1           1.899e+01  1.947e+00   9.754 3.13e-16 ***\n",
       "Total.Affecté.l1                  -1.405e-01  7.360e-02  -1.909   0.0591 .  \n",
       "Total.des.dommages...000.US....l1 -3.283e-03  2.180e-02  -0.151   0.8806    \n",
       "const                              1.260e+05  3.585e+05   0.351   0.7260    \n",
       "---\n",
       "Signif. codes:  0 '***' 0.001 '**' 0.01 '*' 0.05 '.' 0.1 ' ' 1\n",
       "\n",
       "\n",
       "Residual standard error: 460500 on 101 degrees of freedom\n",
       "Multiple R-Squared: 0.507,\tAdjusted R-squared: 0.4826 \n",
       "F-statistic: 20.77 on 5 and 101 DF,  p-value: 3.207e-14 \n",
       "\n",
       "\n",
       "Estimation results for equation Total.des.dommages...000.US...: \n",
       "=============================================================== \n",
       "Total.des.dommages...000.US... = Continente.l1 + Dis.Mag.Value.l1 + nombre.total.de.décès.l1 + Total.Affecté.l1 + Total.des.dommages...000.US....l1 + const \n",
       "\n",
       "                                    Estimate Std. Error t value Pr(>|t|)  \n",
       "Continente.l1                     -3.674e+05  2.037e+05  -1.803   0.0743 .\n",
       "Dis.Mag.Value.l1                  -3.277e+05  2.199e+05  -1.491   0.1391  \n",
       "nombre.total.de.décès.l1           2.480e+00  8.990e+00   0.276   0.7832  \n",
       "Total.Affecté.l1                  -3.215e-02  3.398e-01  -0.095   0.9248  \n",
       "Total.des.dommages...000.US....l1 -3.739e-02  1.006e-01  -0.371   0.7111  \n",
       "const                              3.519e+06  1.655e+06   2.126   0.0360 *\n",
       "---\n",
       "Signif. codes:  0 '***' 0.001 '**' 0.01 '*' 0.05 '.' 0.1 ' ' 1\n",
       "\n",
       "\n",
       "Residual standard error: 2126000 on 101 degrees of freedom\n",
       "Multiple R-Squared: 0.04276,\tAdjusted R-squared: -0.004624 \n",
       "F-statistic: 0.9024 on 5 and 101 DF,  p-value: 0.4827 \n",
       "\n",
       "\n",
       "\n",
       "Covariance matrix of residuals:\n",
       "                               Continente Dis.Mag.Value nombre.total.de.décès\n",
       "Continente                      1.180e+00    -3.961e-01            -3.029e+03\n",
       "Dis.Mag.Value                  -3.961e-01     1.084e+00             4.301e+03\n",
       "nombre.total.de.décès          -3.029e+03     4.301e+03             6.124e+08\n",
       "Total.Affecté                  -3.887e+04     1.340e+05             2.134e+09\n",
       "Total.des.dommages...000.US...  9.393e+04    -1.098e+05             1.206e+10\n",
       "                               Total.Affecté Total.des.dommages...000.US...\n",
       "Continente                        -3.887e+04                      9.393e+04\n",
       "Dis.Mag.Value                      1.340e+05                     -1.098e+05\n",
       "nombre.total.de.décès              2.134e+09                      1.206e+10\n",
       "Total.Affecté                      2.121e+11                      4.708e+10\n",
       "Total.des.dommages...000.US...     4.708e+10                      4.520e+12\n",
       "\n",
       "Correlation matrix of residuals:\n",
       "                               Continente Dis.Mag.Value nombre.total.de.décès\n",
       "Continente                        1.00000      -0.35023               -0.1127\n",
       "Dis.Mag.Value                    -0.35023       1.00000                0.1669\n",
       "nombre.total.de.décès            -0.11267       0.16694                1.0000\n",
       "Total.Affecté                    -0.07770       0.27958                0.1873\n",
       "Total.des.dommages...000.US...    0.04067      -0.04959                0.2292\n",
       "                               Total.Affecté Total.des.dommages...000.US...\n",
       "Continente                          -0.07770                        0.04067\n",
       "Dis.Mag.Value                        0.27958                       -0.04959\n",
       "nombre.total.de.décès                0.18727                        0.22923\n",
       "Total.Affecté                        1.00000                        0.04809\n",
       "Total.des.dommages...000.US...       0.04809                        1.00000\n",
       "\n"
      ]
     },
     "metadata": {},
     "output_type": "display_data"
    }
   ],
   "source": [
    "# Résumé du modèle\n",
    "summary(var_model)"
   ]
  },
  {
   "cell_type": "markdown",
   "id": "ea1c3d32-449b-4bbd-bde0-fe42656e0dbc",
   "metadata": {},
   "source": [
    "### <font color=purple> Intérpretation:\n",
    " Coéfficients des variables explicatives dans l'équation de Dis_Mag_Value\n",
    "\n",
    "Dans l'équation de Dis.Mag.Value, les variables explicatives incluent Continente.l1, Dis.Mag.Value.l1, nombre.total.de.décès.l1, Total.Affecté.l1, et Total.des.dommages...000.US....l1.\n",
    "\n",
    "Les résultats des coefficients et des tests de significativité sont les suivants :\n",
    "\n",
    "Continente.l1 (lag 1) : Le coefficient est estimé à 0.1579, et le test t indique une valeur p de 0.117, <font color=red>ce qui suggère que cette variable n'est pas significativement liée à Dis.Mag.Value (au niveau de signification de 5%). Cela signifie que la région continentale n'a pas d'effet significatif sur la valeur des catastrophes dans ce modèle.\n",
    "\n",
    "Dis.Mag.Value.l1 (lag 1) : Le coefficient est de 0.0599, avec une valeur p de 0.579,<font color=red> ce qui indique également qu'il n'y a pas d'effet significatif de la valeur de la catastrophe dans la période précédente sur la valeur actuelle de la catastrophe.\n",
    "\n",
    "nombre.total.de.décès.l1 (lag 1) : Le coefficient est de 0.000005732, avec une valeur p de 0.196, <font color=red>ce qui indique que cette variable n'a pas un effet statistiquement significatif sur Dis.Mag.Value à un niveau de 5%.\n",
    "\n",
    "Total.Affecté.l1 (lag 1) : Le coefficient est de -0.00000002595, avec une valeur p de 0.876,<font color=red> indiquant que le nombre de personnes affectées dans la période précédente n'a pas d'impact significatif sur la valeur de la catastrophe actuelle.\n",
    "\n",
    "Total.des.dommages...000.US....l1 (lag 1) : Le coefficient est de -0.00000001845, avec une valeur p de 0.709,<font color=red> ce qui montre également qu'il n'y a pas de relation significative entre le total des dommages en dollars dans la période précédente et la valeur de la catastrophe actuelle.\n",
    "\n",
    "\n",
    "**=>Aucune des variables explicatives nombre total de décès, total affecté, et total des dommages n'a une relation significative avec Dis.Mag.Value selon les résultats de ce modèle VAR. Toutes ces variables ont des valeurs p supérieures à 0.05, ce qui signifie qu'elles n'ont pas d'impact statistiquement significatif sur la valeur de la catastrophe dans le modèle considéré.\n",
    "Cela peut indiquer que, dans le contexte des données utilisées, la valeur des catastrophes n'est pas directement influencée par ces facteurs dans la période suivante. Il peut être nécessaire de réexaminer le modèle en ajoutant d'autres variables ou en modifiant les lags (retards) pour mieux capturer les relations entre ces variables.**"
   ]
  },
  {
   "cell_type": "markdown",
   "id": "26421e6b-bda6-4b1a-9204-8e0e838fcf4a",
   "metadata": {},
   "source": [
    "# **<font color=red>Conclusion Globale**\n",
    "\n",
    "Dans le cadre de ce projet de prévision, il est essentiel de souligner que la performance d'un modèle de prévision dépend directement de la pertinence et de l'adaptation des modèles aux données disponibles, ainsi qu'à la nature de la variable cible. Chaque ensemble de données possède des caractéristiques uniques (par exemple, distribution des variables, présence de valeurs manquantes ou extrêmes, etc.) et des objectifs de prévision spécifiques. En conséquence, il est crucial de choisir un modèle qui soit bien adapté à ces spécificités, qu'il s'agisse d'une régression, d'un modèle de classification ou d'un autre type d'algorithme.\n",
    "\n",
    "Lors de l'évaluation des modèles, il est primordial d'examiner les résultats des tests d'hypothèses ainsi que les métriques de performance (telles que la précision, le rappel, l'AUC, etc.). Si ces tests révèlent que les hypothèses sous-jacentes du modèle sont invalides ou que les métriques sont insatisfaisantes, il est nécessaire d'envisager des corrections ou des ajustements. Ces ajustements peuvent prendre la forme de modifications dans le prétraitement des données, l'ajout ou la suppression de variables explicatives, l'amélioration de la qualité des données ou même la réévaluation des choix méthodologiques.\n",
    "\n",
    "Dans certains cas, lorsque les résultats restent insuffisants malgré des ajustements, il peut être nécessaire de changer complètement de modèle. Par exemple, un modèle qui ne capte pas correctement la structure des données pourrait être remplacé par un autre plus performant, comme un modèle de machine learning plus complexe (forêts aléatoires, gradient boosting, réseaux de neurones, etc.) ou un modèle adapté à la nature de la variable cible (si elle est catégorielle ou continue).\n",
    "\n",
    "En conclusion, le choix du modèle doit être un processus dynamique et itératif. Il doit être ajusté en fonction des données disponibles, des hypothèses de travail et des résultats des tests. L'objectif ultime étant d'obtenir un modèle robuste, fiable et capable de fournir des prévisions précises et significatives.\n"
   ]
  },
  {
   "cell_type": "markdown",
   "id": "75465a05-0393-40fb-86db-8475787b76ed",
   "metadata": {},
   "source": [
    "# **<center><font color=red>FIN**\n",
    "### **<center><font color=purple>Merci pour votre attention!**"
   ]
  },
  {
   "cell_type": "code",
   "execution_count": null,
   "id": "37cfca0d-ad83-4565-bfec-e021484e7d9b",
   "metadata": {},
   "outputs": [],
   "source": []
  }
 ],
 "metadata": {
  "kernelspec": {
   "display_name": "R",
   "language": "R",
   "name": "ir"
  },
  "language_info": {
   "codemirror_mode": "r",
   "file_extension": ".r",
   "mimetype": "text/x-r-source",
   "name": "R",
   "pygments_lexer": "r",
   "version": "4.3.2"
  }
 },
 "nbformat": 4,
 "nbformat_minor": 5
}
